{
 "cells": [
  {
   "cell_type": "markdown",
   "id": "f2a47fbd",
   "metadata": {},
   "source": [
    "# 종목코드"
   ]
  },
  {
   "cell_type": "markdown",
   "id": "75df7df8",
   "metadata": {},
   "source": [
    "## Load1"
   ]
  },
  {
   "cell_type": "code",
   "execution_count": 1,
   "id": "9f28894e",
   "metadata": {},
   "outputs": [
    {
     "data": {
      "text/html": [
       "<div>\n",
       "<style scoped>\n",
       "    .dataframe tbody tr th:only-of-type {\n",
       "        vertical-align: middle;\n",
       "    }\n",
       "\n",
       "    .dataframe tbody tr th {\n",
       "        vertical-align: top;\n",
       "    }\n",
       "\n",
       "    .dataframe thead th {\n",
       "        text-align: right;\n",
       "    }\n",
       "</style>\n",
       "<table border=\"1\" class=\"dataframe\">\n",
       "  <thead>\n",
       "    <tr style=\"text-align: right;\">\n",
       "      <th></th>\n",
       "      <th>회사명</th>\n",
       "      <th>종목코드</th>\n",
       "      <th>업종</th>\n",
       "      <th>주요제품</th>\n",
       "      <th>상장일</th>\n",
       "      <th>결산월</th>\n",
       "      <th>대표자명</th>\n",
       "      <th>홈페이지</th>\n",
       "      <th>지역</th>\n",
       "    </tr>\n",
       "  </thead>\n",
       "  <tbody>\n",
       "    <tr>\n",
       "      <th>0</th>\n",
       "      <td>DL</td>\n",
       "      <td>000210</td>\n",
       "      <td>기타 금융업</td>\n",
       "      <td>지주회사</td>\n",
       "      <td>1976-02-02</td>\n",
       "      <td>12월</td>\n",
       "      <td>전병욱</td>\n",
       "      <td>http://www.dlholdings.co.kr</td>\n",
       "      <td>서울특별시</td>\n",
       "    </tr>\n",
       "    <tr>\n",
       "      <th>1</th>\n",
       "      <td>DRB동일</td>\n",
       "      <td>004840</td>\n",
       "      <td>고무제품 제조업</td>\n",
       "      <td>고무벨트(V벨트,콘베이어벨트,평벨트),프라스틱제품 제조,판매</td>\n",
       "      <td>1976-05-21</td>\n",
       "      <td>12월</td>\n",
       "      <td>류영식</td>\n",
       "      <td>http://drbworld.com</td>\n",
       "      <td>부산광역시</td>\n",
       "    </tr>\n",
       "    <tr>\n",
       "      <th>2</th>\n",
       "      <td>DSR</td>\n",
       "      <td>155660</td>\n",
       "      <td>1차 비철금속 제조업</td>\n",
       "      <td>합섬섬유로프</td>\n",
       "      <td>2013-05-15</td>\n",
       "      <td>12월</td>\n",
       "      <td>홍석빈</td>\n",
       "      <td>http://www.dsr.com</td>\n",
       "      <td>부산광역시</td>\n",
       "    </tr>\n",
       "  </tbody>\n",
       "</table>\n",
       "</div>"
      ],
      "text/plain": [
       "     회사명    종목코드           업종                               주요제품         상장일  \\\n",
       "0     DL  000210       기타 금융업                               지주회사  1976-02-02   \n",
       "1  DRB동일  004840     고무제품 제조업  고무벨트(V벨트,콘베이어벨트,평벨트),프라스틱제품 제조,판매  1976-05-21   \n",
       "2    DSR  155660  1차 비철금속 제조업                             합섬섬유로프  2013-05-15   \n",
       "\n",
       "   결산월 대표자명                         홈페이지     지역  \n",
       "0  12월  전병욱  http://www.dlholdings.co.kr  서울특별시  \n",
       "1  12월  류영식          http://drbworld.com  부산광역시  \n",
       "2  12월  홍석빈           http://www.dsr.com  부산광역시  "
      ]
     },
     "execution_count": 1,
     "metadata": {},
     "output_type": "execute_result"
    }
   ],
   "source": [
    "import pandas as pd\n",
    "df = pd.read_csv('./database/stock_code.csv', dtype={'종목코드':str})\n",
    "df.head(3)"
   ]
  },
  {
   "cell_type": "code",
   "execution_count": 2,
   "id": "a4247dcb",
   "metadata": {},
   "outputs": [
    {
     "data": {
      "text/plain": [
       "2500"
      ]
     },
     "execution_count": 2,
     "metadata": {},
     "output_type": "execute_result"
    }
   ],
   "source": [
    "len(df)"
   ]
  },
  {
   "cell_type": "markdown",
   "id": "27d02708",
   "metadata": {},
   "source": [
    "## Load2"
   ]
  },
  {
   "cell_type": "code",
   "execution_count": 3,
   "id": "2e481987",
   "metadata": {},
   "outputs": [
    {
     "data": {
      "text/html": [
       "<div>\n",
       "<style scoped>\n",
       "    .dataframe tbody tr th:only-of-type {\n",
       "        vertical-align: middle;\n",
       "    }\n",
       "\n",
       "    .dataframe tbody tr th {\n",
       "        vertical-align: top;\n",
       "    }\n",
       "\n",
       "    .dataframe thead th {\n",
       "        text-align: right;\n",
       "    }\n",
       "</style>\n",
       "<table border=\"1\" class=\"dataframe\">\n",
       "  <thead>\n",
       "    <tr style=\"text-align: right;\">\n",
       "      <th></th>\n",
       "      <th>회사명</th>\n",
       "      <th>종목코드</th>\n",
       "      <th>업종</th>\n",
       "      <th>주요제품</th>\n",
       "      <th>상장일</th>\n",
       "      <th>결산월</th>\n",
       "      <th>대표자명</th>\n",
       "      <th>홈페이지</th>\n",
       "      <th>지역</th>\n",
       "    </tr>\n",
       "  </thead>\n",
       "  <tbody>\n",
       "    <tr>\n",
       "      <th>0</th>\n",
       "      <td>DRB동일</td>\n",
       "      <td>4840</td>\n",
       "      <td>고무제품 제조업</td>\n",
       "      <td>고무벨트(V벨트,콘베이어벨트,평벨트),프라스틱제품 제조,판매</td>\n",
       "      <td>1976-05-21</td>\n",
       "      <td>12월</td>\n",
       "      <td>류영식</td>\n",
       "      <td>http://drbworld.com</td>\n",
       "      <td>부산광역시</td>\n",
       "    </tr>\n",
       "    <tr>\n",
       "      <th>1</th>\n",
       "      <td>DSR</td>\n",
       "      <td>155660</td>\n",
       "      <td>1차 비철금속 제조업</td>\n",
       "      <td>합섬섬유로프</td>\n",
       "      <td>2013-05-15</td>\n",
       "      <td>12월</td>\n",
       "      <td>홍석빈</td>\n",
       "      <td>http://www.dsr.com</td>\n",
       "      <td>부산광역시</td>\n",
       "    </tr>\n",
       "    <tr>\n",
       "      <th>2</th>\n",
       "      <td>GS</td>\n",
       "      <td>78930</td>\n",
       "      <td>기타 금융업</td>\n",
       "      <td>지주회사/부동산 임대</td>\n",
       "      <td>2004-08-05</td>\n",
       "      <td>12월</td>\n",
       "      <td>허태수, 홍순기 (각자 대표이사)</td>\n",
       "      <td>NaN</td>\n",
       "      <td>서울특별시</td>\n",
       "    </tr>\n",
       "  </tbody>\n",
       "</table>\n",
       "</div>"
      ],
      "text/plain": [
       "     회사명    종목코드           업종                               주요제품         상장일  \\\n",
       "0  DRB동일    4840     고무제품 제조업  고무벨트(V벨트,콘베이어벨트,평벨트),프라스틱제품 제조,판매  1976-05-21   \n",
       "1    DSR  155660  1차 비철금속 제조업                             합섬섬유로프  2013-05-15   \n",
       "2     GS   78930       기타 금융업                        지주회사/부동산 임대  2004-08-05   \n",
       "\n",
       "   결산월                대표자명                 홈페이지     지역  \n",
       "0  12월                 류영식  http://drbworld.com  부산광역시  \n",
       "1  12월                 홍석빈   http://www.dsr.com  부산광역시  \n",
       "2  12월  허태수, 홍순기 (각자 대표이사)                  NaN  서울특별시  "
      ]
     },
     "execution_count": 3,
     "metadata": {},
     "output_type": "execute_result"
    }
   ],
   "source": [
    "df = pd.read_html('http://kind.krx.co.kr/corpgeneral/corpList.do?method=download')[0]\n",
    "df.head(3)"
   ]
  },
  {
   "cell_type": "code",
   "execution_count": 4,
   "id": "8777dfb6",
   "metadata": {},
   "outputs": [
    {
     "data": {
      "text/plain": [
       "2577"
      ]
     },
     "execution_count": 4,
     "metadata": {},
     "output_type": "execute_result"
    }
   ],
   "source": [
    "len(df)"
   ]
  },
  {
   "cell_type": "markdown",
   "id": "c74868fb",
   "metadata": {},
   "source": [
    "## Match\n",
    "Matching ```firm name``` and ```firm code```\\.       \n",
    "Converting ```firm name``` to ```firm code```."
   ]
  },
  {
   "cell_type": "code",
   "execution_count": 4,
   "id": "18802815",
   "metadata": {},
   "outputs": [
    {
     "name": "stdout",
     "output_type": "stream",
     "text": [
      "['028300', '068270']\n"
     ]
    }
   ],
   "source": [
    "firm_names = ['HLB','셀트리온']\n",
    "firm_codes = []\n",
    "for firm_name in firm_names:\n",
    "    firm_code = df[df['회사명'] == firm_name]['종목코드'].to_string(index=False)\n",
    "    firm_codes.append(firm_code)\n",
    "print(firm_codes)"
   ]
  },
  {
   "cell_type": "markdown",
   "id": "025348d1",
   "metadata": {},
   "source": [
    "## Filter\n",
    "Filtering null value."
   ]
  },
  {
   "cell_type": "code",
   "execution_count": 5,
   "id": "94fba0be",
   "metadata": {},
   "outputs": [
    {
     "name": "stdout",
     "output_type": "stream",
     "text": [
      "['028300', '068270']\n"
     ]
    }
   ],
   "source": [
    "filtered_firm_codes = [item for item in firm_codes if item != 'Series([], )']\n",
    "print(filtered_firm_codes)"
   ]
  },
  {
   "cell_type": "markdown",
   "id": "d6da883d",
   "metadata": {},
   "source": [
    "## 최종코드"
   ]
  },
  {
   "cell_type": "code",
   "execution_count": 6,
   "id": "b0d16776",
   "metadata": {},
   "outputs": [
    {
     "name": "stdout",
     "output_type": "stream",
     "text": [
      "['028300', '068270']\n"
     ]
    }
   ],
   "source": [
    "import pandas as pd\n",
    "\n",
    "def firm_codes(firm_names):\n",
    "    firm_codes = []\n",
    "    df = pd.read_csv('./database/stock_code.csv', dtype={'종목코드':str})\n",
    "\n",
    "    for firm_name in firm_names:\n",
    "        firm_code = df[df['회사명'] == firm_name]['종목코드'].to_string(index=False)\n",
    "        firm_codes.append(firm_code)\n",
    "        \n",
    "    return firm_codes\n",
    "\n",
    "def filtering_firm_codes(firm_codes):\n",
    "    filtered_firm_codes = [item for item in firm_codes if item != 'Series([], )']\n",
    "    return filtered_firm_codes\n",
    "\n",
    "firm_names = ['HLB','셀트리온']\n",
    "firm_codes = firm_codes(firm_names)\n",
    "firm_codes = filtering_firm_codes(firm_codes)\n",
    "print(firm_codes)"
   ]
  }
 ],
 "metadata": {
  "kernelspec": {
   "display_name": "Python 3 (ipykernel)",
   "language": "python",
   "name": "python3"
  },
  "language_info": {
   "codemirror_mode": {
    "name": "ipython",
    "version": 3
   },
   "file_extension": ".py",
   "mimetype": "text/x-python",
   "name": "python",
   "nbconvert_exporter": "python",
   "pygments_lexer": "ipython3",
   "version": "3.9.13"
  }
 },
 "nbformat": 4,
 "nbformat_minor": 5
}
