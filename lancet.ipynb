{
 "cells": [
  {
   "cell_type": "markdown",
   "id": "3d41e1a9",
   "metadata": {},
   "source": [
    "# Lancet"
   ]
  },
  {
   "cell_type": "code",
   "execution_count": 1,
   "id": "5630843a",
   "metadata": {},
   "outputs": [],
   "source": [
    "from datetime import datetime\n",
    "from bs4 import BeautifulSoup\n",
    "import requests"
   ]
  },
  {
   "cell_type": "code",
   "execution_count": 2,
   "id": "58d263bf",
   "metadata": {},
   "outputs": [],
   "source": [
    "def lancet(\n",
    "    query='apatinib'\n",
    "):\n",
    "    \"\"\"\n",
    "    Args:\n",
    "      query: str. \n",
    "    \n",
    "    \"\"\"\n",
    "    \n",
    "    papers = []\n",
    "    \n",
    "    url = 'https://www.thelancet.com/action/doSearch?text1='+query+'&field1=AllField'\n",
    "    res = requests.get(url)\n",
    "    soup = BeautifulSoup(res.text, 'lxml')\n",
    "    items = soup.find_all('div', {'class':'search__item__body'})\n",
    "    \n",
    "    for item in items[:10]:\n",
    "        pubdate = item.find_all('span')[-1].text[11:]\n",
    "        pubdate = datetime.strptime(pubdate, '%B %d, %Y').date()\n",
    "        \n",
    "        title = item.h4.text\n",
    "        link = 'https://www.thelancet.com'+item.a['href']\n",
    "        source = 'lancet'\n",
    "    \n",
    "        papers.append([pubdate, title, link, source])\n",
    "        \n",
    "    return papers"
   ]
  },
  {
   "cell_type": "code",
   "execution_count": 3,
   "id": "e7ffefef",
   "metadata": {},
   "outputs": [],
   "source": [
    "lancet = lancet()"
   ]
  },
  {
   "cell_type": "code",
   "execution_count": 4,
   "id": "d6ddaddb",
   "metadata": {},
   "outputs": [
    {
     "name": "stdout",
     "output_type": "stream",
     "text": [
      "2022-11-30\n",
      "A novel combination of niraparib and anlotinib in platinum-resistant ovarian cancer: Efficacy and safety results from the phase II, multi-center ANNIE study\n",
      "https://www.thelancet.com/journals/eclinm/article/PIIS2589-5370(22)00496-5/fulltext\n",
      "2022-10-06\n",
      "Ramucirumab as second-line treatment in Chinese patients with advanced hepatocellular carcinoma and elevated alpha-fetoprotein after sorafenib (REACH-2 China): A randomised, multicentre, double-blind study\n",
      "https://www.thelancet.com/journals/eclinm/article/PIIS2589-5370(22)00409-6/fulltext\n",
      "2022-07-15\n",
      "Subtyping of metastatic breast cancer based on plasma circulating tumor DNA alterations: An observational, multicentre platform study\n",
      "https://www.thelancet.com/journals/eclinm/article/PIIS2589-5370(22)00297-8/fulltext\n",
      "2022-07-04\n",
      "Cabozantinib plus atezolizumab in advanced hepatocellular carcinoma and the role of adjuvant antiviral therapy\n",
      "https://www.thelancet.com/journals/lanonc/article/PIIS1470-2045(22)00383-7/fulltext\n",
      "2022-05-13\n",
      "Adebrelimab or placebo plus carboplatin and etoposide as first-line treatment for extensive-stage small-cell lung cancer (CAPSTONE-1): a multicentre, randomised, double-blind, placebo-controlled, phase 3 trial\n",
      "https://www.thelancet.com/journals/lanonc/article/PIIS1470-2045(22)00224-8/fulltext\n",
      "2022-04-28\n",
      "ALKBH5 regulates STAT3 activity to affect the proliferation and tumorigenicity of osteosarcoma via an m6A-YTHDF2-dependent manner\n",
      "https://www.thelancet.com/journals/ebiom/article/PIIS2352-3964(22)00203-1/fulltext\n",
      "2022-01-06\n",
      "Camrelizumab plus apatinib as second-line treatment for advanced oesophageal squamous cell carcinoma (CAP 02): a single-arm, open-label, phase 2 trial\n",
      "https://www.thelancet.com/journals/langas/article/PIIS2468-1253(21)00378-2/fulltext\n",
      "2022-01-06\n",
      "Emerging evidence for VEGF and immune checkpoint inhibition in oesophagogastric cancer\n",
      "https://www.thelancet.com/journals/langas/article/PIIS2468-1253(21)00428-3/fulltext\n",
      "2021-10-06\n",
      "Efficacy and safety of weekly paclitaxel with or without ramucirumab as second-line therapy for the treatment of advanced gastric or gastroesophageal junction adenocarcinoma (RAINBOW-Asia): a randomised, multicentre, double-blind, phase 3 trial\n",
      "https://www.thelancet.com/journals/langas/article/PIIS2468-1253(21)00313-7/fulltext\n",
      "2021-10-06\n",
      "Ramucirumab plus paclitaxel for gastric cancer in China\n",
      "https://www.thelancet.com/journals/langas/article/PIIS2468-1253(21)00342-3/fulltext\n"
     ]
    }
   ],
   "source": [
    "for paper in lancet:\n",
    "    print(paper[0])\n",
    "    print(paper[1])\n",
    "    print(paper[2])"
   ]
  }
 ],
 "metadata": {
  "kernelspec": {
   "display_name": "Python 3 (ipykernel)",
   "language": "python",
   "name": "python3"
  },
  "language_info": {
   "codemirror_mode": {
    "name": "ipython",
    "version": 3
   },
   "file_extension": ".py",
   "mimetype": "text/x-python",
   "name": "python",
   "nbconvert_exporter": "python",
   "pygments_lexer": "ipython3",
   "version": "3.9.13"
  }
 },
 "nbformat": 4,
 "nbformat_minor": 5
}
