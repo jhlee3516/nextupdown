{
 "cells": [
  {
   "cell_type": "code",
   "execution_count": 1,
   "id": "f5718bd1",
   "metadata": {},
   "outputs": [],
   "source": [
    "import feedparser\n",
    "import time"
   ]
  },
  {
   "cell_type": "code",
   "execution_count": 2,
   "id": "ca6db263",
   "metadata": {},
   "outputs": [],
   "source": [
    "urls = [\n",
    "    # first_posted\n",
    "    'https://clinicaltrials.gov/ct2/results/rss.xml?rcv_d=14&lup_d=&sel_rss=new14&term=apatinib&count=10000',\n",
    "    # last_update_posted\n",
    "    'https://clinicaltrials.gov/ct2/results/rss.xml?rcv_d=&lup_d=14&sel_rss=mod14&term=apatinib&count=10000'\n",
    "]"
   ]
  },
  {
   "cell_type": "code",
   "execution_count": 3,
   "id": "8b61a54a",
   "metadata": {},
   "outputs": [
    {
     "name": "stdout",
     "output_type": "stream",
     "text": [
      "2023-01-06 Effect of Huaier Granule on Nephrotoxicity Associated With Targeted Therapy for Advanced Hepatocellular Carcinoma. https://clinicaltrials.gov/ct2/show/NCT05673824?term=apatinib&sfpd_d=14&sel_rss=new14\n"
     ]
    }
   ],
   "source": [
    "feed = feedparser.parse(urls[0])\n",
    "\n",
    "for f in feed.entries:\n",
    "    pubdate = f.published_parsed\n",
    "    title = f.title\n",
    "    link = f.link\n",
    "    \n",
    "    # pubdate ex)2022-05-10\n",
    "    pubdate = time.strftime('%Y-%m-%d', pubdate)\n",
    "    \n",
    "    # model save\n",
    "    print(pubdate, title, link)"
   ]
  }
 ],
 "metadata": {
  "kernelspec": {
   "display_name": "Python 3 (ipykernel)",
   "language": "python",
   "name": "python3"
  },
  "language_info": {
   "codemirror_mode": {
    "name": "ipython",
    "version": 3
   },
   "file_extension": ".py",
   "mimetype": "text/x-python",
   "name": "python",
   "nbconvert_exporter": "python",
   "pygments_lexer": "ipython3",
   "version": "3.9.13"
  }
 },
 "nbformat": 4,
 "nbformat_minor": 5
}
