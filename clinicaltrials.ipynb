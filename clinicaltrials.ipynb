{
 "cells": [
  {
   "cell_type": "markdown",
   "id": "fe57a4c1",
   "metadata": {},
   "source": [
    "# Clinical Trials"
   ]
  },
  {
   "cell_type": "markdown",
   "id": "df3cdb7a",
   "metadata": {},
   "source": [
    "## Pudate, Title, Link\n",
    "임상시험 날짜 : ```pubdate```  \n",
    "임상시험 제목 : ```title```  \n",
    "임상시험 주소 : ```link``` "
   ]
  },
  {
   "cell_type": "code",
   "execution_count": 1,
   "id": "b3f5576c",
   "metadata": {},
   "outputs": [],
   "source": [
    "url = 'https://clinicaltrials.gov/ct2/results/rss.xml?rcv_d=14&lup_d=&sel_rss=new14&term=apatinib&count=10000'"
   ]
  },
  {
   "cell_type": "code",
   "execution_count": 2,
   "id": "34789646",
   "metadata": {},
   "outputs": [],
   "source": [
    "import feedparser\n",
    "feed = feedparser.parse(url)"
   ]
  },
  {
   "cell_type": "code",
   "execution_count": 3,
   "id": "1ec2a56a",
   "metadata": {},
   "outputs": [
    {
     "name": "stdout",
     "output_type": "stream",
     "text": [
      "200\n"
     ]
    }
   ],
   "source": [
    "print(feed.status)"
   ]
  },
  {
   "cell_type": "code",
   "execution_count": 4,
   "id": "cf61b43e",
   "metadata": {},
   "outputs": [
    {
     "name": "stdout",
     "output_type": "stream",
     "text": [
      "time.struct_time(tm_year=2023, tm_mon=1, tm_mday=6, tm_hour=17, tm_min=0, tm_sec=0, tm_wday=4, tm_yday=6, tm_isdst=0)\n",
      "Effect of Huaier Granule on Nephrotoxicity Associated With Targeted Therapy for Advanced Hepatocellular Carcinoma.\n",
      "https://clinicaltrials.gov/ct2/show/NCT05673824?term=apatinib&sfpd_d=14&sel_rss=new14\n"
     ]
    }
   ],
   "source": [
    "for f in feed.entries:\n",
    "    pubdate = f.published_parsed\n",
    "    title = f.title\n",
    "    link = f.link\n",
    "    \n",
    "    print(pubdate)\n",
    "    print(title)\n",
    "    print(link)"
   ]
  },
  {
   "cell_type": "markdown",
   "id": "c706b3fc",
   "metadata": {},
   "source": [
    "## Update\n",
    "임상시험 변경날짜: ```update```"
   ]
  },
  {
   "cell_type": "code",
   "execution_count": 5,
   "id": "5cf3afb7",
   "metadata": {},
   "outputs": [],
   "source": [
    "import requests\n",
    "from bs4 import BeautifulSoup\n",
    "\n",
    "res = requests.get(link)\n",
    "soup = BeautifulSoup(res.text, 'lxml')"
   ]
  },
  {
   "cell_type": "code",
   "execution_count": 6,
   "id": "c600684a",
   "metadata": {},
   "outputs": [
    {
     "name": "stdout",
     "output_type": "stream",
     "text": [
      "200\n"
     ]
    }
   ],
   "source": [
    "print(res.status_code)"
   ]
  },
  {
   "cell_type": "markdown",
   "id": "111ac927",
   "metadata": {},
   "source": [
    "```update```는 \\<span> 태그의 ```hit_org``` 클래스에 담겨 있습니다."
   ]
  },
  {
   "cell_type": "code",
   "execution_count": 7,
   "id": "f70fa6ab",
   "metadata": {},
   "outputs": [
    {
     "name": "stdout",
     "output_type": "stream",
     "text": [
      "January 6, 2023\n"
     ]
    }
   ],
   "source": [
    "update = soup.find_all('span', {'class':'hit_org'})[0].text\n",
    "print(update)"
   ]
  },
  {
   "cell_type": "markdown",
   "id": "24a9de5b",
   "metadata": {},
   "source": [
    "## Convert Datetime Format"
   ]
  },
  {
   "cell_type": "markdown",
   "id": "6e8907bd",
   "metadata": {},
   "source": [
    "임상시험 날짜는 ```pubdate```와 ```update```가 있습니다.  \n",
    "- ```pubdate``` : 임상시험이 처음 등록된 시점의 날짜  \n",
    "- ```update```&nbsp;&nbsp; : 임상시험이 업데이트 된 시점의 날짜  \n",
    "\n",
    "임상시험이 업데이트 되면, ```pubdate```은 더 이상 중요하지 않고 ```update```가 더 중요합니다.  \n",
    "따라서 ```pubdate```은 놔두고 ```update```를 전처리합니다. "
   ]
  },
  {
   "cell_type": "code",
   "execution_count": 8,
   "id": "74a0d414",
   "metadata": {},
   "outputs": [],
   "source": [
    "from datetime import datetime"
   ]
  },
  {
   "cell_type": "markdown",
   "id": "e14c9891",
   "metadata": {},
   "source": [
    "날짜를 ```yyyy-mm-dd``` 형식으로 변환합니다."
   ]
  },
  {
   "cell_type": "code",
   "execution_count": 9,
   "id": "5ba8984d",
   "metadata": {},
   "outputs": [
    {
     "name": "stdout",
     "output_type": "stream",
     "text": [
      "2023-01-06\n"
     ]
    }
   ],
   "source": [
    "update = datetime.strptime(update, '%B %d, %Y').date()\n",
    "print(update)"
   ]
  },
  {
   "cell_type": "code",
   "execution_count": 10,
   "id": "988df4a1",
   "metadata": {},
   "outputs": [
    {
     "data": {
      "text/plain": [
       "datetime.date"
      ]
     },
     "execution_count": 10,
     "metadata": {},
     "output_type": "execute_result"
    }
   ],
   "source": [
    "type(update)"
   ]
  },
  {
   "cell_type": "markdown",
   "id": "ad763215",
   "metadata": {},
   "source": [
    "날짜를 ```str``` 데이터타입으로 변환합니다."
   ]
  },
  {
   "cell_type": "code",
   "execution_count": 11,
   "id": "583a6308",
   "metadata": {},
   "outputs": [
    {
     "name": "stdout",
     "output_type": "stream",
     "text": [
      "2023-01-06\n"
     ]
    }
   ],
   "source": [
    "update = update.strftime('%Y-%m-%d')\n",
    "print(update)"
   ]
  },
  {
   "cell_type": "code",
   "execution_count": 12,
   "id": "20efa419",
   "metadata": {},
   "outputs": [
    {
     "data": {
      "text/plain": [
       "str"
      ]
     },
     "execution_count": 12,
     "metadata": {},
     "output_type": "execute_result"
    }
   ],
   "source": [
    "type(update)"
   ]
  },
  {
   "cell_type": "markdown",
   "id": "f48e71cd",
   "metadata": {},
   "source": [
    "## Sort"
   ]
  },
  {
   "cell_type": "markdown",
   "id": "3010a92b",
   "metadata": {},
   "source": [
    "#### 1D 리스트"
   ]
  },
  {
   "cell_type": "code",
   "execution_count": 13,
   "id": "b1bde1de",
   "metadata": {},
   "outputs": [
    {
     "name": "stdout",
     "output_type": "stream",
     "text": [
      "['2023-02-09', '2023-01-08']\n"
     ]
    }
   ],
   "source": [
    "updates = ['2023-02-09','2023-01-08']\n",
    "print(updates)"
   ]
  },
  {
   "cell_type": "markdown",
   "id": "a667cc9e",
   "metadata": {},
   "source": [
    "```sort()```를 사용해 날짜 순으로 정렬합니다."
   ]
  },
  {
   "cell_type": "code",
   "execution_count": 14,
   "id": "3687de39",
   "metadata": {},
   "outputs": [
    {
     "name": "stdout",
     "output_type": "stream",
     "text": [
      "['2023-01-08', '2023-02-09']\n"
     ]
    }
   ],
   "source": [
    "updates.sort()\n",
    "print(updates)"
   ]
  },
  {
   "cell_type": "markdown",
   "id": "b96c640d",
   "metadata": {},
   "source": [
    "```reverse```를 사용해 최신 날짜 순으로 정렬합니다."
   ]
  },
  {
   "cell_type": "code",
   "execution_count": 15,
   "id": "71f71ec7",
   "metadata": {},
   "outputs": [
    {
     "name": "stdout",
     "output_type": "stream",
     "text": [
      "['2023-02-09', '2023-01-08']\n"
     ]
    }
   ],
   "source": [
    "updates.sort(reverse=True)\n",
    "print(updates)"
   ]
  },
  {
   "cell_type": "markdown",
   "id": "c4555de3",
   "metadata": {},
   "source": [
    "#### 2D 리스트"
   ]
  },
  {
   "cell_type": "code",
   "execution_count": 16,
   "id": "9da16eda",
   "metadata": {},
   "outputs": [
    {
     "name": "stdout",
     "output_type": "stream",
     "text": [
      "[['2023-02-09', '2023-01-08'], ['2023-03-10', '2023-04-07']]\n"
     ]
    }
   ],
   "source": [
    "updates = [['2023-02-09','2023-01-08'],['2023-03-10','2023-04-07']]\n",
    "print(updates)"
   ]
  },
  {
   "cell_type": "markdown",
   "id": "8850dff8",
   "metadata": {},
   "source": [
    "```lambda```를 사용해 필드 순으로 정렬합니다."
   ]
  },
  {
   "cell_type": "code",
   "execution_count": 17,
   "id": "c3605e24",
   "metadata": {},
   "outputs": [
    {
     "name": "stdout",
     "output_type": "stream",
     "text": [
      "[['2023-03-10', '2023-04-07'], ['2023-02-09', '2023-01-08']]\n"
     ]
    }
   ],
   "source": [
    "updates.sort(key=lambda row : (row[1], row[0]), reverse=True)\n",
    "print(updates)"
   ]
  },
  {
   "cell_type": "markdown",
   "id": "225d5219",
   "metadata": {},
   "source": [
    "## 전체 코드"
   ]
  },
  {
   "cell_type": "markdown",
   "id": "e1857a12",
   "metadata": {},
   "source": [
    "첫번째 링크주소는 새롭게 등록된 임상시험이고,  \n",
    "두번째 링크주소는 새롭게 변경된 임상시험이다."
   ]
  },
  {
   "cell_type": "code",
   "execution_count": 18,
   "id": "e7c7be41",
   "metadata": {},
   "outputs": [],
   "source": [
    "from datetime import datetime\n",
    "from bs4 import BeautifulSoup\n",
    "import feedparser\n",
    "import requests\n",
    "\n",
    "urls = [\n",
    "    # first_posted\n",
    "    'https://clinicaltrials.gov/ct2/results/rss.xml?rcv_d=14&lup_d=&sel_rss=new14&term=apatinib&count=10000',\n",
    "    # last_update_posted\n",
    "    'https://clinicaltrials.gov/ct2/results/rss.xml?rcv_d=&lup_d=14&sel_rss=mod14&term=apatinib&count=10000'\n",
    "]\n",
    "\n",
    "def extract_update(link):\n",
    "    \n",
    "    res = requests.get(link)\n",
    "    soup = BeautifulSoup(res.text, 'lxml')\n",
    "    update = soup.find_all('span', {'class':'hit_org'})[0].text\n",
    "    \n",
    "    update = datetime.strptime(update, '%B %d, %Y').date()\n",
    "    update = update.strftime('%Y-%m-%d')\n",
    "\n",
    "    return update\n",
    "\n",
    "def clinicaltrials():\n",
    "    \n",
    "    clinical_trials = []\n",
    "    \n",
    "    for url in urls:\n",
    "        feed = feedparser.parse(url)\n",
    "        \n",
    "        for f in feed.entries:\n",
    "            pubdate = f.published_parsed\n",
    "            title = f.title\n",
    "            link = f.link\n",
    "            update = extract_update(link)\n",
    "            \n",
    "            clinical_trials.append([pubdate, update, title, link])\n",
    "            \n",
    "    clinical_trials.sort(key=lambda row : (row[1], row[0]), reverse=True)\n",
    "            \n",
    "    return clinical_trials"
   ]
  },
  {
   "cell_type": "code",
   "execution_count": 19,
   "id": "93bb1cca",
   "metadata": {},
   "outputs": [],
   "source": [
    "sources = clinicaltrials()"
   ]
  },
  {
   "cell_type": "code",
   "execution_count": 20,
   "id": "fc832984",
   "metadata": {},
   "outputs": [
    {
     "name": "stdout",
     "output_type": "stream",
     "text": [
      "2023-01-13 Apatinib Combined With PD-1 in the Treatment of Recurrent or Metastatic Nasopharyngeal Carcinoma\n",
      "2023-01-09 Effect of Huaier Granule on Nephrotoxicity Associated With Targeted Therapy for Advanced Hepatocellular Carcinoma.\n",
      "2023-01-06 Effect of Huaier Granule on Nephrotoxicity Associated With Targeted Therapy for Advanced Hepatocellular Carcinoma.\n",
      "2023-01-06 A Study of SHR-1210 in Combination With Capecitabine + Oxaliplatin or Apatinib in Treatment of Advanced Gastric Cancer\n",
      "2023-01-05 A Study to Evaluate Camrelizumab Plus Rivoceranib (Apatinib) Versus Camrelizumab as Adjuvant Therapy in Patients With Hepatocellular Carcinoma (HCC) at High Risk of Recurrence After Curative Resection or Ablation\n",
      "2023-01-04 SNF Platform Study of HR+/ HER2-advanced Breast Cancer\n"
     ]
    }
   ],
   "source": [
    "for pubdate, update, title, link in sources:\n",
    "    print(update, title)"
   ]
  }
 ],
 "metadata": {
  "kernelspec": {
   "display_name": "Python 3 (ipykernel)",
   "language": "python",
   "name": "python3"
  },
  "language_info": {
   "codemirror_mode": {
    "name": "ipython",
    "version": 3
   },
   "file_extension": ".py",
   "mimetype": "text/x-python",
   "name": "python",
   "nbconvert_exporter": "python",
   "pygments_lexer": "ipython3",
   "version": "3.9.13"
  }
 },
 "nbformat": 4,
 "nbformat_minor": 5
}
