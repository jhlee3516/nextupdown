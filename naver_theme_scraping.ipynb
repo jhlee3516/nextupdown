{
 "cells": [
  {
   "cell_type": "markdown",
   "id": "95df1d8f",
   "metadata": {},
   "source": [
    "# 네이버증권"
   ]
  },
  {
   "cell_type": "markdown",
   "id": "7a956069",
   "metadata": {},
   "source": [
    "## 테마별 링크주소"
   ]
  },
  {
   "cell_type": "code",
   "execution_count": 1,
   "id": "bb9743e1",
   "metadata": {},
   "outputs": [],
   "source": [
    "from bs4 import BeautifulSoup\n",
    "import requests"
   ]
  },
  {
   "cell_type": "code",
   "execution_count": 2,
   "id": "2384f610",
   "metadata": {},
   "outputs": [],
   "source": [
    "url = 'https://finance.naver.com/sise/theme.naver'"
   ]
  },
  {
   "cell_type": "code",
   "execution_count": 3,
   "id": "f0a3a759",
   "metadata": {},
   "outputs": [],
   "source": [
    "res = requests.get(url)\n",
    "soup = BeautifulSoup(res.text, 'lxml')"
   ]
  },
  {
   "cell_type": "code",
   "execution_count": 4,
   "id": "51c4e976",
   "metadata": {},
   "outputs": [],
   "source": [
    "items = soup.find_all('td', {'class':'col_type1'})"
   ]
  },
  {
   "cell_type": "code",
   "execution_count": 5,
   "id": "fb5a686f",
   "metadata": {},
   "outputs": [],
   "source": [
    "BASE_URL = 'https://finance.naver.com'\n",
    "links = []"
   ]
  },
  {
   "cell_type": "code",
   "execution_count": 6,
   "id": "97206b91",
   "metadata": {},
   "outputs": [],
   "source": [
    "for item in items:\n",
    "    link = item.find('a')['href']\n",
    "    link = BASE_URL + link\n",
    "    links.append(link)"
   ]
  },
  {
   "cell_type": "code",
   "execution_count": 7,
   "id": "34edd1d5",
   "metadata": {},
   "outputs": [
    {
     "data": {
      "text/plain": [
       "40"
      ]
     },
     "execution_count": 7,
     "metadata": {},
     "output_type": "execute_result"
    }
   ],
   "source": [
    "len(links)"
   ]
  },
  {
   "cell_type": "code",
   "execution_count": 9,
   "id": "0a627d7c",
   "metadata": {},
   "outputs": [
    {
     "data": {
      "text/plain": [
       "['https://finance.naver.com/sise/sise_group_detail.naver?type=theme&no=30',\n",
       " 'https://finance.naver.com/sise/sise_group_detail.naver?type=theme&no=520',\n",
       " 'https://finance.naver.com/sise/sise_group_detail.naver?type=theme&no=181',\n",
       " 'https://finance.naver.com/sise/sise_group_detail.naver?type=theme&no=99',\n",
       " 'https://finance.naver.com/sise/sise_group_detail.naver?type=theme&no=149']"
      ]
     },
     "execution_count": 9,
     "metadata": {},
     "output_type": "execute_result"
    }
   ],
   "source": [
    "links[:5]"
   ]
  },
  {
   "cell_type": "markdown",
   "id": "9c33ff4d",
   "metadata": {},
   "source": [
    "## 테마별 종목명\n",
    "종목명은 같아도 테마는 다를 수 있기 때문에  \n",
    "중복되는 종목명은 삭제하지 않습니다.  \n",
    "만약 중복삭제할 경우, 다른 테마로도 분류돼야 할 종목이 제외될 수 있습니다. "
   ]
  },
  {
   "cell_type": "code",
   "execution_count": 10,
   "id": "f39ff497",
   "metadata": {},
   "outputs": [
    {
     "name": "stdout",
     "output_type": "stream",
     "text": [
      "https://finance.naver.com/sise/sise_group_detail.naver?type=theme&no=30\n"
     ]
    }
   ],
   "source": [
    "print(links[0])"
   ]
  },
  {
   "cell_type": "code",
   "execution_count": 11,
   "id": "f185f080",
   "metadata": {},
   "outputs": [],
   "source": [
    "res = requests.get(links[0])\n",
    "soup = BeautifulSoup(res.text, 'lxml')"
   ]
  },
  {
   "cell_type": "code",
   "execution_count": 12,
   "id": "769ac262",
   "metadata": {},
   "outputs": [],
   "source": [
    "items = soup.find_all('div', {'class':'name_area'})"
   ]
  },
  {
   "cell_type": "code",
   "execution_count": 13,
   "id": "d8e1c19f",
   "metadata": {},
   "outputs": [
    {
     "name": "stdout",
     "output_type": "stream",
     "text": [
      "삼성중공업\n",
      "대우조선해양\n",
      "HJ중공업\n",
      "한국조선해양\n",
      "현대미포조선\n",
      "현대중공업\n"
     ]
    }
   ],
   "source": [
    "for item in items:\n",
    "    firm = item.find('a').text\n",
    "    print(firm)"
   ]
  },
  {
   "cell_type": "markdown",
   "id": "fcee7003",
   "metadata": {},
   "source": [
    "## 최종코드"
   ]
  },
  {
   "cell_type": "code",
   "execution_count": 14,
   "id": "d271a2d1",
   "metadata": {},
   "outputs": [],
   "source": [
    "from bs4 import BeautifulSoup\n",
    "import requests\n",
    "\n",
    "def naver_theme_scraping():\n",
    "    url = 'https://finance.naver.com/sise/theme.naver'\n",
    "\n",
    "    res = requests.get(url)\n",
    "    soup = BeautifulSoup(res.text, 'lxml')\n",
    "    items = soup.find_all('td', {'class':'col_type1'})\n",
    "\n",
    "    BASE_URL = 'https://finance.naver.com'\n",
    "    links = []\n",
    "\n",
    "    for item in items[:5]:\n",
    "        link = item.find('a')['href']\n",
    "        link = BASE_URL + link\n",
    "        links.append(link)\n",
    "\n",
    "    firms = []\n",
    "    for link in links:\n",
    "        res = requests.get(link)\n",
    "        soup = BeautifulSoup(res.text, 'lxml')\n",
    "        items = soup.find_all('div', {'class':'name_area'})\n",
    "        for item in items:\n",
    "            firm = item.find('a').text\n",
    "            firms.append(firm)\n",
    "\n",
    "    return firms"
   ]
  },
  {
   "cell_type": "code",
   "execution_count": 15,
   "id": "e6de81aa",
   "metadata": {},
   "outputs": [],
   "source": [
    "firms = naver_theme_scraping()"
   ]
  },
  {
   "cell_type": "code",
   "execution_count": 16,
   "id": "77405a85",
   "metadata": {},
   "outputs": [
    {
     "data": {
      "text/plain": [
       "['삼성중공업', '대우조선해양', 'HJ중공업', '한국조선해양', '현대미포조선']"
      ]
     },
     "execution_count": 16,
     "metadata": {},
     "output_type": "execute_result"
    }
   ],
   "source": [
    "firms[:5]"
   ]
  },
  {
   "cell_type": "code",
   "execution_count": 17,
   "id": "e1337139",
   "metadata": {},
   "outputs": [
    {
     "data": {
      "text/plain": [
       "103"
      ]
     },
     "execution_count": 17,
     "metadata": {},
     "output_type": "execute_result"
    }
   ],
   "source": [
    "len(firms)"
   ]
  }
 ],
 "metadata": {
  "kernelspec": {
   "display_name": "Python 3 (ipykernel)",
   "language": "python",
   "name": "python3"
  },
  "language_info": {
   "codemirror_mode": {
    "name": "ipython",
    "version": 3
   },
   "file_extension": ".py",
   "mimetype": "text/x-python",
   "name": "python",
   "nbconvert_exporter": "python",
   "pygments_lexer": "ipython3",
   "version": "3.9.13"
  }
 },
 "nbformat": 4,
 "nbformat_minor": 5
}
