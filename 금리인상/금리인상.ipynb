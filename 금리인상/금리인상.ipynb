{
 "cells": [
  {
   "cell_type": "markdown",
   "id": "6eb6f34f",
   "metadata": {},
   "source": [
    "## 한국은행 기준금리"
   ]
  },
  {
   "cell_type": "code",
   "execution_count": 1,
   "id": "b875892c",
   "metadata": {},
   "outputs": [
    {
     "data": {
      "text/html": [
       "<div>\n",
       "<style scoped>\n",
       "    .dataframe tbody tr th:only-of-type {\n",
       "        vertical-align: middle;\n",
       "    }\n",
       "\n",
       "    .dataframe tbody tr th {\n",
       "        vertical-align: top;\n",
       "    }\n",
       "\n",
       "    .dataframe thead th {\n",
       "        text-align: right;\n",
       "    }\n",
       "</style>\n",
       "<table border=\"1\" class=\"dataframe\">\n",
       "  <thead>\n",
       "    <tr style=\"text-align: right;\">\n",
       "      <th></th>\n",
       "      <th>통계표</th>\n",
       "      <th>계정항목</th>\n",
       "      <th>단위</th>\n",
       "      <th>변환</th>\n",
       "      <th>1994/01/03</th>\n",
       "      <th>1994/01/04</th>\n",
       "      <th>1994/01/05</th>\n",
       "      <th>1994/01/06</th>\n",
       "      <th>1994/01/07</th>\n",
       "      <th>1994/01/08</th>\n",
       "      <th>...</th>\n",
       "      <th>2023/09/25</th>\n",
       "      <th>2023/09/26</th>\n",
       "      <th>2023/09/27</th>\n",
       "      <th>2023/10/04</th>\n",
       "      <th>2023/10/05</th>\n",
       "      <th>2023/10/06</th>\n",
       "      <th>2023/10/10</th>\n",
       "      <th>2023/10/11</th>\n",
       "      <th>2023/10/12</th>\n",
       "      <th>2023/10/13</th>\n",
       "    </tr>\n",
       "  </thead>\n",
       "  <tbody>\n",
       "    <tr>\n",
       "      <th>0</th>\n",
       "      <td>1.3.1. 한국은행 기준금리 및 여수신금리</td>\n",
       "      <td>한국은행 기준금리</td>\n",
       "      <td>연%</td>\n",
       "      <td>원자료</td>\n",
       "      <td>NaN</td>\n",
       "      <td>NaN</td>\n",
       "      <td>NaN</td>\n",
       "      <td>NaN</td>\n",
       "      <td>NaN</td>\n",
       "      <td>NaN</td>\n",
       "      <td>...</td>\n",
       "      <td>3.5</td>\n",
       "      <td>3.5</td>\n",
       "      <td>3.5</td>\n",
       "      <td>3.5</td>\n",
       "      <td>3.5</td>\n",
       "      <td>3.5</td>\n",
       "      <td>3.5</td>\n",
       "      <td>3.5</td>\n",
       "      <td>3.5</td>\n",
       "      <td>3.5</td>\n",
       "    </tr>\n",
       "  </tbody>\n",
       "</table>\n",
       "<p>1 rows × 7631 columns</p>\n",
       "</div>"
      ],
      "text/plain": [
       "                        통계표       계정항목  단위   변환  1994/01/03  1994/01/04  \\\n",
       "0  1.3.1. 한국은행 기준금리 및 여수신금리  한국은행 기준금리  연%  원자료         NaN         NaN   \n",
       "\n",
       "   1994/01/05  1994/01/06  1994/01/07  1994/01/08  ...  2023/09/25  \\\n",
       "0         NaN         NaN         NaN         NaN  ...         3.5   \n",
       "\n",
       "   2023/09/26  2023/09/27  2023/10/04  2023/10/05  2023/10/06  2023/10/10  \\\n",
       "0         3.5         3.5         3.5         3.5         3.5         3.5   \n",
       "\n",
       "   2023/10/11  2023/10/12  2023/10/13  \n",
       "0         3.5         3.5         3.5  \n",
       "\n",
       "[1 rows x 7631 columns]"
      ]
     },
     "execution_count": 1,
     "metadata": {},
     "output_type": "execute_result"
    }
   ],
   "source": [
    "import numpy as np\n",
    "import pandas as pd\n",
    "df = pd.read_csv('한국은행_기준금리.csv')\n",
    "df.head()"
   ]
  },
  {
   "cell_type": "code",
   "execution_count": 2,
   "id": "dc36647f",
   "metadata": {},
   "outputs": [
    {
     "data": {
      "text/plain": [
       "Index(['통계표', '계정항목', '단위', '변환', '1994/01/03', '1994/01/04', '1994/01/05',\n",
       "       '1994/01/06', '1994/01/07', '1994/01/08',\n",
       "       ...\n",
       "       '2023/09/25', '2023/09/26', '2023/09/27', '2023/10/04', '2023/10/05',\n",
       "       '2023/10/06', '2023/10/10', '2023/10/11', '2023/10/12', '2023/10/13'],\n",
       "      dtype='object', length=7631)"
      ]
     },
     "execution_count": 2,
     "metadata": {},
     "output_type": "execute_result"
    }
   ],
   "source": [
    "df.columns"
   ]
  },
  {
   "cell_type": "code",
   "execution_count": 4,
   "id": "f433c634",
   "metadata": {},
   "outputs": [
    {
     "data": {
      "text/html": [
       "<div>\n",
       "<style scoped>\n",
       "    .dataframe tbody tr th:only-of-type {\n",
       "        vertical-align: middle;\n",
       "    }\n",
       "\n",
       "    .dataframe tbody tr th {\n",
       "        vertical-align: top;\n",
       "    }\n",
       "\n",
       "    .dataframe thead th {\n",
       "        text-align: right;\n",
       "    }\n",
       "</style>\n",
       "<table border=\"1\" class=\"dataframe\">\n",
       "  <thead>\n",
       "    <tr style=\"text-align: right;\">\n",
       "      <th></th>\n",
       "      <th>1994/01/03</th>\n",
       "      <th>1994/01/04</th>\n",
       "      <th>1994/01/05</th>\n",
       "      <th>1994/01/06</th>\n",
       "      <th>1994/01/07</th>\n",
       "      <th>1994/01/08</th>\n",
       "      <th>1994/01/10</th>\n",
       "      <th>1994/01/11</th>\n",
       "      <th>1994/01/12</th>\n",
       "      <th>1994/01/13</th>\n",
       "      <th>...</th>\n",
       "      <th>2023/09/25</th>\n",
       "      <th>2023/09/26</th>\n",
       "      <th>2023/09/27</th>\n",
       "      <th>2023/10/04</th>\n",
       "      <th>2023/10/05</th>\n",
       "      <th>2023/10/06</th>\n",
       "      <th>2023/10/10</th>\n",
       "      <th>2023/10/11</th>\n",
       "      <th>2023/10/12</th>\n",
       "      <th>2023/10/13</th>\n",
       "    </tr>\n",
       "  </thead>\n",
       "  <tbody>\n",
       "    <tr>\n",
       "      <th>0</th>\n",
       "      <td>NaN</td>\n",
       "      <td>NaN</td>\n",
       "      <td>NaN</td>\n",
       "      <td>NaN</td>\n",
       "      <td>NaN</td>\n",
       "      <td>NaN</td>\n",
       "      <td>NaN</td>\n",
       "      <td>NaN</td>\n",
       "      <td>NaN</td>\n",
       "      <td>NaN</td>\n",
       "      <td>...</td>\n",
       "      <td>3.5</td>\n",
       "      <td>3.5</td>\n",
       "      <td>3.5</td>\n",
       "      <td>3.5</td>\n",
       "      <td>3.5</td>\n",
       "      <td>3.5</td>\n",
       "      <td>3.5</td>\n",
       "      <td>3.5</td>\n",
       "      <td>3.5</td>\n",
       "      <td>3.5</td>\n",
       "    </tr>\n",
       "  </tbody>\n",
       "</table>\n",
       "<p>1 rows × 7627 columns</p>\n",
       "</div>"
      ],
      "text/plain": [
       "   1994/01/03  1994/01/04  1994/01/05  1994/01/06  1994/01/07  1994/01/08  \\\n",
       "0         NaN         NaN         NaN         NaN         NaN         NaN   \n",
       "\n",
       "   1994/01/10  1994/01/11  1994/01/12  1994/01/13  ...  2023/09/25  \\\n",
       "0         NaN         NaN         NaN         NaN  ...         3.5   \n",
       "\n",
       "   2023/09/26  2023/09/27  2023/10/04  2023/10/05  2023/10/06  2023/10/10  \\\n",
       "0         3.5         3.5         3.5         3.5         3.5         3.5   \n",
       "\n",
       "   2023/10/11  2023/10/12  2023/10/13  \n",
       "0         3.5         3.5         3.5  \n",
       "\n",
       "[1 rows x 7627 columns]"
      ]
     },
     "execution_count": 4,
     "metadata": {},
     "output_type": "execute_result"
    }
   ],
   "source": [
    "df.drop(columns=['통계표', '계정항목', '단위', '변환'], inplace=True)\n",
    "df.head()"
   ]
  },
  {
   "cell_type": "code",
   "execution_count": 5,
   "id": "432139b2",
   "metadata": {},
   "outputs": [
    {
     "data": {
      "text/html": [
       "<div>\n",
       "<style scoped>\n",
       "    .dataframe tbody tr th:only-of-type {\n",
       "        vertical-align: middle;\n",
       "    }\n",
       "\n",
       "    .dataframe tbody tr th {\n",
       "        vertical-align: top;\n",
       "    }\n",
       "\n",
       "    .dataframe thead th {\n",
       "        text-align: right;\n",
       "    }\n",
       "</style>\n",
       "<table border=\"1\" class=\"dataframe\">\n",
       "  <thead>\n",
       "    <tr style=\"text-align: right;\">\n",
       "      <th></th>\n",
       "      <th>0</th>\n",
       "    </tr>\n",
       "  </thead>\n",
       "  <tbody>\n",
       "    <tr>\n",
       "      <th>1994/01/03</th>\n",
       "      <td>NaN</td>\n",
       "    </tr>\n",
       "    <tr>\n",
       "      <th>1994/01/04</th>\n",
       "      <td>NaN</td>\n",
       "    </tr>\n",
       "    <tr>\n",
       "      <th>1994/01/05</th>\n",
       "      <td>NaN</td>\n",
       "    </tr>\n",
       "    <tr>\n",
       "      <th>1994/01/06</th>\n",
       "      <td>NaN</td>\n",
       "    </tr>\n",
       "    <tr>\n",
       "      <th>1994/01/07</th>\n",
       "      <td>NaN</td>\n",
       "    </tr>\n",
       "  </tbody>\n",
       "</table>\n",
       "</div>"
      ],
      "text/plain": [
       "             0\n",
       "1994/01/03 NaN\n",
       "1994/01/04 NaN\n",
       "1994/01/05 NaN\n",
       "1994/01/06 NaN\n",
       "1994/01/07 NaN"
      ]
     },
     "execution_count": 5,
     "metadata": {},
     "output_type": "execute_result"
    }
   ],
   "source": [
    "df = df.T\n",
    "df.head()"
   ]
  },
  {
   "cell_type": "code",
   "execution_count": 6,
   "id": "7872edca",
   "metadata": {},
   "outputs": [
    {
     "name": "stdout",
     "output_type": "stream",
     "text": [
      "<class 'pandas.core.frame.DataFrame'>\n",
      "Index: 7627 entries, 1994/01/03 to 2023/10/13\n",
      "Data columns (total 1 columns):\n",
      " #   Column  Non-Null Count  Dtype  \n",
      "---  ------  --------------  -----  \n",
      " 0   0       6110 non-null   float64\n",
      "dtypes: float64(1)\n",
      "memory usage: 377.2+ KB\n"
     ]
    }
   ],
   "source": [
    "df.info()"
   ]
  },
  {
   "cell_type": "code",
   "execution_count": 7,
   "id": "d800bd53",
   "metadata": {},
   "outputs": [
    {
     "data": {
      "text/plain": [
       "DatetimeIndex(['1994-01-03', '1994-01-04', '1994-01-05', '1994-01-06',\n",
       "               '1994-01-07', '1994-01-08', '1994-01-10', '1994-01-11',\n",
       "               '1994-01-12', '1994-01-13',\n",
       "               ...\n",
       "               '2023-09-25', '2023-09-26', '2023-09-27', '2023-10-04',\n",
       "               '2023-10-05', '2023-10-06', '2023-10-10', '2023-10-11',\n",
       "               '2023-10-12', '2023-10-13'],\n",
       "              dtype='datetime64[ns]', length=7627, freq=None)"
      ]
     },
     "execution_count": 7,
     "metadata": {},
     "output_type": "execute_result"
    }
   ],
   "source": [
    "df.index = pd.to_datetime(df.index)\n",
    "df.index"
   ]
  },
  {
   "cell_type": "code",
   "execution_count": 9,
   "id": "50db960a",
   "metadata": {},
   "outputs": [
    {
     "data": {
      "text/html": [
       "<div>\n",
       "<style scoped>\n",
       "    .dataframe tbody tr th:only-of-type {\n",
       "        vertical-align: middle;\n",
       "    }\n",
       "\n",
       "    .dataframe tbody tr th {\n",
       "        vertical-align: top;\n",
       "    }\n",
       "\n",
       "    .dataframe thead th {\n",
       "        text-align: right;\n",
       "    }\n",
       "</style>\n",
       "<table border=\"1\" class=\"dataframe\">\n",
       "  <thead>\n",
       "    <tr style=\"text-align: right;\">\n",
       "      <th></th>\n",
       "      <th>기준금리</th>\n",
       "    </tr>\n",
       "  </thead>\n",
       "  <tbody>\n",
       "    <tr>\n",
       "      <th>1994-01-03</th>\n",
       "      <td>NaN</td>\n",
       "    </tr>\n",
       "    <tr>\n",
       "      <th>1994-01-04</th>\n",
       "      <td>NaN</td>\n",
       "    </tr>\n",
       "    <tr>\n",
       "      <th>1994-01-05</th>\n",
       "      <td>NaN</td>\n",
       "    </tr>\n",
       "    <tr>\n",
       "      <th>1994-01-06</th>\n",
       "      <td>NaN</td>\n",
       "    </tr>\n",
       "    <tr>\n",
       "      <th>1994-01-07</th>\n",
       "      <td>NaN</td>\n",
       "    </tr>\n",
       "  </tbody>\n",
       "</table>\n",
       "</div>"
      ],
      "text/plain": [
       "            기준금리\n",
       "1994-01-03   NaN\n",
       "1994-01-04   NaN\n",
       "1994-01-05   NaN\n",
       "1994-01-06   NaN\n",
       "1994-01-07   NaN"
      ]
     },
     "execution_count": 9,
     "metadata": {},
     "output_type": "execute_result"
    }
   ],
   "source": [
    "df.rename(columns={0:'기준금리'}, inplace=True)\n",
    "df.head()"
   ]
  },
  {
   "cell_type": "code",
   "execution_count": 10,
   "id": "15bde0ee",
   "metadata": {},
   "outputs": [
    {
     "data": {
      "text/html": [
       "<div>\n",
       "<style scoped>\n",
       "    .dataframe tbody tr th:only-of-type {\n",
       "        vertical-align: middle;\n",
       "    }\n",
       "\n",
       "    .dataframe tbody tr th {\n",
       "        vertical-align: top;\n",
       "    }\n",
       "\n",
       "    .dataframe thead th {\n",
       "        text-align: right;\n",
       "    }\n",
       "</style>\n",
       "<table border=\"1\" class=\"dataframe\">\n",
       "  <thead>\n",
       "    <tr style=\"text-align: right;\">\n",
       "      <th></th>\n",
       "      <th>기준금리</th>\n",
       "    </tr>\n",
       "  </thead>\n",
       "  <tbody>\n",
       "    <tr>\n",
       "      <th>1999-05-06</th>\n",
       "      <td>4.75</td>\n",
       "    </tr>\n",
       "    <tr>\n",
       "      <th>1999-05-07</th>\n",
       "      <td>4.75</td>\n",
       "    </tr>\n",
       "    <tr>\n",
       "      <th>1999-05-10</th>\n",
       "      <td>4.75</td>\n",
       "    </tr>\n",
       "    <tr>\n",
       "      <th>1999-05-11</th>\n",
       "      <td>4.75</td>\n",
       "    </tr>\n",
       "    <tr>\n",
       "      <th>1999-05-12</th>\n",
       "      <td>4.75</td>\n",
       "    </tr>\n",
       "  </tbody>\n",
       "</table>\n",
       "</div>"
      ],
      "text/plain": [
       "            기준금리\n",
       "1999-05-06  4.75\n",
       "1999-05-07  4.75\n",
       "1999-05-10  4.75\n",
       "1999-05-11  4.75\n",
       "1999-05-12  4.75"
      ]
     },
     "execution_count": 10,
     "metadata": {},
     "output_type": "execute_result"
    }
   ],
   "source": [
    "df = df.dropna(axis=0)\n",
    "df.head()"
   ]
  },
  {
   "cell_type": "code",
   "execution_count": 11,
   "id": "cbd1376b",
   "metadata": {
    "collapsed": true
   },
   "outputs": [
    {
     "name": "stderr",
     "output_type": "stream",
     "text": [
      "C:\\Users\\user\\anaconda3\\lib\\site-packages\\IPython\\core\\pylabtools.py:151: UserWarning: Glyph 54620 (\\N{HANGUL SYLLABLE HAN}) missing from current font.\n",
      "  fig.canvas.print_figure(bytes_io, **kw)\n",
      "C:\\Users\\user\\anaconda3\\lib\\site-packages\\IPython\\core\\pylabtools.py:151: UserWarning: Glyph 44397 (\\N{HANGUL SYLLABLE GUG}) missing from current font.\n",
      "  fig.canvas.print_figure(bytes_io, **kw)\n",
      "C:\\Users\\user\\anaconda3\\lib\\site-packages\\IPython\\core\\pylabtools.py:151: UserWarning: Glyph 51008 (\\N{HANGUL SYLLABLE EUN}) missing from current font.\n",
      "  fig.canvas.print_figure(bytes_io, **kw)\n",
      "C:\\Users\\user\\anaconda3\\lib\\site-packages\\IPython\\core\\pylabtools.py:151: UserWarning: Glyph 54665 (\\N{HANGUL SYLLABLE HAENG}) missing from current font.\n",
      "  fig.canvas.print_figure(bytes_io, **kw)\n",
      "C:\\Users\\user\\anaconda3\\lib\\site-packages\\IPython\\core\\pylabtools.py:151: UserWarning: Glyph 44592 (\\N{HANGUL SYLLABLE GI}) missing from current font.\n",
      "  fig.canvas.print_figure(bytes_io, **kw)\n",
      "C:\\Users\\user\\anaconda3\\lib\\site-packages\\IPython\\core\\pylabtools.py:151: UserWarning: Glyph 51456 (\\N{HANGUL SYLLABLE JUN}) missing from current font.\n",
      "  fig.canvas.print_figure(bytes_io, **kw)\n",
      "C:\\Users\\user\\anaconda3\\lib\\site-packages\\IPython\\core\\pylabtools.py:151: UserWarning: Glyph 44552 (\\N{HANGUL SYLLABLE GEUM}) missing from current font.\n",
      "  fig.canvas.print_figure(bytes_io, **kw)\n",
      "C:\\Users\\user\\anaconda3\\lib\\site-packages\\IPython\\core\\pylabtools.py:151: UserWarning: Glyph 47532 (\\N{HANGUL SYLLABLE RI}) missing from current font.\n",
      "  fig.canvas.print_figure(bytes_io, **kw)\n"
     ]
    },
    {
     "data": {
      "image/png": "[encoded data removed]",
      "text/plain": [
       "<Figure size 2000x1000 with 1 Axes>"
      ]
     },
     "metadata": {},
     "output_type": "display_data"
    }
   ],
   "source": [
    "import matplotlib.pylab as plt\n",
    "df.plot(\n",
    "    xlim=['1999-05-06', '2023-10-16'], ylim=(0,10),\n",
    "    figsize=(20,10)\n",
    ")\n",
    "plt.title(\"한국은행 기준금리\")\n",
    "plt.xlabel(\"Month\")\n",
    "plt.ylabel(\"기준금리\")\n",
    "plt.show()"
   ]
  },
  {
   "cell_type": "markdown",
   "id": "db113dea",
   "metadata": {},
   "source": [
    "## Stock Price"
   ]
  },
  {
   "cell_type": "code",
   "execution_count": 39,
   "id": "ce8acdae",
   "metadata": {},
   "outputs": [],
   "source": [
    "firm_name = '삼성화재'\n",
    "firm_code = '000810'\n",
    "start_date = '1999-05-06'"
   ]
  },
  {
   "cell_type": "code",
   "execution_count": 21,
   "id": "4ece6e29",
   "metadata": {},
   "outputs": [],
   "source": [
    "import FinanceDataReader as fdr"
   ]
  },
  {
   "cell_type": "code",
   "execution_count": 22,
   "id": "3d6e0f26",
   "metadata": {},
   "outputs": [],
   "source": [
    "df_firm = fdr.DataReader(symbol=firm_code, start=start_date)"
   ]
  },
  {
   "cell_type": "code",
   "execution_count": 23,
   "id": "34a22fdf",
   "metadata": {
    "scrolled": false
   },
   "outputs": [
    {
     "data": {
      "text/html": [
       "<div>\n",
       "<style scoped>\n",
       "    .dataframe tbody tr th:only-of-type {\n",
       "        vertical-align: middle;\n",
       "    }\n",
       "\n",
       "    .dataframe tbody tr th {\n",
       "        vertical-align: top;\n",
       "    }\n",
       "\n",
       "    .dataframe thead th {\n",
       "        text-align: right;\n",
       "    }\n",
       "</style>\n",
       "<table border=\"1\" class=\"dataframe\">\n",
       "  <thead>\n",
       "    <tr style=\"text-align: right;\">\n",
       "      <th></th>\n",
       "      <th>Open</th>\n",
       "      <th>High</th>\n",
       "      <th>Low</th>\n",
       "      <th>Close</th>\n",
       "      <th>Volume</th>\n",
       "      <th>Change</th>\n",
       "    </tr>\n",
       "    <tr>\n",
       "      <th>Date</th>\n",
       "      <th></th>\n",
       "      <th></th>\n",
       "      <th></th>\n",
       "      <th></th>\n",
       "      <th></th>\n",
       "      <th></th>\n",
       "    </tr>\n",
       "  </thead>\n",
       "  <tbody>\n",
       "    <tr>\n",
       "      <th>1999-06-29</th>\n",
       "      <td>71239</td>\n",
       "      <td>77308</td>\n",
       "      <td>70184</td>\n",
       "      <td>75636</td>\n",
       "      <td>412510</td>\n",
       "      <td>NaN</td>\n",
       "    </tr>\n",
       "    <tr>\n",
       "      <th>1999-06-30</th>\n",
       "      <td>74757</td>\n",
       "      <td>75197</td>\n",
       "      <td>68161</td>\n",
       "      <td>71678</td>\n",
       "      <td>354570</td>\n",
       "      <td>-0.052330</td>\n",
       "    </tr>\n",
       "    <tr>\n",
       "      <th>1999-07-01</th>\n",
       "      <td>71679</td>\n",
       "      <td>71679</td>\n",
       "      <td>71679</td>\n",
       "      <td>71678</td>\n",
       "      <td>0</td>\n",
       "      <td>0.000000</td>\n",
       "    </tr>\n",
       "    <tr>\n",
       "      <th>1999-07-02</th>\n",
       "      <td>71679</td>\n",
       "      <td>71679</td>\n",
       "      <td>71679</td>\n",
       "      <td>71678</td>\n",
       "      <td>0</td>\n",
       "      <td>0.000000</td>\n",
       "    </tr>\n",
       "    <tr>\n",
       "      <th>1999-07-05</th>\n",
       "      <td>80034</td>\n",
       "      <td>81705</td>\n",
       "      <td>72207</td>\n",
       "      <td>72206</td>\n",
       "      <td>869160</td>\n",
       "      <td>0.007366</td>\n",
       "    </tr>\n",
       "  </tbody>\n",
       "</table>\n",
       "</div>"
      ],
      "text/plain": [
       "             Open   High    Low  Close  Volume    Change\n",
       "Date                                                    \n",
       "1999-06-29  71239  77308  70184  75636  412510       NaN\n",
       "1999-06-30  74757  75197  68161  71678  354570 -0.052330\n",
       "1999-07-01  71679  71679  71679  71678       0  0.000000\n",
       "1999-07-02  71679  71679  71679  71678       0  0.000000\n",
       "1999-07-05  80034  81705  72207  72206  869160  0.007366"
      ]
     },
     "execution_count": 23,
     "metadata": {},
     "output_type": "execute_result"
    }
   ],
   "source": [
    "df_firm.head()"
   ]
  },
  {
   "cell_type": "code",
   "execution_count": 24,
   "id": "f7ddf1a8",
   "metadata": {},
   "outputs": [
    {
     "data": {
      "text/plain": [
       "DatetimeIndex(['1999-06-29', '1999-06-30', '1999-07-01', '1999-07-02',\n",
       "               '1999-07-05', '1999-07-06', '1999-07-07', '1999-07-08',\n",
       "               '1999-07-09', '1999-07-12',\n",
       "               ...\n",
       "               '2023-09-26', '2023-09-27', '2023-10-04', '2023-10-05',\n",
       "               '2023-10-06', '2023-10-10', '2023-10-11', '2023-10-12',\n",
       "               '2023-10-13', '2023-10-16'],\n",
       "              dtype='datetime64[ns]', name='Date', length=6000, freq=None)"
      ]
     },
     "execution_count": 24,
     "metadata": {},
     "output_type": "execute_result"
    }
   ],
   "source": [
    "df_firm.index = pd.to_datetime(df_firm.index)\n",
    "df_firm.index"
   ]
  },
  {
   "cell_type": "code",
   "execution_count": 25,
   "id": "f83fab52",
   "metadata": {},
   "outputs": [
    {
     "data": {
      "text/plain": [
       "Date\n",
       "1999-06-29    75636\n",
       "1999-06-30    71678\n",
       "1999-07-01    71678\n",
       "1999-07-02    71678\n",
       "1999-07-05    72206\n",
       "Name: Close, dtype: int64"
      ]
     },
     "execution_count": 25,
     "metadata": {},
     "output_type": "execute_result"
    }
   ],
   "source": [
    "df_firm = df_firm['Close']\n",
    "df_firm.head()"
   ]
  },
  {
   "cell_type": "markdown",
   "id": "5a98d5d6",
   "metadata": {},
   "source": [
    "## Concat"
   ]
  },
  {
   "cell_type": "code",
   "execution_count": 31,
   "id": "dc5e58f2",
   "metadata": {},
   "outputs": [
    {
     "data": {
      "text/html": [
       "<div>\n",
       "<style scoped>\n",
       "    .dataframe tbody tr th:only-of-type {\n",
       "        vertical-align: middle;\n",
       "    }\n",
       "\n",
       "    .dataframe tbody tr th {\n",
       "        vertical-align: top;\n",
       "    }\n",
       "\n",
       "    .dataframe thead th {\n",
       "        text-align: right;\n",
       "    }\n",
       "</style>\n",
       "<table border=\"1\" class=\"dataframe\">\n",
       "  <thead>\n",
       "    <tr style=\"text-align: right;\">\n",
       "      <th></th>\n",
       "      <th>기준금리</th>\n",
       "      <th>Close</th>\n",
       "    </tr>\n",
       "  </thead>\n",
       "  <tbody>\n",
       "    <tr>\n",
       "      <th>1999-06-29</th>\n",
       "      <td>4.75</td>\n",
       "      <td>75636</td>\n",
       "    </tr>\n",
       "    <tr>\n",
       "      <th>1999-06-30</th>\n",
       "      <td>4.75</td>\n",
       "      <td>71678</td>\n",
       "    </tr>\n",
       "    <tr>\n",
       "      <th>1999-07-01</th>\n",
       "      <td>4.75</td>\n",
       "      <td>71678</td>\n",
       "    </tr>\n",
       "    <tr>\n",
       "      <th>1999-07-02</th>\n",
       "      <td>4.75</td>\n",
       "      <td>71678</td>\n",
       "    </tr>\n",
       "    <tr>\n",
       "      <th>1999-07-05</th>\n",
       "      <td>4.75</td>\n",
       "      <td>72206</td>\n",
       "    </tr>\n",
       "  </tbody>\n",
       "</table>\n",
       "</div>"
      ],
      "text/plain": [
       "            기준금리  Close\n",
       "1999-06-29  4.75  75636\n",
       "1999-06-30  4.75  71678\n",
       "1999-07-01  4.75  71678\n",
       "1999-07-02  4.75  71678\n",
       "1999-07-05  4.75  72206"
      ]
     },
     "execution_count": 31,
     "metadata": {},
     "output_type": "execute_result"
    }
   ],
   "source": [
    "concatenated_df = df.join(df_firm, how='inner')\n",
    "concatenated_df.head()"
   ]
  },
  {
   "cell_type": "code",
   "execution_count": 32,
   "id": "2878cb42",
   "metadata": {},
   "outputs": [
    {
     "data": {
      "text/html": [
       "<div>\n",
       "<style scoped>\n",
       "    .dataframe tbody tr th:only-of-type {\n",
       "        vertical-align: middle;\n",
       "    }\n",
       "\n",
       "    .dataframe tbody tr th {\n",
       "        vertical-align: top;\n",
       "    }\n",
       "\n",
       "    .dataframe thead th {\n",
       "        text-align: right;\n",
       "    }\n",
       "</style>\n",
       "<table border=\"1\" class=\"dataframe\">\n",
       "  <thead>\n",
       "    <tr style=\"text-align: right;\">\n",
       "      <th></th>\n",
       "      <th>기준금리</th>\n",
       "      <th>Close</th>\n",
       "    </tr>\n",
       "  </thead>\n",
       "  <tbody>\n",
       "    <tr>\n",
       "      <th>2023-10-06</th>\n",
       "      <td>3.5</td>\n",
       "      <td>260000</td>\n",
       "    </tr>\n",
       "    <tr>\n",
       "      <th>2023-10-10</th>\n",
       "      <td>3.5</td>\n",
       "      <td>262500</td>\n",
       "    </tr>\n",
       "    <tr>\n",
       "      <th>2023-10-11</th>\n",
       "      <td>3.5</td>\n",
       "      <td>257500</td>\n",
       "    </tr>\n",
       "    <tr>\n",
       "      <th>2023-10-12</th>\n",
       "      <td>3.5</td>\n",
       "      <td>258000</td>\n",
       "    </tr>\n",
       "    <tr>\n",
       "      <th>2023-10-13</th>\n",
       "      <td>3.5</td>\n",
       "      <td>258000</td>\n",
       "    </tr>\n",
       "  </tbody>\n",
       "</table>\n",
       "</div>"
      ],
      "text/plain": [
       "            기준금리   Close\n",
       "2023-10-06   3.5  260000\n",
       "2023-10-10   3.5  262500\n",
       "2023-10-11   3.5  257500\n",
       "2023-10-12   3.5  258000\n",
       "2023-10-13   3.5  258000"
      ]
     },
     "execution_count": 32,
     "metadata": {},
     "output_type": "execute_result"
    }
   ],
   "source": [
    "concatenated_df.tail()"
   ]
  },
  {
   "cell_type": "markdown",
   "id": "d4b12e5d",
   "metadata": {},
   "source": [
    "## Save"
   ]
  },
  {
   "cell_type": "code",
   "execution_count": 45,
   "id": "32539777",
   "metadata": {},
   "outputs": [],
   "source": [
    "concatenated_df.reset_index(inplace=True)"
   ]
  },
  {
   "cell_type": "code",
   "execution_count": 46,
   "id": "ce7f19ab",
   "metadata": {
    "scrolled": true
   },
   "outputs": [],
   "source": [
    "output_file = '한국은행 기준금리와 '+firm_name+' 주가.xlsx'\n",
    "concatenated_df.to_excel(output_file, index=False)"
   ]
  },
  {
   "cell_type": "code",
   "execution_count": null,
   "id": "68ab02ac",
   "metadata": {},
   "outputs": [],
   "source": []
  },
  {
   "cell_type": "code",
   "execution_count": null,
   "id": "29067dcb",
   "metadata": {},
   "outputs": [],
   "source": []
  },
  {
   "cell_type": "code",
   "execution_count": null,
   "id": "51617f20",
   "metadata": {},
   "outputs": [],
   "source": []
  },
  {
   "cell_type": "code",
   "execution_count": null,
   "id": "21aad5ce",
   "metadata": {},
   "outputs": [],
   "source": []
  }
 ],
 "metadata": {
  "kernelspec": {
   "display_name": "Python 3 (ipykernel)",
   "language": "python",
   "name": "python3"
  },
  "language_info": {
   "codemirror_mode": {
    "name": "ipython",
    "version": 3
   },
   "file_extension": ".py",
   "mimetype": "text/x-python",
   "name": "python",
   "nbconvert_exporter": "python",
   "pygments_lexer": "ipython3",
   "version": "3.9.13"
  }
 },
 "nbformat": 4,
 "nbformat_minor": 5
}
