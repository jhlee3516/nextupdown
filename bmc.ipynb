{
 "cells": [
  {
   "cell_type": "markdown",
   "id": "f7e64b9c",
   "metadata": {},
   "source": [
    "# BMC"
   ]
  },
  {
   "cell_type": "code",
   "execution_count": 1,
   "id": "3b66250f",
   "metadata": {},
   "outputs": [],
   "source": [
    "from datetime import datetime\n",
    "from bs4 import BeautifulSoup\n",
    "import requests"
   ]
  },
  {
   "cell_type": "code",
   "execution_count": 2,
   "id": "c66c1513",
   "metadata": {},
   "outputs": [],
   "source": [
    "def bmc(\n",
    "    query='apatinib'\n",
    "):\n",
    "    \"\"\"\n",
    "    Args:\n",
    "      query: str. \n",
    "    \n",
    "    \"\"\"\n",
    "    \n",
    "    papers = []\n",
    "    \n",
    "    url = 'https://www.biomedcentral.com/search?searchType=publisherSearch&sort=PubDate&page=1&query='+query\n",
    "    res = requests.get(url)\n",
    "    soup = BeautifulSoup(res.text, 'lxml')\n",
    "    items = soup.find_all('li', {'class':'c-listing__item'})\n",
    "\n",
    "    for item in items:\n",
    "        pubdate = item.find_all('span',{'itemprop':'datePublished'})[0].text\n",
    "        pubdate = datetime.strptime(pubdate, '%d %B %Y').date()\n",
    "        \n",
    "        title = item.a.text\n",
    "        link = 'https:'+item.a['href']\n",
    "        source = 'bmc'\n",
    "        \n",
    "        papers.append([pubdate, title, link, source])\n",
    "        \n",
    "    return papers"
   ]
  },
  {
   "cell_type": "code",
   "execution_count": 3,
   "id": "6e6090b2",
   "metadata": {},
   "outputs": [],
   "source": [
    "bmc = bmc()"
   ]
  },
  {
   "cell_type": "code",
   "execution_count": 4,
   "id": "e85ade9e",
   "metadata": {},
   "outputs": [
    {
     "name": "stdout",
     "output_type": "stream",
     "text": [
      "2023-01-12 Advancements in nanoparticle-based treatment approaches for skin cancer therapy https://molecular-cancer.biomedcentral.com/articles/10.1186/s12943-022-01708-4\n",
      "2023-01-07 Neoadjuvant checkpoint blockade in combination with Chemotherapy in patients with tripe-negative breast cancer: exploratory analysis of real-world, multicenter data https://bmccancer.biomedcentral.com/articles/10.1186/s12885-023-10515-z\n",
      "2023-01-05 The efficacy of small molecule anti-angiogenic drugs in previously treated Thymic carcinoma https://bmccancer.biomedcentral.com/articles/10.1186/s12885-022-10448-z\n",
      "2022-12-21 Clinical characteristics and survival analysis of Chinese ovarian cancer patients with RAD51D germline mutations https://bmccancer.biomedcentral.com/articles/10.1186/s12885-022-10456-z\n",
      "2022-12-08 Targeting cell death pathways for cancer therapy: recent developments in necroptosis, pyroptosis, ferroptosis, and cuproptosis research https://jhoonline.biomedcentral.com/articles/10.1186/s13045-022-01392-3\n",
      "2022-12-08 Therapeutic strategies for EGFR-mutated non-small cell lung cancer patients with osimertinib resistance https://jhoonline.biomedcentral.com/articles/10.1186/s13045-022-01391-4\n",
      "2022-11-08 Natural killer cells in clinical development as non-engineered, engineered, and combination therapies https://jhoonline.biomedcentral.com/articles/10.1186/s13045-022-01382-5\n",
      "2022-11-05 Are anti-PD-1-associated immune related adverse events a harbinger of favorable clinical prognosis in patients with gastric cancer? https://bmccancer.biomedcentral.com/articles/10.1186/s12885-022-10199-x\n",
      "2022-11-01 NK cells and solid tumors: therapeutic potential and persisting obstacles https://molecular-cancer.biomedcentral.com/articles/10.1186/s12943-022-01672-z\n",
      "2022-11-01 Warburg effect in colorectal cancer: the emerging roles in tumor microenvironment and therapeutic implications https://jhoonline.biomedcentral.com/articles/10.1186/s13045-022-01358-5\n",
      "2022-10-31 Drug-related adverse events potentially predict the efficacy of apatinib on advanced hepatocellular carcinoma https://bmcgastroenterol.biomedcentral.com/articles/10.1186/s12876-022-02542-0\n",
      "2022-10-26 Recall of reactive cutaneous capillary endothelial proliferation (RCCEP) induced by stereotactic body radiation therapy (SBRT) in a patient with lung squamous cell carcinoma https://ehoonline.biomedcentral.com/articles/10.1186/s40164-022-00336-4\n",
      "2022-10-25 Bifunctional anti-PD-L1/TGF-βRII agent SHR-1701 in advanced solid tumors: a dose-escalation, dose-expansion, and clinical-expansion phase 1 trial https://bmcmedicine.biomedcentral.com/articles/10.1186/s12916-022-02605-9\n",
      "2022-10-24 Loss of NPM2 expression is a potential immunohistochemical marker for malignant peritoneal mesothelioma: a single-center study of 92 cases https://wjso.biomedcentral.com/articles/10.1186/s12957-022-02811-y\n",
      "2022-10-19 Tumor buster - where will the CAR-T cell therapy ‘missile’ go? https://molecular-cancer.biomedcentral.com/articles/10.1186/s12943-022-01669-8\n",
      "2022-10-19 TRIM family contribute to tumorigenesis, cancer development, and drug resistance https://ehoonline.biomedcentral.com/articles/10.1186/s40164-022-00322-w\n",
      "2022-10-12 Improving cancer immunotherapy by rationally combining oncolytic virus with modulators targeting key signaling pathways https://molecular-cancer.biomedcentral.com/articles/10.1186/s12943-022-01664-z\n",
      "2022-10-11 One-step fabrication of lidocaine/CalliSpheres® composites for painless transcatheter arterial embolization https://translational-medicine.biomedcentral.com/articles/10.1186/s12967-022-03653-8\n",
      "2022-10-06 AXL, along with PROS1, is overexpressed in papillary thyroid carcinoma and regulates its biological behaviour https://wjso.biomedcentral.com/articles/10.1186/s12957-022-02801-0\n",
      "2022-10-03 A phase Ib study of camrelizumab in combination with apatinib and fuzuloparib in patients with recurrent or metastatic triple-negative breast cancer https://bmcmedicine.biomedcentral.com/articles/10.1186/s12916-022-02527-6\n"
     ]
    }
   ],
   "source": [
    "for b in bmc:\n",
    "    print(b[0],b[1],b[2])"
   ]
  }
 ],
 "metadata": {
  "kernelspec": {
   "display_name": "Python 3 (ipykernel)",
   "language": "python",
   "name": "python3"
  },
  "language_info": {
   "codemirror_mode": {
    "name": "ipython",
    "version": 3
   },
   "file_extension": ".py",
   "mimetype": "text/x-python",
   "name": "python",
   "nbconvert_exporter": "python",
   "pygments_lexer": "ipython3",
   "version": "3.9.13"
  }
 },
 "nbformat": 4,
 "nbformat_minor": 5
}
