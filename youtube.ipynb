{
 "cells": [
  {
   "cell_type": "markdown",
   "id": "99846942",
   "metadata": {},
   "source": [
    "# Youtube"
   ]
  },
  {
   "cell_type": "markdown",
   "id": "afae4bfa",
   "metadata": {},
   "source": [
    "## Load"
   ]
  },
  {
   "cell_type": "code",
   "execution_count": 1,
   "id": "b0d25767",
   "metadata": {},
   "outputs": [],
   "source": [
    "import pandas as pd"
   ]
  },
  {
   "cell_type": "code",
   "execution_count": 2,
   "id": "92711e9b",
   "metadata": {},
   "outputs": [],
   "source": [
    "df = pd.read_csv('./database/youtube.csv')"
   ]
  },
  {
   "cell_type": "code",
   "execution_count": 3,
   "id": "1a3295af",
   "metadata": {
    "scrolled": true
   },
   "outputs": [
    {
     "data": {
      "text/html": [
       "<div>\n",
       "<style scoped>\n",
       "    .dataframe tbody tr th:only-of-type {\n",
       "        vertical-align: middle;\n",
       "    }\n",
       "\n",
       "    .dataframe tbody tr th {\n",
       "        vertical-align: top;\n",
       "    }\n",
       "\n",
       "    .dataframe thead th {\n",
       "        text-align: right;\n",
       "    }\n",
       "</style>\n",
       "<table border=\"1\" class=\"dataframe\">\n",
       "  <thead>\n",
       "    <tr style=\"text-align: right;\">\n",
       "      <th></th>\n",
       "      <th>publishedAt</th>\n",
       "      <th>title</th>\n",
       "      <th>viewCount</th>\n",
       "      <th>likeCount</th>\n",
       "      <th>commentCount</th>\n",
       "      <th>duration</th>\n",
       "      <th>description</th>\n",
       "    </tr>\n",
       "  </thead>\n",
       "  <tbody>\n",
       "    <tr>\n",
       "      <th>3803</th>\n",
       "      <td>2018-10-05T02:23:28Z</td>\n",
       "      <td>빅토리의5번째주식단타매매영상</td>\n",
       "      <td>47</td>\n",
       "      <td>1</td>\n",
       "      <td>0</td>\n",
       "      <td>PT1M1S</td>\n",
       "      <td>하나제약</td>\n",
       "    </tr>\n",
       "    <tr>\n",
       "      <th>3804</th>\n",
       "      <td>2018-10-04T15:55:58Z</td>\n",
       "      <td>빅토리의4번째주식단타매매영상</td>\n",
       "      <td>55</td>\n",
       "      <td>0</td>\n",
       "      <td>0</td>\n",
       "      <td>PT16M1S</td>\n",
       "      <td>비츠로시스</td>\n",
       "    </tr>\n",
       "    <tr>\n",
       "      <th>3805</th>\n",
       "      <td>2018-10-04T11:03:20Z</td>\n",
       "      <td>빅토리의3번째주식단타매매영상</td>\n",
       "      <td>18</td>\n",
       "      <td>0</td>\n",
       "      <td>0</td>\n",
       "      <td>PT3M9S</td>\n",
       "      <td>한국내화</td>\n",
       "    </tr>\n",
       "    <tr>\n",
       "      <th>3806</th>\n",
       "      <td>2018-10-04T10:48:14Z</td>\n",
       "      <td>빅토리의2번째주식단타매매영상</td>\n",
       "      <td>97</td>\n",
       "      <td>1</td>\n",
       "      <td>0</td>\n",
       "      <td>PT6M40S</td>\n",
       "      <td>아난티</td>\n",
       "    </tr>\n",
       "    <tr>\n",
       "      <th>3807</th>\n",
       "      <td>2018-10-04T10:06:05Z</td>\n",
       "      <td>빅토리의1번째주식단타매매영상</td>\n",
       "      <td>284</td>\n",
       "      <td>4</td>\n",
       "      <td>0</td>\n",
       "      <td>PT3M12S</td>\n",
       "      <td>현성바이탈</td>\n",
       "    </tr>\n",
       "  </tbody>\n",
       "</table>\n",
       "</div>"
      ],
      "text/plain": [
       "               publishedAt            title  viewCount  likeCount  \\\n",
       "3803  2018-10-05T02:23:28Z  빅토리의5번째주식단타매매영상         47          1   \n",
       "3804  2018-10-04T15:55:58Z  빅토리의4번째주식단타매매영상         55          0   \n",
       "3805  2018-10-04T11:03:20Z  빅토리의3번째주식단타매매영상         18          0   \n",
       "3806  2018-10-04T10:48:14Z  빅토리의2번째주식단타매매영상         97          1   \n",
       "3807  2018-10-04T10:06:05Z  빅토리의1번째주식단타매매영상        284          4   \n",
       "\n",
       "      commentCount duration description  \n",
       "3803             0   PT1M1S        하나제약  \n",
       "3804             0  PT16M1S       비츠로시스  \n",
       "3805             0   PT3M9S        한국내화  \n",
       "3806             0  PT6M40S         아난티  \n",
       "3807             0  PT3M12S       현성바이탈  "
      ]
     },
     "execution_count": 3,
     "metadata": {},
     "output_type": "execute_result"
    }
   ],
   "source": [
    "df.tail()"
   ]
  },
  {
   "cell_type": "markdown",
   "id": "ab270915",
   "metadata": {},
   "source": [
    "## KoNLPy"
   ]
  },
  {
   "cell_type": "code",
   "execution_count": 4,
   "id": "57e85374",
   "metadata": {},
   "outputs": [
    {
     "name": "stdout",
     "output_type": "stream",
     "text": [
      "Requirement already satisfied: konlpy in c:\\users\\user\\anaconda3\\lib\\site-packages (0.6.0)\n",
      "Requirement already satisfied: JPype1>=0.7.0 in c:\\users\\user\\anaconda3\\lib\\site-packages (from konlpy) (1.4.1)\n",
      "Requirement already satisfied: lxml>=4.1.0 in c:\\users\\user\\anaconda3\\lib\\site-packages (from konlpy) (4.9.1)\n",
      "Requirement already satisfied: numpy>=1.6 in c:\\users\\user\\anaconda3\\lib\\site-packages (from konlpy) (1.21.5)\n",
      "Requirement already satisfied: packaging in c:\\users\\user\\anaconda3\\lib\\site-packages (from JPype1>=0.7.0->konlpy) (21.3)\n",
      "Requirement already satisfied: pyparsing!=3.0.5,>=2.0.2 in c:\\users\\user\\anaconda3\\lib\\site-packages (from packaging->JPype1>=0.7.0->konlpy) (3.0.9)\n"
     ]
    }
   ],
   "source": [
    "!pip install konlpy"
   ]
  },
  {
   "cell_type": "code",
   "execution_count": 5,
   "id": "d708dfec",
   "metadata": {},
   "outputs": [],
   "source": [
    "from konlpy.tag import Okt"
   ]
  },
  {
   "cell_type": "code",
   "execution_count": 6,
   "id": "b84743b6",
   "metadata": {},
   "outputs": [],
   "source": [
    "okt = Okt()"
   ]
  },
  {
   "cell_type": "code",
   "execution_count": 7,
   "id": "b012aa6e",
   "metadata": {},
   "outputs": [],
   "source": [
    "df['title'] = df['title'].apply(lambda x : okt.morphs(x, stem=True))\n",
    "df['title'] = df['title'].apply(lambda x : ' '.join(x))"
   ]
  },
  {
   "cell_type": "code",
   "execution_count": 8,
   "id": "9011e4a6",
   "metadata": {},
   "outputs": [
    {
     "data": {
      "text/html": [
       "<div>\n",
       "<style scoped>\n",
       "    .dataframe tbody tr th:only-of-type {\n",
       "        vertical-align: middle;\n",
       "    }\n",
       "\n",
       "    .dataframe tbody tr th {\n",
       "        vertical-align: top;\n",
       "    }\n",
       "\n",
       "    .dataframe thead th {\n",
       "        text-align: right;\n",
       "    }\n",
       "</style>\n",
       "<table border=\"1\" class=\"dataframe\">\n",
       "  <thead>\n",
       "    <tr style=\"text-align: right;\">\n",
       "      <th></th>\n",
       "      <th>publishedAt</th>\n",
       "      <th>title</th>\n",
       "      <th>viewCount</th>\n",
       "      <th>likeCount</th>\n",
       "      <th>commentCount</th>\n",
       "      <th>duration</th>\n",
       "      <th>description</th>\n",
       "    </tr>\n",
       "  </thead>\n",
       "  <tbody>\n",
       "    <tr>\n",
       "      <th>3803</th>\n",
       "      <td>2018-10-05T02:23:28Z</td>\n",
       "      <td>빅토리 의 5 번 째 주 식단 타 매 매 영상</td>\n",
       "      <td>47</td>\n",
       "      <td>1</td>\n",
       "      <td>0</td>\n",
       "      <td>PT1M1S</td>\n",
       "      <td>하나제약</td>\n",
       "    </tr>\n",
       "    <tr>\n",
       "      <th>3804</th>\n",
       "      <td>2018-10-04T15:55:58Z</td>\n",
       "      <td>빅토리 의 4 번 째 주 식단 타 매 매 영상</td>\n",
       "      <td>55</td>\n",
       "      <td>0</td>\n",
       "      <td>0</td>\n",
       "      <td>PT16M1S</td>\n",
       "      <td>비츠로시스</td>\n",
       "    </tr>\n",
       "    <tr>\n",
       "      <th>3805</th>\n",
       "      <td>2018-10-04T11:03:20Z</td>\n",
       "      <td>빅토리 의 3 번 째 주 식단 타 매 매 영상</td>\n",
       "      <td>18</td>\n",
       "      <td>0</td>\n",
       "      <td>0</td>\n",
       "      <td>PT3M9S</td>\n",
       "      <td>한국내화</td>\n",
       "    </tr>\n",
       "    <tr>\n",
       "      <th>3806</th>\n",
       "      <td>2018-10-04T10:48:14Z</td>\n",
       "      <td>빅토리 의 2 번 째 주 식단 타 매 매 영상</td>\n",
       "      <td>97</td>\n",
       "      <td>1</td>\n",
       "      <td>0</td>\n",
       "      <td>PT6M40S</td>\n",
       "      <td>아난티</td>\n",
       "    </tr>\n",
       "    <tr>\n",
       "      <th>3807</th>\n",
       "      <td>2018-10-04T10:06:05Z</td>\n",
       "      <td>빅토리 의 1 번 째 주 식단 타 매 매 영상</td>\n",
       "      <td>284</td>\n",
       "      <td>4</td>\n",
       "      <td>0</td>\n",
       "      <td>PT3M12S</td>\n",
       "      <td>현성바이탈</td>\n",
       "    </tr>\n",
       "  </tbody>\n",
       "</table>\n",
       "</div>"
      ],
      "text/plain": [
       "               publishedAt                      title  viewCount  likeCount  \\\n",
       "3803  2018-10-05T02:23:28Z  빅토리 의 5 번 째 주 식단 타 매 매 영상         47          1   \n",
       "3804  2018-10-04T15:55:58Z  빅토리 의 4 번 째 주 식단 타 매 매 영상         55          0   \n",
       "3805  2018-10-04T11:03:20Z  빅토리 의 3 번 째 주 식단 타 매 매 영상         18          0   \n",
       "3806  2018-10-04T10:48:14Z  빅토리 의 2 번 째 주 식단 타 매 매 영상         97          1   \n",
       "3807  2018-10-04T10:06:05Z  빅토리 의 1 번 째 주 식단 타 매 매 영상        284          4   \n",
       "\n",
       "      commentCount duration description  \n",
       "3803             0   PT1M1S        하나제약  \n",
       "3804             0  PT16M1S       비츠로시스  \n",
       "3805             0   PT3M9S        한국내화  \n",
       "3806             0  PT6M40S         아난티  \n",
       "3807             0  PT3M12S       현성바이탈  "
      ]
     },
     "execution_count": 8,
     "metadata": {},
     "output_type": "execute_result"
    }
   ],
   "source": [
    "df.tail()"
   ]
  },
  {
   "cell_type": "markdown",
   "id": "04870311",
   "metadata": {},
   "source": [
    "## X and y\n",
    "X : ```title```  \n",
    "y : ```viewcount```"
   ]
  },
  {
   "cell_type": "code",
   "execution_count": 9,
   "id": "ed42bd61",
   "metadata": {},
   "outputs": [],
   "source": [
    "import numpy as np"
   ]
  },
  {
   "cell_type": "code",
   "execution_count": 10,
   "id": "c7b3ce78",
   "metadata": {},
   "outputs": [
    {
     "name": "stdout",
     "output_type": "stream",
     "text": [
      "X shape: (3808,)\n",
      "y shape: (3808,)\n"
     ]
    }
   ],
   "source": [
    "X = np.array(df['title'])\n",
    "y = np.array(df['viewCount'])\n",
    "print(\"X shape:\", X.shape)\n",
    "print(\"y shape:\", y.shape)"
   ]
  },
  {
   "cell_type": "markdown",
   "id": "5f2e767d",
   "metadata": {},
   "source": [
    "```y``` 라벨 중앙값(median)으로 binary classification의 threshold를 정합니다."
   ]
  },
  {
   "cell_type": "code",
   "execution_count": 11,
   "id": "13b515e5",
   "metadata": {},
   "outputs": [
    {
     "name": "stdout",
     "output_type": "stream",
     "text": [
      "2626.0\n"
     ]
    }
   ],
   "source": [
    "threshold = np.median(y)\n",
    "print(threshold)"
   ]
  },
  {
   "cell_type": "code",
   "execution_count": 12,
   "id": "f5e948e2",
   "metadata": {},
   "outputs": [
    {
     "name": "stdout",
     "output_type": "stream",
     "text": [
      "Positive Label: 1904\n",
      "Negative Label: 1904\n"
     ]
    }
   ],
   "source": [
    "y = np.where(y>=threshold,1,0)\n",
    "print(\"Positive Label:\", len(y[y == 1]))\n",
    "print(\"Negative Label:\", len(y[y == 0]))"
   ]
  },
  {
   "cell_type": "markdown",
   "id": "68d663bb",
   "metadata": {},
   "source": [
    "## Train and Test"
   ]
  },
  {
   "cell_type": "code",
   "execution_count": 13,
   "id": "74c3a858",
   "metadata": {},
   "outputs": [],
   "source": [
    "from sklearn.model_selection import train_test_split"
   ]
  },
  {
   "cell_type": "code",
   "execution_count": 14,
   "id": "052d063e",
   "metadata": {},
   "outputs": [
    {
     "name": "stdout",
     "output_type": "stream",
     "text": [
      "X 훈련데이터 shape: (2665,)\n",
      "y 훈련데이터 shape: (2665,)\n",
      "X 실험데이터 shape: (1143,)\n",
      "y 실험데이터 shape: (1143,)\n"
     ]
    }
   ],
   "source": [
    "X_train, X_test,y_train, y_test = train_test_split(X, y, \n",
    "                                                   random_state=42, \n",
    "                                                   test_size = 0.3)\n",
    "print(\"X 훈련데이터 shape:\", X_train.shape)\n",
    "print(\"y 훈련데이터 shape:\", y_train.shape)\n",
    "print(\"X 실험데이터 shape:\", X_test.shape)\n",
    "print(\"y 실험데이터 shape:\", y_test.shape)"
   ]
  },
  {
   "cell_type": "markdown",
   "id": "142d994e",
   "metadata": {},
   "source": [
    "## Vectorization\n",
    "```CountVectorizer```를 사용하거나 ```TfidfVectorizer```를 사용합니다."
   ]
  },
  {
   "cell_type": "markdown",
   "id": "459204a2",
   "metadata": {},
   "source": [
    "#### CountVector"
   ]
  },
  {
   "cell_type": "code",
   "execution_count": 15,
   "id": "075d7d16",
   "metadata": {},
   "outputs": [
    {
     "name": "stdout",
     "output_type": "stream",
     "text": [
      "단어사전의 단어개수: 5159\n",
      "X 훈련데이터 shape: (2665, 5159)\n"
     ]
    }
   ],
   "source": [
    "from sklearn.feature_extraction.text import CountVectorizer\n",
    "cv = CountVectorizer()\n",
    "X_train = cv.fit_transform(X_train).toarray()\n",
    "print(\"단어사전의 단어개수:\", len(cv.vocabulary_))\n",
    "print(\"X 훈련데이터 shape:\", X_train.shape)"
   ]
  },
  {
   "cell_type": "markdown",
   "id": "9b4f5783",
   "metadata": {},
   "source": [
    "#### TF-IDFVector"
   ]
  },
  {
   "cell_type": "code",
   "execution_count": 16,
   "id": "ffaf6df2",
   "metadata": {},
   "outputs": [],
   "source": [
    "# from sklearn.feature_extraction.text import TfidfVectorizer\n",
    "# tfidf = TfidfVectorizer()\n",
    "# X_train = tfidf.fit_transform(X_train).toarray()\n",
    "# print(\"단어사전의 단어개수:\", len(tfidf.vocabulary_))\n",
    "# print(\"X 훈련데이터 shape:\", X_train.shape)"
   ]
  },
  {
   "cell_type": "markdown",
   "id": "d83bdcfc",
   "metadata": {},
   "source": [
    "## Model"
   ]
  },
  {
   "cell_type": "code",
   "execution_count": 17,
   "id": "fef46c3c",
   "metadata": {},
   "outputs": [],
   "source": [
    "from keras.optimizers import Adagrad\n",
    "from keras.models import Sequential\n",
    "from keras.layers import Dropout\n",
    "from keras.layers import Dense"
   ]
  },
  {
   "cell_type": "code",
   "execution_count": 18,
   "id": "30f1ba63",
   "metadata": {},
   "outputs": [],
   "source": [
    "model = Sequential()\n",
    "model.add(Dense(4, input_dim=len(cv.vocabulary_), activation='relu'))\n",
    "model.add(Dropout(0.3))\n",
    "model.add(Dense(4, activation='relu'))\n",
    "model.add(Dropout(0.3))\n",
    "model.add(Dense(1, activation='sigmoid'))"
   ]
  },
  {
   "cell_type": "code",
   "execution_count": 19,
   "id": "47244ecc",
   "metadata": {},
   "outputs": [],
   "source": [
    "optimizer = Adagrad(learning_rate=0.3)\n",
    "model.compile(loss='binary_crossentropy', optimizer=optimizer, metrics=['accuracy'])"
   ]
  },
  {
   "cell_type": "code",
   "execution_count": 20,
   "id": "7cc9655a",
   "metadata": {},
   "outputs": [
    {
     "name": "stdout",
     "output_type": "stream",
     "text": [
      "Model: \"sequential\"\n",
      "_________________________________________________________________\n",
      " Layer (type)                Output Shape              Param #   \n",
      "=================================================================\n",
      " dense (Dense)               (None, 4)                 20640     \n",
      "                                                                 \n",
      " dropout (Dropout)           (None, 4)                 0         \n",
      "                                                                 \n",
      " dense_1 (Dense)             (None, 4)                 20        \n",
      "                                                                 \n",
      " dropout_1 (Dropout)         (None, 4)                 0         \n",
      "                                                                 \n",
      " dense_2 (Dense)             (None, 1)                 5         \n",
      "                                                                 \n",
      "=================================================================\n",
      "Total params: 20,665\n",
      "Trainable params: 20,665\n",
      "Non-trainable params: 0\n",
      "_________________________________________________________________\n"
     ]
    }
   ],
   "source": [
    "model.summary()"
   ]
  },
  {
   "cell_type": "markdown",
   "id": "3048b556",
   "metadata": {},
   "source": [
    "#### Learning"
   ]
  },
  {
   "cell_type": "code",
   "execution_count": 21,
   "id": "2746abde",
   "metadata": {},
   "outputs": [
    {
     "name": "stdout",
     "output_type": "stream",
     "text": [
      "Epoch 1/20\n",
      "54/54 [==============================] - 1s 7ms/step - loss: 0.5938 - accuracy: 0.7062\n",
      "Epoch 2/20\n",
      "54/54 [==============================] - 0s 3ms/step - loss: 0.4806 - accuracy: 0.7805\n",
      "Epoch 3/20\n",
      "54/54 [==============================] - 0s 3ms/step - loss: 0.4440 - accuracy: 0.8120\n",
      "Epoch 4/20\n",
      "54/54 [==============================] - 0s 4ms/step - loss: 0.3886 - accuracy: 0.8477\n",
      "Epoch 5/20\n",
      "54/54 [==============================] - 0s 4ms/step - loss: 0.3609 - accuracy: 0.8563\n",
      "Epoch 6/20\n",
      "54/54 [==============================] - 0s 4ms/step - loss: 0.3269 - accuracy: 0.8713\n",
      "Epoch 7/20\n",
      "54/54 [==============================] - 0s 4ms/step - loss: 0.3100 - accuracy: 0.8814\n",
      "Epoch 8/20\n",
      "54/54 [==============================] - 0s 4ms/step - loss: 0.2744 - accuracy: 0.8972\n",
      "Epoch 9/20\n",
      "54/54 [==============================] - 0s 4ms/step - loss: 0.2664 - accuracy: 0.9032\n",
      "Epoch 10/20\n",
      "54/54 [==============================] - 0s 4ms/step - loss: 0.2506 - accuracy: 0.9002\n",
      "Epoch 11/20\n",
      "54/54 [==============================] - 0s 4ms/step - loss: 0.2311 - accuracy: 0.9133\n",
      "Epoch 12/20\n",
      "54/54 [==============================] - 0s 4ms/step - loss: 0.2220 - accuracy: 0.9208\n",
      "Epoch 13/20\n",
      "54/54 [==============================] - 0s 4ms/step - loss: 0.2062 - accuracy: 0.9253\n",
      "Epoch 14/20\n",
      "54/54 [==============================] - 0s 4ms/step - loss: 0.1799 - accuracy: 0.9381\n",
      "Epoch 15/20\n",
      "54/54 [==============================] - 0s 4ms/step - loss: 0.1788 - accuracy: 0.9430\n",
      "Epoch 16/20\n",
      "54/54 [==============================] - 0s 4ms/step - loss: 0.1701 - accuracy: 0.9403\n",
      "Epoch 17/20\n",
      "54/54 [==============================] - 0s 3ms/step - loss: 0.1700 - accuracy: 0.9396\n",
      "Epoch 18/20\n",
      "54/54 [==============================] - 0s 3ms/step - loss: 0.1599 - accuracy: 0.9486\n",
      "Epoch 19/20\n",
      "54/54 [==============================] - 0s 3ms/step - loss: 0.1528 - accuracy: 0.9486\n",
      "Epoch 20/20\n",
      "54/54 [==============================] - 0s 3ms/step - loss: 0.1515 - accuracy: 0.9527\n"
     ]
    },
    {
     "data": {
      "text/plain": [
       "<keras.callbacks.History at 0x2a7680a7ac0>"
      ]
     },
     "execution_count": 21,
     "metadata": {},
     "output_type": "execute_result"
    }
   ],
   "source": [
    "model.fit(X_train, y_train, epochs=20, batch_size=50)"
   ]
  },
  {
   "cell_type": "markdown",
   "id": "e32cf65e",
   "metadata": {},
   "source": [
    "#### Evaluation"
   ]
  },
  {
   "cell_type": "code",
   "execution_count": 22,
   "id": "381aef86",
   "metadata": {},
   "outputs": [],
   "source": [
    "X_test = cv.transform(X_test).toarray()"
   ]
  },
  {
   "cell_type": "code",
   "execution_count": 23,
   "id": "54473e60",
   "metadata": {},
   "outputs": [
    {
     "name": "stdout",
     "output_type": "stream",
     "text": [
      "36/36 [==============================] - 0s 2ms/step - loss: 1.0857 - accuracy: 0.8224\n"
     ]
    }
   ],
   "source": [
    "from sklearn import metrics\n",
    "_, accuracy = model.evaluate(X_test, y_test)"
   ]
  },
  {
   "cell_type": "code",
   "execution_count": 24,
   "id": "dc266e1d",
   "metadata": {},
   "outputs": [
    {
     "name": "stdout",
     "output_type": "stream",
     "text": [
      "0.8223971724510193\n"
     ]
    }
   ],
   "source": [
    "print(accuracy)"
   ]
  },
  {
   "cell_type": "markdown",
   "id": "e6616f16",
   "metadata": {},
   "source": [
    "Confusion Matrix"
   ]
  },
  {
   "cell_type": "code",
   "execution_count": 25,
   "id": "a5fb2bbc",
   "metadata": {},
   "outputs": [
    {
     "name": "stdout",
     "output_type": "stream",
     "text": [
      "36/36 [==============================] - 0s 2ms/step\n"
     ]
    }
   ],
   "source": [
    "y_pred = model.predict(X_test)\n",
    "confusion_matrix = metrics.confusion_matrix(y_test, np.rint(y_pred))"
   ]
  },
  {
   "cell_type": "code",
   "execution_count": 26,
   "id": "8178ea3b",
   "metadata": {},
   "outputs": [
    {
     "name": "stdout",
     "output_type": "stream",
     "text": [
      "[[431 125]\n",
      " [ 78 509]]\n"
     ]
    }
   ],
   "source": [
    "print(confusion_matrix)"
   ]
  },
  {
   "cell_type": "markdown",
   "id": "016c6ca2",
   "metadata": {},
   "source": [
    "#### Save"
   ]
  },
  {
   "cell_type": "code",
   "execution_count": 27,
   "id": "15cc23e2",
   "metadata": {},
   "outputs": [],
   "source": [
    "from joblib import dump"
   ]
  },
  {
   "cell_type": "code",
   "execution_count": 28,
   "id": "bd91c388",
   "metadata": {},
   "outputs": [
    {
     "data": {
      "text/plain": [
       "['youtube_scaler.pkl']"
      ]
     },
     "execution_count": 28,
     "metadata": {},
     "output_type": "execute_result"
    }
   ],
   "source": [
    "dump(cv, \"youtube_scaler.pkl\")"
   ]
  },
  {
   "cell_type": "code",
   "execution_count": 29,
   "id": "1170227f",
   "metadata": {},
   "outputs": [
    {
     "name": "stdout",
     "output_type": "stream",
     "text": [
      "Keras weights file (<HDF5 file \"variables.h5\" (mode r+)>) saving:\n",
      "...layers\\dense\n",
      "......vars\n",
      ".........0\n",
      ".........1\n",
      "...layers\\dense_1\n",
      "......vars\n",
      ".........0\n",
      ".........1\n",
      "...layers\\dense_2\n",
      "......vars\n",
      ".........0\n",
      ".........1\n",
      "...layers\\dropout\n",
      "......vars\n",
      "...layers\\dropout_1\n",
      "......vars\n",
      "...metrics\\mean\n",
      "......vars\n",
      ".........0\n",
      ".........1\n",
      "...metrics\\mean_metric_wrapper\n",
      "......vars\n",
      ".........0\n",
      ".........1\n",
      "...vars\n",
      "Keras model archive saving:\n",
      "File Name                                             Modified             Size\n",
      "config.json                                    2023-01-18 16:02:42         2336\n",
      "metadata.json                                  2023-01-18 16:02:42           64\n",
      "variables.h5                                   2023-01-18 16:02:42       103032\n"
     ]
    },
    {
     "data": {
      "text/plain": [
       "['youtube_model.pkl']"
      ]
     },
     "execution_count": 29,
     "metadata": {},
     "output_type": "execute_result"
    }
   ],
   "source": [
    "dump(model, \"youtube_model.pkl\")"
   ]
  },
  {
   "cell_type": "markdown",
   "id": "a97ecaf3",
   "metadata": {},
   "source": [
    "## Prediction"
   ]
  },
  {
   "cell_type": "code",
   "execution_count": 30,
   "id": "2646cec7",
   "metadata": {},
   "outputs": [],
   "source": [
    "from joblib import load"
   ]
  },
  {
   "cell_type": "code",
   "execution_count": 31,
   "id": "0dce21a3",
   "metadata": {},
   "outputs": [
    {
     "name": "stdout",
     "output_type": "stream",
     "text": [
      "Keras model archive loading:\n",
      "File Name                                             Modified             Size\n",
      "config.json                                    2023-01-18 14:55:42         2336\n",
      "metadata.json                                  2023-01-18 14:55:42           64\n",
      "variables.h5                                   2023-01-18 14:55:42       103032\n",
      "Keras weights file (<HDF5 file \"variables.h5\" (mode r)>) loading:\n",
      "...layers\\dense\n",
      "......vars\n",
      ".........0\n",
      ".........1\n",
      "...layers\\dense_1\n",
      "......vars\n",
      ".........0\n",
      ".........1\n",
      "...layers\\dense_2\n",
      "......vars\n",
      ".........0\n",
      ".........1\n",
      "...layers\\dropout\n",
      "......vars\n",
      "...layers\\dropout_1\n",
      "......vars\n",
      "...metrics\\mean\n",
      "......vars\n",
      ".........0\n",
      ".........1\n",
      "...metrics\\mean_metric_wrapper\n",
      "......vars\n",
      ".........0\n",
      ".........1\n",
      "...vars\n"
     ]
    }
   ],
   "source": [
    "scaler = load(\"./database/youtube_scaler.pkl\")\n",
    "model = load(\"./database/youtube_model.pkl\")"
   ]
  },
  {
   "cell_type": "code",
   "execution_count": 32,
   "id": "4e183c63",
   "metadata": {},
   "outputs": [],
   "source": [
    "text = \"인공지능으로 유튜브 조회수 예측하기 #2\""
   ]
  },
  {
   "cell_type": "code",
   "execution_count": 33,
   "id": "75acb297",
   "metadata": {},
   "outputs": [],
   "source": [
    "text = scaler.transform([text])"
   ]
  },
  {
   "cell_type": "code",
   "execution_count": 34,
   "id": "8d579230",
   "metadata": {},
   "outputs": [
    {
     "name": "stdout",
     "output_type": "stream",
     "text": [
      "1/1 [==============================] - 0s 89ms/step\n"
     ]
    }
   ],
   "source": [
    "prediction = model.predict(text)"
   ]
  },
  {
   "cell_type": "code",
   "execution_count": 35,
   "id": "d0623a0d",
   "metadata": {},
   "outputs": [
    {
     "name": "stdout",
     "output_type": "stream",
     "text": [
      "[[0.06948145]]\n"
     ]
    }
   ],
   "source": [
    "print(prediction)"
   ]
  },
  {
   "cell_type": "code",
   "execution_count": 36,
   "id": "e8ced63f",
   "metadata": {},
   "outputs": [],
   "source": [
    "prediction = np.rint(prediction)"
   ]
  },
  {
   "cell_type": "code",
   "execution_count": 37,
   "id": "bbd18325",
   "metadata": {},
   "outputs": [
    {
     "name": "stdout",
     "output_type": "stream",
     "text": [
      "[[0.]]\n"
     ]
    }
   ],
   "source": [
    "print(prediction)"
   ]
  }
 ],
 "metadata": {
  "kernelspec": {
   "display_name": "Python 3 (ipykernel)",
   "language": "python",
   "name": "python3"
  },
  "language_info": {
   "codemirror_mode": {
    "name": "ipython",
    "version": 3
   },
   "file_extension": ".py",
   "mimetype": "text/x-python",
   "name": "python",
   "nbconvert_exporter": "python",
   "pygments_lexer": "ipython3",
   "version": "3.9.13"
  }
 },
 "nbformat": 4,
 "nbformat_minor": 5
}
