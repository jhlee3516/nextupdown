{
 "cells": [
  {
   "cell_type": "markdown",
   "id": "99846942",
   "metadata": {},
   "source": [
    "# Youtube"
   ]
  },
  {
   "cell_type": "markdown",
   "id": "afae4bfa",
   "metadata": {},
   "source": [
    "## Load"
   ]
  },
  {
   "cell_type": "code",
   "execution_count": 1,
   "id": "b0d25767",
   "metadata": {},
   "outputs": [],
   "source": [
    "import pandas as pd"
   ]
  },
  {
   "cell_type": "code",
   "execution_count": 2,
   "id": "92711e9b",
   "metadata": {},
   "outputs": [],
   "source": [
    "df = pd.read_csv('./database/youtube.csv', dtype={'description':str})"
   ]
  },
  {
   "cell_type": "code",
   "execution_count": 3,
   "id": "1a3295af",
   "metadata": {
    "scrolled": true
   },
   "outputs": [
    {
     "data": {
      "text/html": [
       "<div>\n",
       "<style scoped>\n",
       "    .dataframe tbody tr th:only-of-type {\n",
       "        vertical-align: middle;\n",
       "    }\n",
       "\n",
       "    .dataframe tbody tr th {\n",
       "        vertical-align: top;\n",
       "    }\n",
       "\n",
       "    .dataframe thead th {\n",
       "        text-align: right;\n",
       "    }\n",
       "</style>\n",
       "<table border=\"1\" class=\"dataframe\">\n",
       "  <thead>\n",
       "    <tr style=\"text-align: right;\">\n",
       "      <th></th>\n",
       "      <th>publishedAt</th>\n",
       "      <th>title</th>\n",
       "      <th>viewCount</th>\n",
       "      <th>likeCount</th>\n",
       "      <th>commentCount</th>\n",
       "      <th>duration</th>\n",
       "      <th>description</th>\n",
       "    </tr>\n",
       "  </thead>\n",
       "  <tbody>\n",
       "    <tr>\n",
       "      <th>3908</th>\n",
       "      <td>2018-10-05T02:23:28Z</td>\n",
       "      <td>빅토리의5번째주식단타매매영상</td>\n",
       "      <td>47</td>\n",
       "      <td>1</td>\n",
       "      <td>0</td>\n",
       "      <td>PT1M1S</td>\n",
       "      <td>하나제약</td>\n",
       "    </tr>\n",
       "    <tr>\n",
       "      <th>3909</th>\n",
       "      <td>2018-10-04T15:55:58Z</td>\n",
       "      <td>빅토리의4번째주식단타매매영상</td>\n",
       "      <td>55</td>\n",
       "      <td>0</td>\n",
       "      <td>0</td>\n",
       "      <td>PT16M1S</td>\n",
       "      <td>비츠로시스</td>\n",
       "    </tr>\n",
       "    <tr>\n",
       "      <th>3910</th>\n",
       "      <td>2018-10-04T11:03:20Z</td>\n",
       "      <td>빅토리의3번째주식단타매매영상</td>\n",
       "      <td>18</td>\n",
       "      <td>0</td>\n",
       "      <td>0</td>\n",
       "      <td>PT3M9S</td>\n",
       "      <td>한국내화</td>\n",
       "    </tr>\n",
       "    <tr>\n",
       "      <th>3911</th>\n",
       "      <td>2018-10-04T10:48:14Z</td>\n",
       "      <td>빅토리의2번째주식단타매매영상</td>\n",
       "      <td>97</td>\n",
       "      <td>1</td>\n",
       "      <td>0</td>\n",
       "      <td>PT6M40S</td>\n",
       "      <td>아난티</td>\n",
       "    </tr>\n",
       "    <tr>\n",
       "      <th>3912</th>\n",
       "      <td>2018-10-04T10:06:05Z</td>\n",
       "      <td>빅토리의1번째주식단타매매영상</td>\n",
       "      <td>284</td>\n",
       "      <td>4</td>\n",
       "      <td>0</td>\n",
       "      <td>PT3M12S</td>\n",
       "      <td>현성바이탈</td>\n",
       "    </tr>\n",
       "  </tbody>\n",
       "</table>\n",
       "</div>"
      ],
      "text/plain": [
       "               publishedAt            title  viewCount  likeCount  \\\n",
       "3908  2018-10-05T02:23:28Z  빅토리의5번째주식단타매매영상         47          1   \n",
       "3909  2018-10-04T15:55:58Z  빅토리의4번째주식단타매매영상         55          0   \n",
       "3910  2018-10-04T11:03:20Z  빅토리의3번째주식단타매매영상         18          0   \n",
       "3911  2018-10-04T10:48:14Z  빅토리의2번째주식단타매매영상         97          1   \n",
       "3912  2018-10-04T10:06:05Z  빅토리의1번째주식단타매매영상        284          4   \n",
       "\n",
       "      commentCount duration description  \n",
       "3908             0   PT1M1S        하나제약  \n",
       "3909             0  PT16M1S       비츠로시스  \n",
       "3910             0   PT3M9S        한국내화  \n",
       "3911             0  PT6M40S         아난티  \n",
       "3912             0  PT3M12S       현성바이탈  "
      ]
     },
     "execution_count": 3,
     "metadata": {},
     "output_type": "execute_result"
    }
   ],
   "source": [
    "df.tail()"
   ]
  },
  {
   "cell_type": "markdown",
   "id": "ab270915",
   "metadata": {},
   "source": [
    "## KoNLPy"
   ]
  },
  {
   "cell_type": "code",
   "execution_count": 4,
   "id": "57e85374",
   "metadata": {},
   "outputs": [
    {
     "name": "stdout",
     "output_type": "stream",
     "text": [
      "Requirement already satisfied: konlpy in c:\\users\\user\\anaconda3\\lib\\site-packages (0.6.0)\n",
      "Requirement already satisfied: lxml>=4.1.0 in c:\\users\\user\\anaconda3\\lib\\site-packages (from konlpy) (4.9.1)\n",
      "Requirement already satisfied: JPype1>=0.7.0 in c:\\users\\user\\anaconda3\\lib\\site-packages (from konlpy) (1.4.1)\n",
      "Requirement already satisfied: numpy>=1.6 in c:\\users\\user\\anaconda3\\lib\\site-packages (from konlpy) (1.21.5)\n",
      "Requirement already satisfied: packaging in c:\\users\\user\\anaconda3\\lib\\site-packages (from JPype1>=0.7.0->konlpy) (21.3)\n",
      "Requirement already satisfied: pyparsing!=3.0.5,>=2.0.2 in c:\\users\\user\\anaconda3\\lib\\site-packages (from packaging->JPype1>=0.7.0->konlpy) (3.0.9)\n"
     ]
    }
   ],
   "source": [
    "!pip install konlpy"
   ]
  },
  {
   "cell_type": "code",
   "execution_count": 5,
   "id": "d708dfec",
   "metadata": {},
   "outputs": [],
   "source": [
    "from konlpy.tag import Okt"
   ]
  },
  {
   "cell_type": "code",
   "execution_count": 6,
   "id": "b84743b6",
   "metadata": {},
   "outputs": [],
   "source": [
    "okt = Okt()"
   ]
  },
  {
   "cell_type": "code",
   "execution_count": 7,
   "id": "b012aa6e",
   "metadata": {},
   "outputs": [],
   "source": [
    "df['title'] = df['title'].apply(lambda x : okt.morphs(x, stem=True))\n",
    "df['title'] = df['title'].apply(lambda x : ' '.join(x))"
   ]
  },
  {
   "cell_type": "code",
   "execution_count": 8,
   "id": "9011e4a6",
   "metadata": {},
   "outputs": [
    {
     "data": {
      "text/html": [
       "<div>\n",
       "<style scoped>\n",
       "    .dataframe tbody tr th:only-of-type {\n",
       "        vertical-align: middle;\n",
       "    }\n",
       "\n",
       "    .dataframe tbody tr th {\n",
       "        vertical-align: top;\n",
       "    }\n",
       "\n",
       "    .dataframe thead th {\n",
       "        text-align: right;\n",
       "    }\n",
       "</style>\n",
       "<table border=\"1\" class=\"dataframe\">\n",
       "  <thead>\n",
       "    <tr style=\"text-align: right;\">\n",
       "      <th></th>\n",
       "      <th>publishedAt</th>\n",
       "      <th>title</th>\n",
       "      <th>viewCount</th>\n",
       "      <th>likeCount</th>\n",
       "      <th>commentCount</th>\n",
       "      <th>duration</th>\n",
       "      <th>description</th>\n",
       "    </tr>\n",
       "  </thead>\n",
       "  <tbody>\n",
       "    <tr>\n",
       "      <th>3908</th>\n",
       "      <td>2018-10-05T02:23:28Z</td>\n",
       "      <td>빅토리 의 5 번 째 주 식단 타 매 매 영상</td>\n",
       "      <td>47</td>\n",
       "      <td>1</td>\n",
       "      <td>0</td>\n",
       "      <td>PT1M1S</td>\n",
       "      <td>하나제약</td>\n",
       "    </tr>\n",
       "    <tr>\n",
       "      <th>3909</th>\n",
       "      <td>2018-10-04T15:55:58Z</td>\n",
       "      <td>빅토리 의 4 번 째 주 식단 타 매 매 영상</td>\n",
       "      <td>55</td>\n",
       "      <td>0</td>\n",
       "      <td>0</td>\n",
       "      <td>PT16M1S</td>\n",
       "      <td>비츠로시스</td>\n",
       "    </tr>\n",
       "    <tr>\n",
       "      <th>3910</th>\n",
       "      <td>2018-10-04T11:03:20Z</td>\n",
       "      <td>빅토리 의 3 번 째 주 식단 타 매 매 영상</td>\n",
       "      <td>18</td>\n",
       "      <td>0</td>\n",
       "      <td>0</td>\n",
       "      <td>PT3M9S</td>\n",
       "      <td>한국내화</td>\n",
       "    </tr>\n",
       "    <tr>\n",
       "      <th>3911</th>\n",
       "      <td>2018-10-04T10:48:14Z</td>\n",
       "      <td>빅토리 의 2 번 째 주 식단 타 매 매 영상</td>\n",
       "      <td>97</td>\n",
       "      <td>1</td>\n",
       "      <td>0</td>\n",
       "      <td>PT6M40S</td>\n",
       "      <td>아난티</td>\n",
       "    </tr>\n",
       "    <tr>\n",
       "      <th>3912</th>\n",
       "      <td>2018-10-04T10:06:05Z</td>\n",
       "      <td>빅토리 의 1 번 째 주 식단 타 매 매 영상</td>\n",
       "      <td>284</td>\n",
       "      <td>4</td>\n",
       "      <td>0</td>\n",
       "      <td>PT3M12S</td>\n",
       "      <td>현성바이탈</td>\n",
       "    </tr>\n",
       "  </tbody>\n",
       "</table>\n",
       "</div>"
      ],
      "text/plain": [
       "               publishedAt                      title  viewCount  likeCount  \\\n",
       "3908  2018-10-05T02:23:28Z  빅토리 의 5 번 째 주 식단 타 매 매 영상         47          1   \n",
       "3909  2018-10-04T15:55:58Z  빅토리 의 4 번 째 주 식단 타 매 매 영상         55          0   \n",
       "3910  2018-10-04T11:03:20Z  빅토리 의 3 번 째 주 식단 타 매 매 영상         18          0   \n",
       "3911  2018-10-04T10:48:14Z  빅토리 의 2 번 째 주 식단 타 매 매 영상         97          1   \n",
       "3912  2018-10-04T10:06:05Z  빅토리 의 1 번 째 주 식단 타 매 매 영상        284          4   \n",
       "\n",
       "      commentCount duration description  \n",
       "3908             0   PT1M1S        하나제약  \n",
       "3909             0  PT16M1S       비츠로시스  \n",
       "3910             0   PT3M9S        한국내화  \n",
       "3911             0  PT6M40S         아난티  \n",
       "3912             0  PT3M12S       현성바이탈  "
      ]
     },
     "execution_count": 8,
     "metadata": {},
     "output_type": "execute_result"
    }
   ],
   "source": [
    "df.tail()"
   ]
  },
  {
   "cell_type": "markdown",
   "id": "04870311",
   "metadata": {},
   "source": [
    "## X and y\n",
    "X : ```title```  \n",
    "y : ```viewcount```"
   ]
  },
  {
   "cell_type": "code",
   "execution_count": 9,
   "id": "ed42bd61",
   "metadata": {},
   "outputs": [],
   "source": [
    "import numpy as np"
   ]
  },
  {
   "cell_type": "code",
   "execution_count": 10,
   "id": "c7b3ce78",
   "metadata": {},
   "outputs": [
    {
     "name": "stdout",
     "output_type": "stream",
     "text": [
      "X shape: (3913,)\n",
      "y shape: (3913,)\n"
     ]
    }
   ],
   "source": [
    "X = np.array(df['title'])\n",
    "y = np.array(df['viewCount'])\n",
    "print(\"X shape:\", X.shape)\n",
    "print(\"y shape:\", y.shape)"
   ]
  },
  {
   "cell_type": "code",
   "execution_count": 11,
   "id": "1e3ebd8b",
   "metadata": {},
   "outputs": [
    {
     "name": "stdout",
     "output_type": "stream",
     "text": [
      "3913\n",
      "3913\n"
     ]
    }
   ],
   "source": [
    "print(len(X))\n",
    "print(len(y))"
   ]
  },
  {
   "cell_type": "markdown",
   "id": "4dc48e45",
   "metadata": {},
   "source": [
    "X의 데이터와 데이터타입"
   ]
  },
  {
   "cell_type": "code",
   "execution_count": 12,
   "id": "e3432a39",
   "metadata": {},
   "outputs": [
    {
     "name": "stdout",
     "output_type": "stream",
     "text": [
      "빅토리 의 1 번 째 주 식단 타 매 매 영상\n"
     ]
    }
   ],
   "source": [
    "print(X[-1])"
   ]
  },
  {
   "cell_type": "code",
   "execution_count": 13,
   "id": "86aeb2b1",
   "metadata": {},
   "outputs": [
    {
     "data": {
      "text/plain": [
       "str"
      ]
     },
     "execution_count": 13,
     "metadata": {},
     "output_type": "execute_result"
    }
   ],
   "source": [
    "type(X[-1])"
   ]
  },
  {
   "cell_type": "markdown",
   "id": "709159db",
   "metadata": {},
   "source": [
    "y의 데이터와 데이터타입"
   ]
  },
  {
   "cell_type": "code",
   "execution_count": 14,
   "id": "5a61f7d7",
   "metadata": {},
   "outputs": [
    {
     "name": "stdout",
     "output_type": "stream",
     "text": [
      "284\n"
     ]
    }
   ],
   "source": [
    "print(y[-1])"
   ]
  },
  {
   "cell_type": "code",
   "execution_count": 15,
   "id": "55451a27",
   "metadata": {},
   "outputs": [
    {
     "data": {
      "text/plain": [
       "numpy.int64"
      ]
     },
     "execution_count": 15,
     "metadata": {},
     "output_type": "execute_result"
    }
   ],
   "source": [
    "type(y[-1])"
   ]
  },
  {
   "cell_type": "markdown",
   "id": "5f2e767d",
   "metadata": {},
   "source": [
    "```y``` 라벨 중앙값(median)으로 binary classification의 threshold를 정합니다."
   ]
  },
  {
   "cell_type": "code",
   "execution_count": 16,
   "id": "13b515e5",
   "metadata": {},
   "outputs": [
    {
     "name": "stdout",
     "output_type": "stream",
     "text": [
      "2498.0\n"
     ]
    }
   ],
   "source": [
    "threshold = np.median(y)\n",
    "print(threshold)"
   ]
  },
  {
   "cell_type": "code",
   "execution_count": 17,
   "id": "f5e948e2",
   "metadata": {},
   "outputs": [
    {
     "name": "stdout",
     "output_type": "stream",
     "text": [
      "Positive Label: 1957\n",
      "Negative Label: 1956\n"
     ]
    }
   ],
   "source": [
    "y = np.where(y>=threshold,1,0)\n",
    "print(\"Positive Label:\", len(y[y == 1]))\n",
    "print(\"Negative Label:\", len(y[y == 0]))"
   ]
  },
  {
   "cell_type": "markdown",
   "id": "44176f3f",
   "metadata": {},
   "source": [
    "수정된 y의 데이터와 데이터타입"
   ]
  },
  {
   "cell_type": "code",
   "execution_count": 18,
   "id": "9f13fad7",
   "metadata": {},
   "outputs": [
    {
     "name": "stdout",
     "output_type": "stream",
     "text": [
      "0\n"
     ]
    }
   ],
   "source": [
    "print(y[-1])"
   ]
  },
  {
   "cell_type": "code",
   "execution_count": 19,
   "id": "38581a91",
   "metadata": {},
   "outputs": [
    {
     "data": {
      "text/plain": [
       "numpy.int32"
      ]
     },
     "execution_count": 19,
     "metadata": {},
     "output_type": "execute_result"
    }
   ],
   "source": [
    "type(y[-1])"
   ]
  },
  {
   "cell_type": "markdown",
   "id": "68d663bb",
   "metadata": {},
   "source": [
    "## Train and Test"
   ]
  },
  {
   "cell_type": "code",
   "execution_count": 20,
   "id": "74c3a858",
   "metadata": {},
   "outputs": [],
   "source": [
    "from sklearn.model_selection import train_test_split"
   ]
  },
  {
   "cell_type": "code",
   "execution_count": 21,
   "id": "052d063e",
   "metadata": {},
   "outputs": [
    {
     "name": "stdout",
     "output_type": "stream",
     "text": [
      "X 훈련데이터 shape: (2739,)\n",
      "y 훈련데이터 shape: (2739,)\n",
      "X 실험데이터 shape: (1174,)\n",
      "y 실험데이터 shape: (1174,)\n"
     ]
    }
   ],
   "source": [
    "X_train, X_test,y_train, y_test = train_test_split(X, y, \n",
    "                                                   random_state=42, \n",
    "                                                   test_size = 0.3)\n",
    "print(\"X 훈련데이터 shape:\", X_train.shape)\n",
    "print(\"y 훈련데이터 shape:\", y_train.shape)\n",
    "print(\"X 실험데이터 shape:\", X_test.shape)\n",
    "print(\"y 실험데이터 shape:\", y_test.shape)"
   ]
  },
  {
   "cell_type": "markdown",
   "id": "142d994e",
   "metadata": {},
   "source": [
    "## Vectorization\n",
    "```CountVectorizer```를 사용하거나 ```TfidfVectorizer```를 사용합니다."
   ]
  },
  {
   "cell_type": "markdown",
   "id": "459204a2",
   "metadata": {},
   "source": [
    "#### CountVector"
   ]
  },
  {
   "cell_type": "code",
   "execution_count": 22,
   "id": "075d7d16",
   "metadata": {},
   "outputs": [
    {
     "name": "stdout",
     "output_type": "stream",
     "text": [
      "단어사전의 단어개수: 5171\n",
      "X 훈련데이터 shape: (2739, 5171)\n"
     ]
    }
   ],
   "source": [
    "from sklearn.feature_extraction.text import CountVectorizer\n",
    "cv = CountVectorizer()\n",
    "X_train = cv.fit_transform(X_train).toarray()\n",
    "print(\"단어사전의 단어개수:\", len(cv.vocabulary_))\n",
    "print(\"X 훈련데이터 shape:\", X_train.shape)\n",
    "input_length = len(cv.vocabulary_)"
   ]
  },
  {
   "cell_type": "markdown",
   "id": "2efe30b2",
   "metadata": {},
   "source": [
    "#### TF-IDFVector"
   ]
  },
  {
   "cell_type": "code",
   "execution_count": 23,
   "id": "b70dcd16",
   "metadata": {},
   "outputs": [],
   "source": [
    "# from sklearn.feature_extraction.text import TfidfVectorizer\n",
    "# tfidf = TfidfVectorizer()\n",
    "# X_train = tfidf.fit_transform(X_train).toarray()\n",
    "# print(\"단어사전의 단어개수:\", len(tfidf.vocabulary_))\n",
    "# print(\"X 훈련데이터 shape:\", X_train.shape)\n",
    "# input_length = len(tfidf.vocabulary_)"
   ]
  },
  {
   "cell_type": "markdown",
   "id": "d1e908f6",
   "metadata": {},
   "source": [
    "적용결과"
   ]
  },
  {
   "cell_type": "code",
   "execution_count": 24,
   "id": "1db7ee0c",
   "metadata": {},
   "outputs": [
    {
     "data": {
      "text/plain": [
       "5171"
      ]
     },
     "execution_count": 24,
     "metadata": {},
     "output_type": "execute_result"
    }
   ],
   "source": [
    "len(X_train[0])"
   ]
  },
  {
   "cell_type": "code",
   "execution_count": 25,
   "id": "a8b1ddc4",
   "metadata": {},
   "outputs": [
    {
     "name": "stdout",
     "output_type": "stream",
     "text": [
      "[0 0 0 ... 0 0 0]\n"
     ]
    }
   ],
   "source": [
    "print(X_train[0])"
   ]
  },
  {
   "cell_type": "code",
   "execution_count": 26,
   "id": "76882146",
   "metadata": {},
   "outputs": [
    {
     "data": {
      "text/plain": [
       "2739"
      ]
     },
     "execution_count": 26,
     "metadata": {},
     "output_type": "execute_result"
    }
   ],
   "source": [
    "len(X_train)"
   ]
  },
  {
   "cell_type": "code",
   "execution_count": 27,
   "id": "a49f93ec",
   "metadata": {},
   "outputs": [
    {
     "name": "stdout",
     "output_type": "stream",
     "text": [
      "[[0 0 0 ... 0 0 0]\n",
      " [0 0 0 ... 0 0 0]\n",
      " [0 0 0 ... 0 0 0]\n",
      " ...\n",
      " [0 0 0 ... 0 0 0]\n",
      " [0 0 0 ... 0 0 0]\n",
      " [0 0 0 ... 0 0 0]]\n"
     ]
    }
   ],
   "source": [
    "print(X_train)"
   ]
  },
  {
   "cell_type": "markdown",
   "id": "d83bdcfc",
   "metadata": {},
   "source": [
    "## Model"
   ]
  },
  {
   "cell_type": "code",
   "execution_count": 28,
   "id": "fef46c3c",
   "metadata": {},
   "outputs": [],
   "source": [
    "from keras.optimizers import Adagrad\n",
    "from keras.models import Sequential\n",
    "from keras.layers import Dropout\n",
    "from keras.layers import Dense"
   ]
  },
  {
   "cell_type": "code",
   "execution_count": 29,
   "id": "30f1ba63",
   "metadata": {},
   "outputs": [],
   "source": [
    "model = Sequential()\n",
    "model.add(Dense(4, input_shape=(input_length,), activation='relu'))\n",
    "model.add(Dropout(0.3))\n",
    "model.add(Dense(4, activation='relu'))\n",
    "model.add(Dropout(0.3))\n",
    "model.add(Dense(1, activation='sigmoid'))"
   ]
  },
  {
   "cell_type": "code",
   "execution_count": 30,
   "id": "47244ecc",
   "metadata": {},
   "outputs": [],
   "source": [
    "optimizer = Adagrad(learning_rate=0.3)\n",
    "model.compile(loss='binary_crossentropy', optimizer=optimizer, metrics=['accuracy'])"
   ]
  },
  {
   "cell_type": "code",
   "execution_count": 31,
   "id": "7cc9655a",
   "metadata": {},
   "outputs": [
    {
     "name": "stdout",
     "output_type": "stream",
     "text": [
      "Model: \"sequential\"\n",
      "_________________________________________________________________\n",
      " Layer (type)                Output Shape              Param #   \n",
      "=================================================================\n",
      " dense (Dense)               (None, 4)                 20688     \n",
      "                                                                 \n",
      " dropout (Dropout)           (None, 4)                 0         \n",
      "                                                                 \n",
      " dense_1 (Dense)             (None, 4)                 20        \n",
      "                                                                 \n",
      " dropout_1 (Dropout)         (None, 4)                 0         \n",
      "                                                                 \n",
      " dense_2 (Dense)             (None, 1)                 5         \n",
      "                                                                 \n",
      "=================================================================\n",
      "Total params: 20,713\n",
      "Trainable params: 20,713\n",
      "Non-trainable params: 0\n",
      "_________________________________________________________________\n"
     ]
    }
   ],
   "source": [
    "model.summary()"
   ]
  },
  {
   "cell_type": "markdown",
   "id": "3048b556",
   "metadata": {},
   "source": [
    "#### Learning"
   ]
  },
  {
   "cell_type": "code",
   "execution_count": 32,
   "id": "2746abde",
   "metadata": {},
   "outputs": [
    {
     "name": "stdout",
     "output_type": "stream",
     "text": [
      "Epoch 1/20\n",
      "55/55 [==============================] - 1s 7ms/step - loss: 0.5853 - accuracy: 0.7141\n",
      "Epoch 2/20\n",
      "55/55 [==============================] - 0s 4ms/step - loss: 0.4931 - accuracy: 0.7809\n",
      "Epoch 3/20\n",
      "55/55 [==============================] - 0s 4ms/step - loss: 0.4742 - accuracy: 0.7820\n",
      "Epoch 4/20\n",
      "55/55 [==============================] - 0s 4ms/step - loss: 0.4470 - accuracy: 0.7937\n",
      "Epoch 5/20\n",
      "55/55 [==============================] - 0s 4ms/step - loss: 0.4315 - accuracy: 0.8120\n",
      "Epoch 6/20\n",
      "55/55 [==============================] - 0s 4ms/step - loss: 0.4335 - accuracy: 0.8069\n",
      "Epoch 7/20\n",
      "55/55 [==============================] - 0s 4ms/step - loss: 0.4312 - accuracy: 0.7999\n",
      "Epoch 8/20\n",
      "55/55 [==============================] - 0s 4ms/step - loss: 0.4136 - accuracy: 0.8083\n",
      "Epoch 9/20\n",
      "55/55 [==============================] - 0s 4ms/step - loss: 0.4068 - accuracy: 0.8160\n",
      "Epoch 10/20\n",
      "55/55 [==============================] - 0s 4ms/step - loss: 0.4210 - accuracy: 0.8131\n",
      "Epoch 11/20\n",
      "55/55 [==============================] - 0s 3ms/step - loss: 0.4093 - accuracy: 0.8131\n",
      "Epoch 12/20\n",
      "55/55 [==============================] - 0s 4ms/step - loss: 0.4046 - accuracy: 0.8277\n",
      "Epoch 13/20\n",
      "55/55 [==============================] - 0s 3ms/step - loss: 0.4101 - accuracy: 0.8145\n",
      "Epoch 14/20\n",
      "55/55 [==============================] - 0s 3ms/step - loss: 0.4033 - accuracy: 0.8277\n",
      "Epoch 15/20\n",
      "55/55 [==============================] - 0s 3ms/step - loss: 0.4027 - accuracy: 0.8342\n",
      "Epoch 16/20\n",
      "55/55 [==============================] - 0s 3ms/step - loss: 0.3846 - accuracy: 0.8503\n",
      "Epoch 17/20\n",
      "55/55 [==============================] - 0s 3ms/step - loss: 0.3638 - accuracy: 0.8576\n",
      "Epoch 18/20\n",
      "55/55 [==============================] - 0s 4ms/step - loss: 0.3929 - accuracy: 0.8445\n",
      "Epoch 19/20\n",
      "55/55 [==============================] - 0s 3ms/step - loss: 0.3916 - accuracy: 0.8478\n",
      "Epoch 20/20\n",
      "55/55 [==============================] - 0s 4ms/step - loss: 0.3592 - accuracy: 0.8605\n"
     ]
    },
    {
     "data": {
      "text/plain": [
       "<keras.callbacks.History at 0x1bc6caa46a0>"
      ]
     },
     "execution_count": 32,
     "metadata": {},
     "output_type": "execute_result"
    }
   ],
   "source": [
    "model.fit(X_train, y_train, epochs=20, batch_size=50)"
   ]
  },
  {
   "cell_type": "markdown",
   "id": "e32cf65e",
   "metadata": {},
   "source": [
    "#### Evaluation"
   ]
  },
  {
   "cell_type": "code",
   "execution_count": 33,
   "id": "381aef86",
   "metadata": {},
   "outputs": [],
   "source": [
    "X_test = cv.transform(X_test).toarray()"
   ]
  },
  {
   "cell_type": "code",
   "execution_count": 34,
   "id": "54473e60",
   "metadata": {},
   "outputs": [
    {
     "name": "stdout",
     "output_type": "stream",
     "text": [
      "37/37 [==============================] - 0s 2ms/step - loss: 0.4534 - accuracy: 0.8348\n"
     ]
    }
   ],
   "source": [
    "from sklearn import metrics\n",
    "_, accuracy = model.evaluate(X_test, y_test)"
   ]
  },
  {
   "cell_type": "code",
   "execution_count": 35,
   "id": "dc266e1d",
   "metadata": {},
   "outputs": [
    {
     "name": "stdout",
     "output_type": "stream",
     "text": [
      "0.8347529768943787\n"
     ]
    }
   ],
   "source": [
    "print(accuracy)"
   ]
  },
  {
   "cell_type": "markdown",
   "id": "e6616f16",
   "metadata": {},
   "source": [
    "Confusion Matrix"
   ]
  },
  {
   "cell_type": "code",
   "execution_count": 36,
   "id": "a5fb2bbc",
   "metadata": {},
   "outputs": [
    {
     "name": "stdout",
     "output_type": "stream",
     "text": [
      "37/37 [==============================] - 0s 2ms/step\n"
     ]
    }
   ],
   "source": [
    "y_pred = model.predict(X_test)\n",
    "confusion_matrix = metrics.confusion_matrix(y_test, np.rint(y_pred))"
   ]
  },
  {
   "cell_type": "code",
   "execution_count": 37,
   "id": "8178ea3b",
   "metadata": {},
   "outputs": [
    {
     "name": "stdout",
     "output_type": "stream",
     "text": [
      "[[466 151]\n",
      " [ 43 514]]\n"
     ]
    }
   ],
   "source": [
    "print(confusion_matrix)"
   ]
  },
  {
   "cell_type": "markdown",
   "id": "016c6ca2",
   "metadata": {},
   "source": [
    "#### Save"
   ]
  },
  {
   "cell_type": "code",
   "execution_count": 38,
   "id": "15cc23e2",
   "metadata": {},
   "outputs": [],
   "source": [
    "from joblib import dump"
   ]
  },
  {
   "cell_type": "code",
   "execution_count": 39,
   "id": "bd91c388",
   "metadata": {},
   "outputs": [
    {
     "data": {
      "text/plain": [
       "['youtube_scaler.pkl']"
      ]
     },
     "execution_count": 39,
     "metadata": {},
     "output_type": "execute_result"
    }
   ],
   "source": [
    "dump(cv, \"youtube_scaler.pkl\")"
   ]
  },
  {
   "cell_type": "code",
   "execution_count": 40,
   "id": "ef475cc6",
   "metadata": {},
   "outputs": [],
   "source": [
    "from tensorflow import keras"
   ]
  },
  {
   "cell_type": "code",
   "execution_count": 41,
   "id": "1170227f",
   "metadata": {},
   "outputs": [],
   "source": [
    "model.save(\"youtube_model.h5\")"
   ]
  },
  {
   "cell_type": "markdown",
   "id": "a97ecaf3",
   "metadata": {},
   "source": [
    "## Prediction"
   ]
  },
  {
   "cell_type": "markdown",
   "id": "26b38a21",
   "metadata": {},
   "source": [
    "#### load"
   ]
  },
  {
   "cell_type": "code",
   "execution_count": 42,
   "id": "2646cec7",
   "metadata": {},
   "outputs": [],
   "source": [
    "from joblib import load"
   ]
  },
  {
   "cell_type": "code",
   "execution_count": 43,
   "id": "d2fb0836",
   "metadata": {},
   "outputs": [],
   "source": [
    "scaler = load(\"./database/youtube_scaler.pkl\")"
   ]
  },
  {
   "cell_type": "code",
   "execution_count": 44,
   "id": "df4e629f",
   "metadata": {},
   "outputs": [],
   "source": [
    "from tensorflow import keras"
   ]
  },
  {
   "cell_type": "code",
   "execution_count": 45,
   "id": "0dce21a3",
   "metadata": {},
   "outputs": [],
   "source": [
    "model = keras.models.load_model(\"./database/youtube_model.h5\")"
   ]
  },
  {
   "cell_type": "markdown",
   "id": "a77b7f05",
   "metadata": {},
   "source": [
    "#### text 1"
   ]
  },
  {
   "cell_type": "code",
   "execution_count": 46,
   "id": "4e183c63",
   "metadata": {},
   "outputs": [],
   "source": [
    "text = \"인공지능으로 유튜브 조회수 예측하기 #2\""
   ]
  },
  {
   "cell_type": "code",
   "execution_count": 47,
   "id": "26863517",
   "metadata": {},
   "outputs": [
    {
     "name": "stdout",
     "output_type": "stream",
     "text": [
      "[[0 0 0 ... 0 0 0]]\n"
     ]
    }
   ],
   "source": [
    "text = scaler.transform([text]).toarray()\n",
    "print(text)"
   ]
  },
  {
   "cell_type": "code",
   "execution_count": 48,
   "id": "d1f4eeee",
   "metadata": {},
   "outputs": [
    {
     "name": "stdout",
     "output_type": "stream",
     "text": [
      "1/1 [==============================] - 0s 80ms/step\n",
      "[[0.06669771]]\n"
     ]
    }
   ],
   "source": [
    "prediction = model.predict(text)\n",
    "print(prediction)"
   ]
  },
  {
   "cell_type": "code",
   "execution_count": 49,
   "id": "e99ef84e",
   "metadata": {},
   "outputs": [
    {
     "name": "stdout",
     "output_type": "stream",
     "text": [
      "[[0.]]\n"
     ]
    }
   ],
   "source": [
    "prediction = np.rint(prediction)\n",
    "print(prediction)"
   ]
  },
  {
   "cell_type": "markdown",
   "id": "b26b4545",
   "metadata": {},
   "source": [
    "#### text 2"
   ]
  },
  {
   "cell_type": "code",
   "execution_count": 50,
   "id": "3afac5a5",
   "metadata": {},
   "outputs": [],
   "source": [
    "text = \"hlb\""
   ]
  },
  {
   "cell_type": "code",
   "execution_count": 51,
   "id": "8d2d5e35",
   "metadata": {},
   "outputs": [
    {
     "name": "stdout",
     "output_type": "stream",
     "text": [
      "[[0 0 0 ... 0 0 0]]\n"
     ]
    }
   ],
   "source": [
    "text = scaler.transform([text]).toarray()\n",
    "print(text)"
   ]
  },
  {
   "cell_type": "code",
   "execution_count": 52,
   "id": "eb1c6d7c",
   "metadata": {},
   "outputs": [
    {
     "name": "stdout",
     "output_type": "stream",
     "text": [
      "1/1 [==============================] - 0s 30ms/step\n",
      "[[0.9973022]]\n"
     ]
    }
   ],
   "source": [
    "prediction = model.predict(text)\n",
    "print(prediction)"
   ]
  },
  {
   "cell_type": "code",
   "execution_count": 53,
   "id": "7468a6cb",
   "metadata": {},
   "outputs": [
    {
     "name": "stdout",
     "output_type": "stream",
     "text": [
      "[[1.]]\n"
     ]
    }
   ],
   "source": [
    "prediction = np.rint(prediction)\n",
    "print(prediction)"
   ]
  }
 ],
 "metadata": {
  "kernelspec": {
   "display_name": "Python 3 (ipykernel)",
   "language": "python",
   "name": "python3"
  },
  "language_info": {
   "codemirror_mode": {
    "name": "ipython",
    "version": 3
   },
   "file_extension": ".py",
   "mimetype": "text/x-python",
   "name": "python",
   "nbconvert_exporter": "python",
   "pygments_lexer": "ipython3",
   "version": "3.9.13"
  }
 },
 "nbformat": 4,
 "nbformat_minor": 5
}
