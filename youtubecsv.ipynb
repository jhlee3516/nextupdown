{
 "cells": [
  {
   "cell_type": "markdown",
   "id": "34ab77c9",
   "metadata": {},
   "source": [
    "# Youtube CSV"
   ]
  },
  {
   "cell_type": "code",
   "execution_count": 1,
   "id": "9e271917",
   "metadata": {},
   "outputs": [],
   "source": [
    "api_key = \"<API_KEY>\"\n",
    "channel_id = \"<CHANNEL_ID\""
   ]
  },
  {
   "cell_type": "code",
   "execution_count": 3,
   "id": "e2dc5361",
   "metadata": {},
   "outputs": [],
   "source": [
    "from googleapiclient.discovery import build\n",
    "youtube = build(\"youtube\", \"v3\", developerKey=api_key)"
   ]
  },
  {
   "cell_type": "code",
   "execution_count": 4,
   "id": "ab7ea8e7",
   "metadata": {},
   "outputs": [],
   "source": [
    "def get_channel_videos(channel_id):\n",
    "    res = youtube.channels().list(id=channel_id,\n",
    "                                 part=\"contentDetails\").execute()\n",
    "    playlist_id = res[\"items\"][0][\"contentDetails\"][\"relatedPlaylists\"][\"uploads\"]\n",
    "    \n",
    "    videos = []\n",
    "    next_page_token = None\n",
    "    \n",
    "    while 1:\n",
    "        res = youtube.playlistItems().list(playlistId=playlist_id,\n",
    "                                          part=\"snippet\",\n",
    "                                          maxResults=50,\n",
    "                                          pageToken=next_page_token).execute()\n",
    "        videos += res[\"items\"]\n",
    "        next_page_token = res.get(\"nextPageToken\")\n",
    "        \n",
    "        if next_page_token is None:\n",
    "            break\n",
    "    \n",
    "    return videos"
   ]
  },
  {
   "cell_type": "code",
   "execution_count": 5,
   "id": "459a69fe",
   "metadata": {},
   "outputs": [],
   "source": [
    "videos = get_channel_videos(channel_id)"
   ]
  },
  {
   "cell_type": "code",
   "execution_count": 6,
   "id": "54f8d1ac",
   "metadata": {},
   "outputs": [],
   "source": [
    "res = youtube.videos().list(id=videos[0][\"snippet\"][\"resourceId\"][\"videoId\"],\n",
    "                           part=\"statistics\").execute()"
   ]
  },
  {
   "cell_type": "code",
   "execution_count": 7,
   "id": "7747f83e",
   "metadata": {},
   "outputs": [],
   "source": [
    "video_ids = list(map(lambda x:x['snippet']['resourceId']['videoId'], videos))"
   ]
  },
  {
   "cell_type": "code",
   "execution_count": 8,
   "id": "b381cd14",
   "metadata": {},
   "outputs": [],
   "source": [
    "def get_videos_stats(video_ids):\n",
    "    stats = []\n",
    "    for i in range(0, len(video_ids), 50):\n",
    "        res = youtube.videos().list(id=','.join(video_ids[i:i+50]),\n",
    "                                   part='statistics').execute()\n",
    "        stats += res['items']\n",
    "    return stats"
   ]
  },
  {
   "cell_type": "code",
   "execution_count": 9,
   "id": "23f42377",
   "metadata": {},
   "outputs": [],
   "source": [
    "def get_videos_details(video_ids):\n",
    "    details = []\n",
    "    for i in range(0, len(video_ids), 50):\n",
    "        res = youtube.videos().list(id=','.join(video_ids[i:i+50]),\n",
    "                                   part='contentDetails').execute()\n",
    "        details += res['items']\n",
    "    return details"
   ]
  },
  {
   "cell_type": "code",
   "execution_count": 10,
   "id": "a411e1d1",
   "metadata": {},
   "outputs": [],
   "source": [
    "stats = get_videos_stats(video_ids)\n",
    "details = get_videos_details(video_ids)"
   ]
  },
  {
   "cell_type": "code",
   "execution_count": 11,
   "id": "436678a2",
   "metadata": {},
   "outputs": [],
   "source": [
    "publishedAt = []\n",
    "title = []\n",
    "viewCount = []\n",
    "likeCount = []\n",
    "dislikeCount = []\n",
    "commentCount = []\n",
    "duration = []\n",
    "description = []\n",
    "\n",
    "for i in range(len(videos)):\n",
    "    publishedAt.append(videos[i]['snippet']['publishedAt'])\n",
    "    title.append(videos[i]['snippet']['title'])\n",
    "    description.append(videos[i]['snippet']['description'])\n",
    "    viewCount.append(stats[i]['statistics']['viewCount'])\n",
    "    likeCount.append(stats[i]['statistics']['likeCount'])\n",
    "    commentCount.append(stats[i]['statistics']['commentCount'])\n",
    "    duration.append(details[i]['contentDetails']['duration'])"
   ]
  },
  {
   "cell_type": "code",
   "execution_count": 12,
   "id": "855fd6b1",
   "metadata": {},
   "outputs": [],
   "source": [
    "import pandas as pd\n",
    "names = ['publishedAt', 'title', 'viewCount', 'likeCount', 'commentCount', 'duration', 'description']\n",
    "df = pd.DataFrame(data=list(zip(publishedAt, title, viewCount, likeCount, commentCount, duration, description)),\n",
    "                 columns=names)"
   ]
  },
  {
   "cell_type": "code",
   "execution_count": 13,
   "id": "9f766fe9",
   "metadata": {},
   "outputs": [
    {
     "data": {
      "text/html": [
       "<div>\n",
       "<style scoped>\n",
       "    .dataframe tbody tr th:only-of-type {\n",
       "        vertical-align: middle;\n",
       "    }\n",
       "\n",
       "    .dataframe tbody tr th {\n",
       "        vertical-align: top;\n",
       "    }\n",
       "\n",
       "    .dataframe thead th {\n",
       "        text-align: right;\n",
       "    }\n",
       "</style>\n",
       "<table border=\"1\" class=\"dataframe\">\n",
       "  <thead>\n",
       "    <tr style=\"text-align: right;\">\n",
       "      <th></th>\n",
       "      <th>publishedAt</th>\n",
       "      <th>title</th>\n",
       "      <th>viewCount</th>\n",
       "      <th>likeCount</th>\n",
       "      <th>commentCount</th>\n",
       "      <th>duration</th>\n",
       "      <th>description</th>\n",
       "    </tr>\n",
       "  </thead>\n",
       "  <tbody>\n",
       "    <tr>\n",
       "      <th>3912</th>\n",
       "      <td>2018-10-04T10:06:05Z</td>\n",
       "      <td>빅토리의1번째주식단타매매영상</td>\n",
       "      <td>284</td>\n",
       "      <td>4</td>\n",
       "      <td>0</td>\n",
       "      <td>PT3M12S</td>\n",
       "      <td>현성바이탈</td>\n",
       "    </tr>\n",
       "  </tbody>\n",
       "</table>\n",
       "</div>"
      ],
      "text/plain": [
       "               publishedAt            title  viewCount  likeCount  \\\n",
       "3912  2018-10-04T10:06:05Z  빅토리의1번째주식단타매매영상        284          4   \n",
       "\n",
       "      commentCount duration description  \n",
       "3912             0  PT3M12S       현성바이탈  "
      ]
     },
     "execution_count": 13,
     "metadata": {},
     "output_type": "execute_result"
    }
   ],
   "source": [
    "df['viewCount'] = df['viewCount'].astype(int)\n",
    "df['likeCount'] = df['likeCount'].astype(int)\n",
    "df['commentCount'] = df['commentCount'].astype(int)\n",
    "df.tail(1)"
   ]
  },
  {
   "cell_type": "code",
   "execution_count": 14,
   "id": "3a88fd17",
   "metadata": {},
   "outputs": [],
   "source": [
    "df.to_csv('youtube.csv', index=False)"
   ]
  }
 ],
 "metadata": {
  "kernelspec": {
   "display_name": "Python 3 (ipykernel)",
   "language": "python",
   "name": "python3"
  },
  "language_info": {
   "codemirror_mode": {
    "name": "ipython",
    "version": 3
   },
   "file_extension": ".py",
   "mimetype": "text/x-python",
   "name": "python",
   "nbconvert_exporter": "python",
   "pygments_lexer": "ipython3",
   "version": "3.9.13"
  }
 },
 "nbformat": 4,
 "nbformat_minor": 5
}
