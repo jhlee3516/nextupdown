{
 "cells": [
  {
   "cell_type": "markdown",
   "id": "27d6bb1f",
   "metadata": {},
   "source": [
    "# Dart"
   ]
  },
  {
   "cell_type": "code",
   "execution_count": 1,
   "id": "15f46751",
   "metadata": {},
   "outputs": [],
   "source": [
    "from datetime import timedelta\n",
    "from datetime import datetime"
   ]
  },
  {
   "cell_type": "code",
   "execution_count": 2,
   "id": "bc27e05d",
   "metadata": {},
   "outputs": [],
   "source": [
    "from bs4 import BeautifulSoup\n",
    "import requests\n",
    "import re"
   ]
  },
  {
   "cell_type": "code",
   "execution_count": 3,
   "id": "e932ee49",
   "metadata": {},
   "outputs": [],
   "source": [
    "def dart():\n",
    "    \n",
    "    firm_code = {\n",
    "        \n",
    "        'HLB':'00199252',\n",
    "        '노터스':'01189438',\n",
    "        'HLB제약':'00336817',\n",
    "        '셀트리온':'00413046',\n",
    "        'HLB글로벌':'00169048',\n",
    "        'HLB생명과학':'00365590',\n",
    "        'HLB테라퓨틱스':'00552859'\n",
    "        \n",
    "    }\n",
    "    \n",
    "    code = list(firm_code.values())\n",
    "    \n",
    "    dart_contents = []\n",
    "    \n",
    "    for c in code:\n",
    "        url = 'https://dart.fss.or.kr/api/companyRSS.xml?crpCd='+c\n",
    "        res = requests.get(url)\n",
    "        soup = BeautifulSoup(res.text, 'lxml')\n",
    "        items = soup.find_all('item')\n",
    "    \n",
    "        for item in items:\n",
    "            pubdate = item.find_all(re.compile('dc:date'))[0].text[:10]\n",
    "            pubdate = datetime.strptime(pubdate, '%Y-%m-%d').date()\n",
    "            title = item.title.text\n",
    "            link = item.guid.text\n",
    "            \n",
    "            time_threshold = datetime.now().date() - timedelta(days=2)\n",
    "            if pubdate > time_threshold:\n",
    "                dart_contents.append([pubdate, title, link])\n",
    "\n",
    "    return dart_contents"
   ]
  },
  {
   "cell_type": "code",
   "execution_count": 4,
   "id": "0f3141d5",
   "metadata": {},
   "outputs": [
    {
     "name": "stderr",
     "output_type": "stream",
     "text": [
      "C:\\Users\\user\\anaconda3\\lib\\site-packages\\bs4\\builder\\__init__.py:545: XMLParsedAsHTMLWarning: It looks like you're parsing an XML document using an HTML parser. If this really is an HTML document (maybe it's XHTML?), you can ignore or filter this warning. If it's XML, you should know that using an XML parser will be more reliable. To parse this document as XML, make sure you have the lxml package installed, and pass the keyword argument `features=\"xml\"` into the BeautifulSoup constructor.\n",
      "  warnings.warn(\n"
     ]
    }
   ],
   "source": [
    "dart = dart()"
   ]
  },
  {
   "cell_type": "code",
   "execution_count": 5,
   "id": "7a177efd",
   "metadata": {},
   "outputs": [
    {
     "name": "stdout",
     "output_type": "stream",
     "text": [
      "2023-01-18\n",
      "(유가)HLB글로벌 - 합병등종료보고서 (자산양수도)\n",
      "http://dart.fss.or.kr/api/link.jsp?rcpNo=20230118000411\n",
      "2023-01-18\n",
      "(유가)HLB글로벌 - 유상증자또는주식관련사채등의발행결과(자율공시)\n",
      "http://dart.fss.or.kr/api/link.jsp?rcpNo=20230118800410\n",
      "2023-01-18\n",
      "(코스닥)HLB테라퓨틱스 - [기재정정]주요사항보고서(유상증자결정)\n",
      "http://dart.fss.or.kr/api/link.jsp?rcpNo=20230118000379\n"
     ]
    }
   ],
   "source": [
    "for pubdate, title, link in dart:\n",
    "    print(pubdate)\n",
    "    print(title)\n",
    "    print(link)"
   ]
  }
 ],
 "metadata": {
  "kernelspec": {
   "display_name": "Python 3 (ipykernel)",
   "language": "python",
   "name": "python3"
  },
  "language_info": {
   "codemirror_mode": {
    "name": "ipython",
    "version": 3
   },
   "file_extension": ".py",
   "mimetype": "text/x-python",
   "name": "python",
   "nbconvert_exporter": "python",
   "pygments_lexer": "ipython3",
   "version": "3.9.13"
  }
 },
 "nbformat": 4,
 "nbformat_minor": 5
}
