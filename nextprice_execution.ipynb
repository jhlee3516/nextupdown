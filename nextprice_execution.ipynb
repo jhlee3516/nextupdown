{
 "cells": [
  {
   "cell_type": "markdown",
   "id": "f57a132b",
   "metadata": {},
   "source": [
    "## 소개\n",
    "네이버증권에서 종목리스트를 추출하고  \n",
    "내일주가로 UP/DOWN을 예측합니다."
   ]
  },
  {
   "cell_type": "markdown",
   "id": "5d120647",
   "metadata": {},
   "source": [
    "## 종목명 1\n",
    "네이버증권 테마"
   ]
  },
  {
   "cell_type": "code",
   "execution_count": null,
   "id": "26c8c5a7",
   "metadata": {},
   "outputs": [],
   "source": [
    "import naver_theme_scraping\n",
    "items = naver_theme_scraping.get_items()\n",
    "links = naver_theme_scraping.get_links(items)\n",
    "firms = naver_theme_scraping.get_firms(links)"
   ]
  },
  {
   "cell_type": "code",
   "execution_count": null,
   "id": "07b783be",
   "metadata": {},
   "outputs": [],
   "source": [
    "firm_names = firms\n",
    "print(firm_names[:5])"
   ]
  },
  {
   "cell_type": "markdown",
   "id": "6ea9f80b",
   "metadata": {},
   "source": [
    "## 종목명 2 \n",
    "네이버증권 등락률상위, 등락률하위, 거래량상위"
   ]
  },
  {
   "cell_type": "code",
   "execution_count": 1,
   "id": "33f6f5f7",
   "metadata": {},
   "outputs": [],
   "source": [
    "import top_momentum_stocks"
   ]
  },
  {
   "cell_type": "code",
   "execution_count": 2,
   "id": "f9280010",
   "metadata": {},
   "outputs": [
    {
     "name": "stderr",
     "output_type": "stream",
     "text": [
      "C:\\Users\\user\\Desktop\\nextupdown\\top_momentum_stocks.py:12: GuessedAtParserWarning: No parser was explicitly specified, so I'm using the best available HTML parser for this system (\"lxml\"). This usually isn't a problem, but if you run this code on another system, or in a different virtual environment, it may use a different parser and behave differently.\n",
      "\n",
      "The code that caused this warning is on line 12 of the file C:\\Users\\user\\Desktop\\nextupdown\\top_momentum_stocks.py. To get rid of this warning, pass the additional argument 'features=\"lxml\"' to the BeautifulSoup constructor.\n",
      "\n",
      "  soup = BeautifulSoup(res.text, 'html')\n",
      "C:\\Users\\user\\Desktop\\nextupdown\\top_momentum_stocks.py:22: GuessedAtParserWarning: No parser was explicitly specified, so I'm using the best available HTML parser for this system (\"lxml\"). This usually isn't a problem, but if you run this code on another system, or in a different virtual environment, it may use a different parser and behave differently.\n",
      "\n",
      "The code that caused this warning is on line 22 of the file C:\\Users\\user\\Desktop\\nextupdown\\top_momentum_stocks.py. To get rid of this warning, pass the additional argument 'features=\"lxml\"' to the BeautifulSoup constructor.\n",
      "\n",
      "  soup = BeautifulSoup(res.text, 'html')\n",
      "C:\\Users\\user\\Desktop\\nextupdown\\top_momentum_stocks.py:32: GuessedAtParserWarning: No parser was explicitly specified, so I'm using the best available HTML parser for this system (\"lxml\"). This usually isn't a problem, but if you run this code on another system, or in a different virtual environment, it may use a different parser and behave differently.\n",
      "\n",
      "The code that caused this warning is on line 32 of the file C:\\Users\\user\\Desktop\\nextupdown\\top_momentum_stocks.py. To get rid of this warning, pass the additional argument 'features=\"lxml\"' to the BeautifulSoup constructor.\n",
      "\n",
      "  soup = BeautifulSoup(res.text, 'html')\n"
     ]
    }
   ],
   "source": [
    "firm_names = top_momentum_stocks.top_momentum_stocks()"
   ]
  },
  {
   "cell_type": "code",
   "execution_count": 3,
   "id": "48582664",
   "metadata": {},
   "outputs": [
    {
     "name": "stdout",
     "output_type": "stream",
     "text": [
      "['천보', 'TRUE 블룸버그 인버스 2X 천연가스선물 ETN', '메리츠 천연가스 선물 ETN(H)', '팜스토리', '대신 S&P 인버스 2X 천연가스 선물 ETN']\n"
     ]
    }
   ],
   "source": [
    "print(firm_names[:5])"
   ]
  },
  {
   "cell_type": "markdown",
   "id": "8d909832",
   "metadata": {},
   "source": [
    "## 종목코드\n",
    "종목명을 종목코드로 변환합니다."
   ]
  },
  {
   "cell_type": "code",
   "execution_count": 4,
   "id": "06d751fe",
   "metadata": {},
   "outputs": [],
   "source": [
    "import firm_code\n",
    "firm_codes = firm_code.firm_codes(firm_names)\n",
    "firm_codes = firm_code.filtering_firm_codes(firm_codes)"
   ]
  },
  {
   "cell_type": "code",
   "execution_count": 5,
   "id": "4f801aa5",
   "metadata": {},
   "outputs": [
    {
     "name": "stdout",
     "output_type": "stream",
     "text": [
      "['278280', '027710', '200710', '072130', '024850']\n"
     ]
    }
   ],
   "source": [
    "print(firm_codes[:5])"
   ]
  },
  {
   "cell_type": "markdown",
   "id": "671e9f8a",
   "metadata": {},
   "source": [
    "## 내일주가"
   ]
  },
  {
   "cell_type": "code",
   "execution_count": 7,
   "id": "299bf3ab",
   "metadata": {},
   "outputs": [],
   "source": [
    "import FinanceDataReader as fdr\n",
    "import nextprice_preprocessing\n",
    "import pandas as pd"
   ]
  },
  {
   "cell_type": "code",
   "execution_count": 8,
   "id": "420cfe30",
   "metadata": {},
   "outputs": [],
   "source": [
    "def concat_firms():\n",
    "    frame = pd.DataFrame()\n",
    "    for firm_code in firm_codes:\n",
    "        df = fdr.DataReader(symbol=firm_code)\n",
    "        df = nextprice_preprocessing.moving_average(df, change=True)\n",
    "        df = nextprice_preprocessing.changing_price(df)\n",
    "        df = nextprice_preprocessing.create_y_label(df)\n",
    "        df = nextprice_preprocessing.slice_year(df,'2015')\n",
    "        frame = pd.concat([frame, df])\n",
    "\n",
    "    return frame"
   ]
  },
  {
   "cell_type": "code",
   "execution_count": 9,
   "id": "92a08a73",
   "metadata": {},
   "outputs": [],
   "source": [
    "df = concat_firms()"
   ]
  },
  {
   "cell_type": "code",
   "execution_count": 10,
   "id": "3b76580e",
   "metadata": {},
   "outputs": [
    {
     "data": {
      "text/html": [
       "<div>\n",
       "<style scoped>\n",
       "    .dataframe tbody tr th:only-of-type {\n",
       "        vertical-align: middle;\n",
       "    }\n",
       "\n",
       "    .dataframe tbody tr th {\n",
       "        vertical-align: top;\n",
       "    }\n",
       "\n",
       "    .dataframe thead th {\n",
       "        text-align: right;\n",
       "    }\n",
       "</style>\n",
       "<table border=\"1\" class=\"dataframe\">\n",
       "  <thead>\n",
       "    <tr style=\"text-align: right;\">\n",
       "      <th></th>\n",
       "      <th>Open</th>\n",
       "      <th>High</th>\n",
       "      <th>Low</th>\n",
       "      <th>Close</th>\n",
       "      <th>Volume</th>\n",
       "      <th>Change</th>\n",
       "      <th>MA5</th>\n",
       "      <th>MA20</th>\n",
       "      <th>MA60</th>\n",
       "      <th>MA120</th>\n",
       "      <th>y</th>\n",
       "    </tr>\n",
       "    <tr>\n",
       "      <th>Date</th>\n",
       "      <th></th>\n",
       "      <th></th>\n",
       "      <th></th>\n",
       "      <th></th>\n",
       "      <th></th>\n",
       "      <th></th>\n",
       "      <th></th>\n",
       "      <th></th>\n",
       "      <th></th>\n",
       "      <th></th>\n",
       "      <th></th>\n",
       "    </tr>\n",
       "  </thead>\n",
       "  <tbody>\n",
       "    <tr>\n",
       "      <th>2023-02-20</th>\n",
       "      <td>-0.069343</td>\n",
       "      <td>0.074818</td>\n",
       "      <td>-0.069343</td>\n",
       "      <td>5480</td>\n",
       "      <td>728205</td>\n",
       "      <td>0.062016</td>\n",
       "      <td>0.050365</td>\n",
       "      <td>0.066195</td>\n",
       "      <td>0.088869</td>\n",
       "      <td>-0.009542</td>\n",
       "      <td>1</td>\n",
       "    </tr>\n",
       "    <tr>\n",
       "      <th>2023-02-21</th>\n",
       "      <td>-0.005357</td>\n",
       "      <td>0.048214</td>\n",
       "      <td>-0.030357</td>\n",
       "      <td>5600</td>\n",
       "      <td>347429</td>\n",
       "      <td>0.021898</td>\n",
       "      <td>0.051786</td>\n",
       "      <td>0.079062</td>\n",
       "      <td>0.106905</td>\n",
       "      <td>0.016749</td>\n",
       "      <td>1</td>\n",
       "    </tr>\n",
       "    <tr>\n",
       "      <th>2023-02-22</th>\n",
       "      <td>-0.099836</td>\n",
       "      <td>0.063830</td>\n",
       "      <td>-0.101473</td>\n",
       "      <td>6110</td>\n",
       "      <td>1878521</td>\n",
       "      <td>0.091071</td>\n",
       "      <td>0.098854</td>\n",
       "      <td>0.145908</td>\n",
       "      <td>0.178642</td>\n",
       "      <td>0.101834</td>\n",
       "      <td>1</td>\n",
       "    </tr>\n",
       "  </tbody>\n",
       "</table>\n",
       "</div>"
      ],
      "text/plain": [
       "                Open      High       Low  Close   Volume    Change       MA5  \\\n",
       "Date                                                                           \n",
       "2023-02-20 -0.069343  0.074818 -0.069343   5480   728205  0.062016  0.050365   \n",
       "2023-02-21 -0.005357  0.048214 -0.030357   5600   347429  0.021898  0.051786   \n",
       "2023-02-22 -0.099836  0.063830 -0.101473   6110  1878521  0.091071  0.098854   \n",
       "\n",
       "                MA20      MA60     MA120  y  \n",
       "Date                                         \n",
       "2023-02-20  0.066195  0.088869 -0.009542  1  \n",
       "2023-02-21  0.079062  0.106905  0.016749  1  \n",
       "2023-02-22  0.145908  0.178642  0.101834  1  "
      ]
     },
     "execution_count": 10,
     "metadata": {},
     "output_type": "execute_result"
    }
   ],
   "source": [
    "df.tail(3)"
   ]
  },
  {
   "cell_type": "code",
   "execution_count": 11,
   "id": "0c403d59",
   "metadata": {},
   "outputs": [
    {
     "data": {
      "text/plain": [
       "119133"
      ]
     },
     "execution_count": 11,
     "metadata": {},
     "output_type": "execute_result"
    }
   ],
   "source": [
    "len(df)"
   ]
  },
  {
   "cell_type": "code",
   "execution_count": 12,
   "id": "7e82e9f0",
   "metadata": {},
   "outputs": [
    {
     "data": {
      "text/plain": [
       "Open      0\n",
       "High      0\n",
       "Low       0\n",
       "Close     0\n",
       "Volume    0\n",
       "Change    0\n",
       "MA5       0\n",
       "MA20      0\n",
       "MA60      0\n",
       "MA120     0\n",
       "y         0\n",
       "dtype: int64"
      ]
     },
     "execution_count": 12,
     "metadata": {},
     "output_type": "execute_result"
    }
   ],
   "source": [
    "result = df.isna().sum()\n",
    "result"
   ]
  },
  {
   "cell_type": "code",
   "execution_count": 13,
   "id": "6682eec1",
   "metadata": {},
   "outputs": [],
   "source": [
    "df.dropna(inplace=True)"
   ]
  },
  {
   "cell_type": "code",
   "execution_count": 14,
   "id": "70562a67",
   "metadata": {},
   "outputs": [
    {
     "data": {
      "text/plain": [
       "Open      0\n",
       "High      0\n",
       "Low       0\n",
       "Close     0\n",
       "Volume    0\n",
       "Change    0\n",
       "MA5       0\n",
       "MA20      0\n",
       "MA60      0\n",
       "MA120     0\n",
       "y         0\n",
       "dtype: int64"
      ]
     },
     "execution_count": 14,
     "metadata": {},
     "output_type": "execute_result"
    }
   ],
   "source": [
    "result = df.isna().sum()\n",
    "result"
   ]
  },
  {
   "cell_type": "code",
   "execution_count": 15,
   "id": "ea9fa32d",
   "metadata": {},
   "outputs": [],
   "source": [
    "X, y = nextprice_preprocessing.split_x_y(df)"
   ]
  },
  {
   "cell_type": "code",
   "execution_count": 16,
   "id": "8f6ab68e",
   "metadata": {},
   "outputs": [
    {
     "data": {
      "text/html": [
       "<div>\n",
       "<style scoped>\n",
       "    .dataframe tbody tr th:only-of-type {\n",
       "        vertical-align: middle;\n",
       "    }\n",
       "\n",
       "    .dataframe tbody tr th {\n",
       "        vertical-align: top;\n",
       "    }\n",
       "\n",
       "    .dataframe thead th {\n",
       "        text-align: right;\n",
       "    }\n",
       "</style>\n",
       "<table border=\"1\" class=\"dataframe\">\n",
       "  <thead>\n",
       "    <tr style=\"text-align: right;\">\n",
       "      <th></th>\n",
       "      <th>MA5</th>\n",
       "      <th>MA20</th>\n",
       "      <th>MA60</th>\n",
       "      <th>MA120</th>\n",
       "      <th>Volume</th>\n",
       "      <th>Change</th>\n",
       "      <th>Open</th>\n",
       "      <th>High</th>\n",
       "      <th>Low</th>\n",
       "    </tr>\n",
       "    <tr>\n",
       "      <th>Date</th>\n",
       "      <th></th>\n",
       "      <th></th>\n",
       "      <th></th>\n",
       "      <th></th>\n",
       "      <th></th>\n",
       "      <th></th>\n",
       "      <th></th>\n",
       "      <th></th>\n",
       "      <th></th>\n",
       "    </tr>\n",
       "  </thead>\n",
       "  <tbody>\n",
       "    <tr>\n",
       "      <th>2023-02-17</th>\n",
       "      <td>0.006977</td>\n",
       "      <td>0.014486</td>\n",
       "      <td>0.033689</td>\n",
       "      <td>-0.076898</td>\n",
       "      <td>54035</td>\n",
       "      <td>-0.003861</td>\n",
       "      <td>0.000000</td>\n",
       "      <td>0.011628</td>\n",
       "      <td>-0.017442</td>\n",
       "    </tr>\n",
       "    <tr>\n",
       "      <th>2023-02-20</th>\n",
       "      <td>0.050365</td>\n",
       "      <td>0.066195</td>\n",
       "      <td>0.088869</td>\n",
       "      <td>-0.009542</td>\n",
       "      <td>728205</td>\n",
       "      <td>0.062016</td>\n",
       "      <td>-0.069343</td>\n",
       "      <td>0.074818</td>\n",
       "      <td>-0.069343</td>\n",
       "    </tr>\n",
       "    <tr>\n",
       "      <th>2023-02-21</th>\n",
       "      <td>0.051786</td>\n",
       "      <td>0.079062</td>\n",
       "      <td>0.106905</td>\n",
       "      <td>0.016749</td>\n",
       "      <td>347429</td>\n",
       "      <td>0.021898</td>\n",
       "      <td>-0.005357</td>\n",
       "      <td>0.048214</td>\n",
       "      <td>-0.030357</td>\n",
       "    </tr>\n",
       "  </tbody>\n",
       "</table>\n",
       "</div>"
      ],
      "text/plain": [
       "                 MA5      MA20      MA60     MA120  Volume    Change  \\\n",
       "Date                                                                   \n",
       "2023-02-17  0.006977  0.014486  0.033689 -0.076898   54035 -0.003861   \n",
       "2023-02-20  0.050365  0.066195  0.088869 -0.009542  728205  0.062016   \n",
       "2023-02-21  0.051786  0.079062  0.106905  0.016749  347429  0.021898   \n",
       "\n",
       "                Open      High       Low  \n",
       "Date                                      \n",
       "2023-02-17  0.000000  0.011628 -0.017442  \n",
       "2023-02-20 -0.069343  0.074818 -0.069343  \n",
       "2023-02-21 -0.005357  0.048214 -0.030357  "
      ]
     },
     "execution_count": 16,
     "metadata": {},
     "output_type": "execute_result"
    }
   ],
   "source": [
    "X.tail(3)"
   ]
  },
  {
   "cell_type": "code",
   "execution_count": 17,
   "id": "34f26f02",
   "metadata": {},
   "outputs": [
    {
     "data": {
      "text/plain": [
       "Date\n",
       "2023-02-20    1\n",
       "2023-02-21    1\n",
       "2023-02-22    1\n",
       "Name: y, dtype: int32"
      ]
     },
     "execution_count": 17,
     "metadata": {},
     "output_type": "execute_result"
    }
   ],
   "source": [
    "y.tail(3)"
   ]
  },
  {
   "cell_type": "code",
   "execution_count": 18,
   "id": "1c15940d",
   "metadata": {},
   "outputs": [],
   "source": [
    "from sklearn.model_selection import train_test_split\n",
    "X_train, X_test, y_train, y_test = train_test_split(X, y, random_state=42)"
   ]
  },
  {
   "cell_type": "markdown",
   "id": "58ce38f5",
   "metadata": {},
   "source": [
    "## Scaler"
   ]
  },
  {
   "cell_type": "code",
   "execution_count": 19,
   "id": "45081680",
   "metadata": {},
   "outputs": [],
   "source": [
    "from sklearn.preprocessing import StandardScaler\n",
    "scaler = StandardScaler()\n",
    "scaler.fit(X_train)\n",
    "X_train = scaler.transform(X_train)\n",
    "X_test = scaler.transform(X_test)"
   ]
  },
  {
   "cell_type": "markdown",
   "id": "dcd14eee",
   "metadata": {},
   "source": [
    "## PCA"
   ]
  },
  {
   "cell_type": "code",
   "execution_count": 20,
   "id": "3ef94c75",
   "metadata": {},
   "outputs": [],
   "source": [
    "from sklearn.decomposition import PCA\n",
    "pca = PCA(n_components=3)\n",
    "pca.fit(X_train)\n",
    "X_train = pca.transform(X_train)\n",
    "X_test = pca.transform(X_test)"
   ]
  },
  {
   "cell_type": "markdown",
   "id": "b102c777",
   "metadata": {},
   "source": [
    "## Model"
   ]
  },
  {
   "cell_type": "code",
   "execution_count": 21,
   "id": "90143b2d",
   "metadata": {},
   "outputs": [],
   "source": [
    "from keras.optimizers import Adagrad\n",
    "from keras.models import Sequential\n",
    "from keras.layers import Dropout\n",
    "from keras.layers import Dense"
   ]
  },
  {
   "cell_type": "code",
   "execution_count": 22,
   "id": "4d0d3273",
   "metadata": {},
   "outputs": [],
   "source": [
    "model = Sequential()\n",
    "model.add(Dense(12, input_dim=3, activation='relu'))\n",
    "model.add(Dropout(0.1))\n",
    "model.add(Dense(12, activation='relu'))\n",
    "model.add(Dropout(0.1))\n",
    "model.add(Dense(1, activation='sigmoid'))\n",
    "optimizer = Adagrad(learning_rate=0.2)"
   ]
  },
  {
   "cell_type": "code",
   "execution_count": 23,
   "id": "7767c91d",
   "metadata": {},
   "outputs": [
    {
     "name": "stdout",
     "output_type": "stream",
     "text": [
      "Model: \"sequential\"\n",
      "_________________________________________________________________\n",
      " Layer (type)                Output Shape              Param #   \n",
      "=================================================================\n",
      " dense (Dense)               (None, 12)                48        \n",
      "                                                                 \n",
      " dropout (Dropout)           (None, 12)                0         \n",
      "                                                                 \n",
      " dense_1 (Dense)             (None, 12)                156       \n",
      "                                                                 \n",
      " dropout_1 (Dropout)         (None, 12)                0         \n",
      "                                                                 \n",
      " dense_2 (Dense)             (None, 1)                 13        \n",
      "                                                                 \n",
      "=================================================================\n",
      "Total params: 217\n",
      "Trainable params: 217\n",
      "Non-trainable params: 0\n",
      "_________________________________________________________________\n"
     ]
    }
   ],
   "source": [
    "model.compile(loss='binary_crossentropy', optimizer=optimizer, metrics=['accuracy'])\n",
    "model.summary()"
   ]
  },
  {
   "cell_type": "code",
   "execution_count": 24,
   "id": "4a803cde",
   "metadata": {
    "scrolled": true
   },
   "outputs": [
    {
     "name": "stdout",
     "output_type": "stream",
     "text": [
      "Epoch 1/30\n",
      "4468/4468 [==============================] - 8s 2ms/step - loss: 0.6789 - accuracy: 0.5566\n",
      "Epoch 2/30\n",
      "4468/4468 [==============================] - 7s 2ms/step - loss: 0.6778 - accuracy: 0.5579\n",
      "Epoch 3/30\n",
      "4468/4468 [==============================] - 6s 1ms/step - loss: 0.6775 - accuracy: 0.5584\n",
      "Epoch 4/30\n",
      "4468/4468 [==============================] - 6s 1ms/step - loss: 0.6772 - accuracy: 0.5588\n",
      "Epoch 5/30\n",
      "4468/4468 [==============================] - 7s 1ms/step - loss: 0.6771 - accuracy: 0.5584\n",
      "Epoch 6/30\n",
      "4468/4468 [==============================] - 7s 2ms/step - loss: 0.6774 - accuracy: 0.5586\n",
      "Epoch 7/30\n",
      "4468/4468 [==============================] - 9s 2ms/step - loss: 0.6772 - accuracy: 0.5584\n",
      "Epoch 8/30\n",
      "4468/4468 [==============================] - 6s 1ms/step - loss: 0.6770 - accuracy: 0.5587\n",
      "Epoch 9/30\n",
      "4468/4468 [==============================] - 7s 2ms/step - loss: 0.6768 - accuracy: 0.5596\n",
      "Epoch 10/30\n",
      "4468/4468 [==============================] - 7s 1ms/step - loss: 0.6767 - accuracy: 0.5596\n",
      "Epoch 11/30\n",
      "4468/4468 [==============================] - 7s 1ms/step - loss: 0.6766 - accuracy: 0.5596\n",
      "Epoch 12/30\n",
      "4468/4468 [==============================] - 7s 1ms/step - loss: 0.6768 - accuracy: 0.5589\n",
      "Epoch 13/30\n",
      "4468/4468 [==============================] - 6s 1ms/step - loss: 0.6767 - accuracy: 0.5591\n",
      "Epoch 14/30\n",
      "4468/4468 [==============================] - 6s 1ms/step - loss: 0.6767 - accuracy: 0.5597\n",
      "Epoch 15/30\n",
      "4468/4468 [==============================] - 7s 2ms/step - loss: 0.6766 - accuracy: 0.5596\n",
      "Epoch 16/30\n",
      "4468/4468 [==============================] - 7s 2ms/step - loss: 0.6764 - accuracy: 0.5600\n",
      "Epoch 17/30\n",
      "4468/4468 [==============================] - 7s 2ms/step - loss: 0.6767 - accuracy: 0.5598\n",
      "Epoch 18/30\n",
      "4468/4468 [==============================] - 7s 2ms/step - loss: 0.6764 - accuracy: 0.5605\n",
      "Epoch 19/30\n",
      "4468/4468 [==============================] - 7s 2ms/step - loss: 0.6765 - accuracy: 0.5606\n",
      "Epoch 20/30\n",
      "4468/4468 [==============================] - 7s 2ms/step - loss: 0.6766 - accuracy: 0.5602\n",
      "Epoch 21/30\n",
      "4468/4468 [==============================] - 7s 2ms/step - loss: 0.6764 - accuracy: 0.5613\n",
      "Epoch 22/30\n",
      "4468/4468 [==============================] - 7s 1ms/step - loss: 0.6764 - accuracy: 0.5611\n",
      "Epoch 23/30\n",
      "4468/4468 [==============================] - 7s 2ms/step - loss: 0.6764 - accuracy: 0.5605\n",
      "Epoch 24/30\n",
      "4468/4468 [==============================] - 7s 2ms/step - loss: 0.6765 - accuracy: 0.5607\n",
      "Epoch 25/30\n",
      "4468/4468 [==============================] - 7s 2ms/step - loss: 0.6764 - accuracy: 0.5607\n",
      "Epoch 26/30\n",
      "4468/4468 [==============================] - 7s 2ms/step - loss: 0.6763 - accuracy: 0.5609\n",
      "Epoch 27/30\n",
      "4468/4468 [==============================] - 7s 1ms/step - loss: 0.6766 - accuracy: 0.5595\n",
      "Epoch 28/30\n",
      "4468/4468 [==============================] - 7s 2ms/step - loss: 0.6765 - accuracy: 0.5602\n",
      "Epoch 29/30\n",
      "4468/4468 [==============================] - 7s 1ms/step - loss: 0.6762 - accuracy: 0.5610\n",
      "Epoch 30/30\n",
      "4468/4468 [==============================] - 7s 1ms/step - loss: 0.6766 - accuracy: 0.5603\n"
     ]
    },
    {
     "data": {
      "text/plain": [
       "<keras.callbacks.History at 0x2a5639d59a0>"
      ]
     },
     "execution_count": 24,
     "metadata": {},
     "output_type": "execute_result"
    }
   ],
   "source": [
    "model.fit(X_train, y_train, epochs=30, batch_size=20)"
   ]
  },
  {
   "cell_type": "markdown",
   "id": "402004f2",
   "metadata": {},
   "source": [
    "## Evaluation"
   ]
  },
  {
   "cell_type": "code",
   "execution_count": 25,
   "id": "615535c6",
   "metadata": {},
   "outputs": [
    {
     "name": "stdout",
     "output_type": "stream",
     "text": [
      "931/931 [==============================] - 1s 1ms/step - loss: 0.6769 - accuracy: 0.5624\n",
      "0.56243497133255\n"
     ]
    }
   ],
   "source": [
    "_, accuracy = model.evaluate(X_test, y_test)\n",
    "print(accuracy)"
   ]
  },
  {
   "cell_type": "code",
   "execution_count": 26,
   "id": "b3abf77c",
   "metadata": {},
   "outputs": [
    {
     "name": "stdout",
     "output_type": "stream",
     "text": [
      "931/931 [==============================] - 1s 1ms/step\n"
     ]
    }
   ],
   "source": [
    "y_pred = model.predict(X_test)"
   ]
  },
  {
   "cell_type": "code",
   "execution_count": 27,
   "id": "52282296",
   "metadata": {},
   "outputs": [],
   "source": [
    "from sklearn import metrics\n",
    "import numpy as np"
   ]
  },
  {
   "cell_type": "code",
   "execution_count": 28,
   "id": "b41652bf",
   "metadata": {},
   "outputs": [
    {
     "data": {
      "text/plain": [
       "array([[16138,   477],\n",
       "       [12555,   613]], dtype=int64)"
      ]
     },
     "execution_count": 28,
     "metadata": {},
     "output_type": "execute_result"
    }
   ],
   "source": [
    "confusion_matrix = metrics.confusion_matrix(y_test, np.rint(y_pred))\n",
    "confusion_matrix"
   ]
  },
  {
   "cell_type": "markdown",
   "id": "8bce881f",
   "metadata": {},
   "source": [
    "## Save"
   ]
  },
  {
   "cell_type": "code",
   "execution_count": 29,
   "id": "68679c14",
   "metadata": {},
   "outputs": [
    {
     "data": {
      "text/plain": [
       "['./database/nextprice_scaler.pkl']"
      ]
     },
     "execution_count": 29,
     "metadata": {},
     "output_type": "execute_result"
    }
   ],
   "source": [
    "import joblib\n",
    "joblib.dump(scaler, './database/nextprice_scaler.pkl')"
   ]
  },
  {
   "cell_type": "code",
   "execution_count": 30,
   "id": "adf08d46",
   "metadata": {},
   "outputs": [],
   "source": [
    "import pickle\n",
    "pickle.dump(pca, open('./database/nextprice_pca.pkl','wb'))"
   ]
  },
  {
   "cell_type": "code",
   "execution_count": 31,
   "id": "aad26fb0",
   "metadata": {},
   "outputs": [
    {
     "name": "stdout",
     "output_type": "stream",
     "text": [
      "INFO:tensorflow:Assets written to: ./database/nextprice_model\\assets\n"
     ]
    }
   ],
   "source": [
    "from tensorflow import keras\n",
    "model.save('./database/nextprice_model')"
   ]
  },
  {
   "cell_type": "markdown",
   "id": "9aac6f27",
   "metadata": {},
   "source": [
    "## Load"
   ]
  },
  {
   "cell_type": "code",
   "execution_count": 32,
   "id": "4b2fc342",
   "metadata": {},
   "outputs": [],
   "source": [
    "import joblib\n",
    "scaler = joblib.load('./database/nextprice_scaler.pkl')"
   ]
  },
  {
   "cell_type": "code",
   "execution_count": 33,
   "id": "fa9ec0b6",
   "metadata": {},
   "outputs": [],
   "source": [
    "import pickle\n",
    "pca = pickle.load(open('./database/nextprice_pca.pkl','rb'))"
   ]
  },
  {
   "cell_type": "code",
   "execution_count": 34,
   "id": "db793950",
   "metadata": {},
   "outputs": [],
   "source": [
    "from tensorflow import keras\n",
    "model = keras.models.load_model('./database/nextprice_model')"
   ]
  },
  {
   "cell_type": "markdown",
   "id": "c0850787",
   "metadata": {},
   "source": [
    "## Meta Cognition"
   ]
  },
  {
   "cell_type": "code",
   "execution_count": 35,
   "id": "e458dbe7",
   "metadata": {},
   "outputs": [
    {
     "name": "stdout",
     "output_type": "stream",
     "text": [
      "0.56243497133255\n"
     ]
    }
   ],
   "source": [
    "print(accuracy)"
   ]
  },
  {
   "cell_type": "code",
   "execution_count": 36,
   "id": "ff6e0a53",
   "metadata": {},
   "outputs": [
    {
     "name": "stdout",
     "output_type": "stream",
     "text": [
      "50/50 [==============================] - 0s 3ms/step - loss: 0.6956 - accuracy: 0.5135\n",
      "101/101 [==============================] - 0s 2ms/step - loss: 0.6863 - accuracy: 0.5512\n",
      "101/101 [==============================] - 0s 2ms/step - loss: 0.6862 - accuracy: 0.5522\n",
      "101/101 [==============================] - 0s 1ms/step - loss: 0.6888 - accuracy: 0.5412\n",
      "101/101 [==============================] - 0s 1ms/step - loss: 0.6842 - accuracy: 0.5582\n",
      "101/101 [==============================] - 0s 1ms/step - loss: 0.6678 - accuracy: 0.5696\n",
      "101/101 [==============================] - 0s 1ms/step - loss: 0.6852 - accuracy: 0.5552\n",
      "101/101 [==============================] - 0s 2ms/step - loss: 0.6909 - accuracy: 0.5337\n",
      "101/101 [==============================] - 0s 1ms/step - loss: 0.6890 - accuracy: 0.5482\n",
      "101/101 [==============================] - 0s 1ms/step - loss: 0.6811 - accuracy: 0.5701\n",
      "29/29 [==============================] - 0s 2ms/step - loss: 0.6859 - accuracy: 0.5620\n",
      "101/101 [==============================] - 0s 1ms/step - loss: 0.6882 - accuracy: 0.5432\n",
      "101/101 [==============================] - 0s 1ms/step - loss: 0.6870 - accuracy: 0.5322\n",
      "101/101 [==============================] - 0s 2ms/step - loss: 0.6828 - accuracy: 0.5612\n",
      "101/101 [==============================] - 0s 1ms/step - loss: 0.6835 - accuracy: 0.5602\n",
      "101/101 [==============================] - 0s 1ms/step - loss: 0.6873 - accuracy: 0.5532\n",
      "101/101 [==============================] - 0s 1ms/step - loss: 0.6954 - accuracy: 0.5232\n",
      "101/101 [==============================] - 0s 1ms/step - loss: 0.6538 - accuracy: 0.5771\n",
      "53/53 [==============================] - 0s 2ms/step - loss: 0.6818 - accuracy: 0.5806\n",
      "101/101 [==============================] - 0s 1ms/step - loss: 0.6791 - accuracy: 0.5786\n",
      "65/65 [==============================] - 0s 1ms/step - loss: 0.6842 - accuracy: 0.5685\n",
      "44/44 [==============================] - 0s 1ms/step - loss: 0.6029 - accuracy: 0.6732\n",
      "77/77 [==============================] - 0s 2ms/step - loss: 0.6618 - accuracy: 0.5867\n",
      "88/88 [==============================] - 0s 1ms/step - loss: 0.6657 - accuracy: 0.5782\n",
      "101/101 [==============================] - 0s 1ms/step - loss: 0.5311 - accuracy: 0.6955\n",
      "101/101 [==============================] - 0s 1ms/step - loss: 0.6862 - accuracy: 0.5512\n",
      "101/101 [==============================] - 0s 1ms/step - loss: 0.6884 - accuracy: 0.5462\n",
      "101/101 [==============================] - 0s 1ms/step - loss: 0.6786 - accuracy: 0.5781\n",
      "56/56 [==============================] - 0s 1ms/step - loss: 0.6210 - accuracy: 0.6102\n",
      "101/101 [==============================] - 0s 2ms/step - loss: 0.6846 - accuracy: 0.5542\n",
      "101/101 [==============================] - 0s 1ms/step - loss: 0.6826 - accuracy: 0.5652\n",
      "101/101 [==============================] - 0s 1ms/step - loss: 0.6822 - accuracy: 0.5602\n",
      "35/35 [==============================] - 0s 1ms/step - loss: 0.6586 - accuracy: 0.6485\n",
      "101/101 [==============================] - 0s 1ms/step - loss: 0.6886 - accuracy: 0.5392\n",
      "101/101 [==============================] - 0s 2ms/step - loss: 0.6847 - accuracy: 0.5597\n",
      "101/101 [==============================] - 0s 1ms/step - loss: 0.6813 - accuracy: 0.5657\n",
      "101/101 [==============================] - 0s 1ms/step - loss: 0.6827 - accuracy: 0.5756\n",
      "101/101 [==============================] - 0s 1ms/step - loss: 0.6867 - accuracy: 0.5517\n",
      "26/26 [==============================] - 0s 2ms/step - loss: 0.5539 - accuracy: 0.6248\n",
      "5/5 [==============================] - 0s 2ms/step - loss: 0.6949 - accuracy: 0.5227\n",
      "101/101 [==============================] - 0s 1ms/step - loss: 0.6824 - accuracy: 0.5662\n",
      "54/54 [==============================] - 0s 2ms/step - loss: 0.6883 - accuracy: 0.5417\n",
      "101/101 [==============================] - 0s 1ms/step - loss: 0.6835 - accuracy: 0.5662\n",
      "7/7 [==============================] - 0s 3ms/step - loss: 0.6893 - accuracy: 0.5252\n",
      "101/101 [==============================] - 0s 1ms/step - loss: 0.6906 - accuracy: 0.5427\n",
      "101/101 [==============================] - 0s 1ms/step - loss: 0.6914 - accuracy: 0.5307\n",
      "101/101 [==============================] - 0s 1ms/step - loss: 0.6891 - accuracy: 0.5387\n",
      "101/101 [==============================] - 0s 2ms/step - loss: 0.6891 - accuracy: 0.5442\n",
      "101/101 [==============================] - 0s 1ms/step - loss: 0.6998 - accuracy: 0.5002\n",
      "101/101 [==============================] - 0s 1ms/step - loss: 0.6817 - accuracy: 0.5647\n",
      "46/46 [==============================] - 0s 2ms/step - loss: 0.6859 - accuracy: 0.5577\n",
      "101/101 [==============================] - 0s 1ms/step - loss: 0.5930 - accuracy: 0.6101\n",
      "101/101 [==============================] - 0s 1ms/step - loss: 0.6883 - accuracy: 0.5517\n",
      "101/101 [==============================] - 0s 2ms/step - loss: 0.6856 - accuracy: 0.5517\n",
      "8/8 [==============================] - 0s 2ms/step - loss: 0.6773 - accuracy: 0.5875\n",
      "13/13 [==============================] - 0s 2ms/step - loss: 0.6804 - accuracy: 0.5861\n",
      "101/101 [==============================] - 0s 2ms/step - loss: 0.6911 - accuracy: 0.5292\n",
      "101/101 [==============================] - 0s 1ms/step - loss: 0.6674 - accuracy: 0.5791\n",
      "67/67 [==============================] - 0s 2ms/step - loss: 0.6874 - accuracy: 0.5559\n",
      "101/101 [==============================] - 0s 1ms/step - loss: 0.6835 - accuracy: 0.5612\n",
      "101/101 [==============================] - 0s 1ms/step - loss: 0.6916 - accuracy: 0.5282\n",
      "101/101 [==============================] - 0s 1ms/step - loss: 0.6678 - accuracy: 0.5866\n",
      "82/82 [==============================] - 0s 1ms/step - loss: 0.6774 - accuracy: 0.5729\n",
      "21/21 [==============================] - 0s 2ms/step - loss: 0.6814 - accuracy: 0.5952\n",
      "1/1 [==============================] - 0s 37ms/step - loss: 0.5683 - accuracy: 1.0000\n",
      "101/101 [==============================] - 0s 1ms/step - loss: 0.6826 - accuracy: 0.5572\n",
      "101/101 [==============================] - 0s 2ms/step - loss: 0.6698 - accuracy: 0.5941\n",
      "101/101 [==============================] - 0s 1ms/step - loss: 0.5963 - accuracy: 0.6216\n",
      "101/101 [==============================] - 0s 2ms/step - loss: 0.6832 - accuracy: 0.5592\n",
      "101/101 [==============================] - 0s 2ms/step - loss: 0.6807 - accuracy: 0.5417\n",
      "101/101 [==============================] - 0s 2ms/step - loss: 0.6894 - accuracy: 0.5447\n",
      "28/28 [==============================] - 0s 2ms/step - loss: 0.6848 - accuracy: 0.5727\n"
     ]
    }
   ],
   "source": [
    "firm_accuracy = []\n",
    "for firm_code in firm_codes:\n",
    "    df = fdr.DataReader(symbol=firm_code)\n",
    "    df = nextprice_preprocessing.moving_average(df, change=True)\n",
    "    df = nextprice_preprocessing.changing_price(df)\n",
    "    df = nextprice_preprocessing.create_y_label(df)\n",
    "    df = nextprice_preprocessing.slice_year(df,'2015')\n",
    "    X, y = nextprice_preprocessing.split_x_y(df)\n",
    "    X = scaler.transform(X)\n",
    "    X = pca.transform(X)\n",
    "    loss, acc = model.evaluate(X, y, batch_size=20)\n",
    "    firm_accuracy.append(acc)"
   ]
  },
  {
   "cell_type": "code",
   "execution_count": 37,
   "id": "7236fde1",
   "metadata": {},
   "outputs": [],
   "source": [
    "df = pd.DataFrame({'firm_code':firm_codes, 'accuracy':firm_accuracy})"
   ]
  },
  {
   "cell_type": "code",
   "execution_count": 38,
   "id": "6d3104db",
   "metadata": {},
   "outputs": [
    {
     "data": {
      "text/html": [
       "<div>\n",
       "<style scoped>\n",
       "    .dataframe tbody tr th:only-of-type {\n",
       "        vertical-align: middle;\n",
       "    }\n",
       "\n",
       "    .dataframe tbody tr th {\n",
       "        vertical-align: top;\n",
       "    }\n",
       "\n",
       "    .dataframe thead th {\n",
       "        text-align: right;\n",
       "    }\n",
       "</style>\n",
       "<table border=\"1\" class=\"dataframe\">\n",
       "  <thead>\n",
       "    <tr style=\"text-align: right;\">\n",
       "      <th></th>\n",
       "      <th>firm_code</th>\n",
       "      <th>accuracy</th>\n",
       "    </tr>\n",
       "  </thead>\n",
       "  <tbody>\n",
       "    <tr>\n",
       "      <th>0</th>\n",
       "      <td>278280</td>\n",
       "      <td>0.513541</td>\n",
       "    </tr>\n",
       "    <tr>\n",
       "      <th>1</th>\n",
       "      <td>027710</td>\n",
       "      <td>0.551173</td>\n",
       "    </tr>\n",
       "    <tr>\n",
       "      <th>2</th>\n",
       "      <td>200710</td>\n",
       "      <td>0.552172</td>\n",
       "    </tr>\n",
       "    <tr>\n",
       "      <th>3</th>\n",
       "      <td>072130</td>\n",
       "      <td>0.541188</td>\n",
       "    </tr>\n",
       "    <tr>\n",
       "      <th>4</th>\n",
       "      <td>024850</td>\n",
       "      <td>0.558163</td>\n",
       "    </tr>\n",
       "  </tbody>\n",
       "</table>\n",
       "</div>"
      ],
      "text/plain": [
       "  firm_code  accuracy\n",
       "0    278280  0.513541\n",
       "1    027710  0.551173\n",
       "2    200710  0.552172\n",
       "3    072130  0.541188\n",
       "4    024850  0.558163"
      ]
     },
     "execution_count": 38,
     "metadata": {},
     "output_type": "execute_result"
    }
   ],
   "source": [
    "df.head()"
   ]
  },
  {
   "cell_type": "code",
   "execution_count": 39,
   "id": "0e119c03",
   "metadata": {
    "scrolled": true
   },
   "outputs": [],
   "source": [
    "df = df[df['accuracy'] > accuracy]"
   ]
  },
  {
   "cell_type": "code",
   "execution_count": 40,
   "id": "fc2af2c2",
   "metadata": {},
   "outputs": [
    {
     "data": {
      "text/html": [
       "<div>\n",
       "<style scoped>\n",
       "    .dataframe tbody tr th:only-of-type {\n",
       "        vertical-align: middle;\n",
       "    }\n",
       "\n",
       "    .dataframe tbody tr th {\n",
       "        vertical-align: top;\n",
       "    }\n",
       "\n",
       "    .dataframe thead th {\n",
       "        text-align: right;\n",
       "    }\n",
       "</style>\n",
       "<table border=\"1\" class=\"dataframe\">\n",
       "  <thead>\n",
       "    <tr style=\"text-align: right;\">\n",
       "      <th></th>\n",
       "      <th>firm_code</th>\n",
       "      <th>accuracy</th>\n",
       "    </tr>\n",
       "  </thead>\n",
       "  <tbody>\n",
       "    <tr>\n",
       "      <th>5</th>\n",
       "      <td>208370</td>\n",
       "      <td>0.569646</td>\n",
       "    </tr>\n",
       "    <tr>\n",
       "      <th>9</th>\n",
       "      <td>042040</td>\n",
       "      <td>0.570145</td>\n",
       "    </tr>\n",
       "    <tr>\n",
       "      <th>17</th>\n",
       "      <td>016380</td>\n",
       "      <td>0.577134</td>\n",
       "    </tr>\n",
       "    <tr>\n",
       "      <th>18</th>\n",
       "      <td>208340</td>\n",
       "      <td>0.580553</td>\n",
       "    </tr>\n",
       "    <tr>\n",
       "      <th>19</th>\n",
       "      <td>089530</td>\n",
       "      <td>0.578632</td>\n",
       "    </tr>\n",
       "  </tbody>\n",
       "</table>\n",
       "</div>"
      ],
      "text/plain": [
       "   firm_code  accuracy\n",
       "5     208370  0.569646\n",
       "9     042040  0.570145\n",
       "17    016380  0.577134\n",
       "18    208340  0.580553\n",
       "19    089530  0.578632"
      ]
     },
     "execution_count": 40,
     "metadata": {},
     "output_type": "execute_result"
    }
   ],
   "source": [
    "df.head()"
   ]
  },
  {
   "cell_type": "code",
   "execution_count": 41,
   "id": "7d12d361",
   "metadata": {},
   "outputs": [],
   "source": [
    "firm_codes = df['firm_code'].tolist()"
   ]
  },
  {
   "cell_type": "code",
   "execution_count": 42,
   "id": "6f40b102",
   "metadata": {},
   "outputs": [
    {
     "data": {
      "text/plain": [
       "['208370', '042040', '016380', '208340', '089530']"
      ]
     },
     "execution_count": 42,
     "metadata": {},
     "output_type": "execute_result"
    }
   ],
   "source": [
    "firm_codes[:5]"
   ]
  },
  {
   "cell_type": "markdown",
   "id": "0edc6612",
   "metadata": {},
   "source": [
    "## Prediction"
   ]
  },
  {
   "cell_type": "code",
   "execution_count": 43,
   "id": "aa791625",
   "metadata": {},
   "outputs": [],
   "source": [
    "def prediction():\n",
    "    predictions = []\n",
    "    for firm_code in firm_codes:\n",
    "        df = fdr.DataReader(symbol=firm_code)\n",
    "        df = nextprice_preprocessing.moving_average(df, change=True)\n",
    "        df = nextprice_preprocessing.changing_price(df)\n",
    "        df = df[['MA5', 'MA20', 'MA60', 'MA120', 'Volume', 'Change', 'Open', 'High', 'Low']]\n",
    "        df = df[-1:]\n",
    "        df = scaler.transform(df)\n",
    "        df = pca.transform(df)\n",
    "        prediction = model.predict(df)\n",
    "        predictions.append([firm_code, prediction])\n",
    "\n",
    "    return predictions"
   ]
  },
  {
   "cell_type": "code",
   "execution_count": 44,
   "id": "dbadc920",
   "metadata": {},
   "outputs": [
    {
     "name": "stdout",
     "output_type": "stream",
     "text": [
      "1/1 [==============================] - 0s 60ms/step\n",
      "1/1 [==============================] - 0s 30ms/step\n",
      "1/1 [==============================] - 0s 24ms/step\n",
      "1/1 [==============================] - 0s 22ms/step\n",
      "1/1 [==============================] - 0s 21ms/step\n",
      "1/1 [==============================] - 0s 28ms/step\n",
      "1/1 [==============================] - 0s 23ms/step\n",
      "1/1 [==============================] - 0s 27ms/step\n",
      "1/1 [==============================] - 0s 28ms/step\n",
      "1/1 [==============================] - 0s 24ms/step\n",
      "1/1 [==============================] - 0s 21ms/step\n",
      "1/1 [==============================] - 0s 22ms/step\n",
      "1/1 [==============================] - 0s 23ms/step\n",
      "1/1 [==============================] - 0s 22ms/step\n",
      "1/1 [==============================] - 0s 25ms/step\n",
      "1/1 [==============================] - 0s 22ms/step\n",
      "1/1 [==============================] - 0s 22ms/step\n",
      "1/1 [==============================] - 0s 23ms/step\n",
      "1/1 [==============================] - 0s 25ms/step\n",
      "1/1 [==============================] - 0s 25ms/step\n",
      "1/1 [==============================] - 0s 27ms/step\n",
      "1/1 [==============================] - 0s 21ms/step\n",
      "1/1 [==============================] - 0s 22ms/step\n",
      "1/1 [==============================] - 0s 27ms/step\n",
      "1/1 [==============================] - 0s 24ms/step\n",
      "1/1 [==============================] - 0s 27ms/step\n",
      "1/1 [==============================] - 0s 23ms/step\n",
      "1/1 [==============================] - 0s 28ms/step\n",
      "1/1 [==============================] - 0s 22ms/step\n",
      "1/1 [==============================] - 0s 25ms/step\n",
      "1/1 [==============================] - 0s 24ms/step\n"
     ]
    }
   ],
   "source": [
    "nextupdown = prediction()"
   ]
  },
  {
   "cell_type": "code",
   "execution_count": 45,
   "id": "37edaea6",
   "metadata": {},
   "outputs": [
    {
     "data": {
      "text/plain": [
       "['208370', array([[0.44739926]], dtype=float32)]"
      ]
     },
     "execution_count": 45,
     "metadata": {},
     "output_type": "execute_result"
    }
   ],
   "source": [
    "nextupdown[0]"
   ]
  },
  {
   "cell_type": "code",
   "execution_count": 46,
   "id": "3e88a16e",
   "metadata": {},
   "outputs": [],
   "source": [
    "df_nextupdown = pd.DataFrame(nextupdown, columns=['code','prediction'])"
   ]
  },
  {
   "cell_type": "code",
   "execution_count": 47,
   "id": "1b5b688b",
   "metadata": {},
   "outputs": [
    {
     "data": {
      "text/html": [
       "<div>\n",
       "<style scoped>\n",
       "    .dataframe tbody tr th:only-of-type {\n",
       "        vertical-align: middle;\n",
       "    }\n",
       "\n",
       "    .dataframe tbody tr th {\n",
       "        vertical-align: top;\n",
       "    }\n",
       "\n",
       "    .dataframe thead th {\n",
       "        text-align: right;\n",
       "    }\n",
       "</style>\n",
       "<table border=\"1\" class=\"dataframe\">\n",
       "  <thead>\n",
       "    <tr style=\"text-align: right;\">\n",
       "      <th></th>\n",
       "      <th>code</th>\n",
       "      <th>prediction</th>\n",
       "    </tr>\n",
       "  </thead>\n",
       "  <tbody>\n",
       "    <tr>\n",
       "      <th>0</th>\n",
       "      <td>208370</td>\n",
       "      <td>[[0.44739926]]</td>\n",
       "    </tr>\n",
       "    <tr>\n",
       "      <th>1</th>\n",
       "      <td>042040</td>\n",
       "      <td>[[0.5061778]]</td>\n",
       "    </tr>\n",
       "    <tr>\n",
       "      <th>2</th>\n",
       "      <td>016380</td>\n",
       "      <td>[[0.52617204]]</td>\n",
       "    </tr>\n",
       "  </tbody>\n",
       "</table>\n",
       "</div>"
      ],
      "text/plain": [
       "     code      prediction\n",
       "0  208370  [[0.44739926]]\n",
       "1  042040   [[0.5061778]]\n",
       "2  016380  [[0.52617204]]"
      ]
     },
     "execution_count": 47,
     "metadata": {},
     "output_type": "execute_result"
    }
   ],
   "source": [
    "df_nextupdown.head(3)"
   ]
  },
  {
   "cell_type": "code",
   "execution_count": 48,
   "id": "10cade55",
   "metadata": {},
   "outputs": [],
   "source": [
    "import numpy as np\n",
    "df_nextupdown['prediction'] = df_nextupdown['prediction'].apply(lambda x : np.rint(x))"
   ]
  },
  {
   "cell_type": "code",
   "execution_count": 49,
   "id": "922dbce8",
   "metadata": {},
   "outputs": [
    {
     "data": {
      "text/html": [
       "<div>\n",
       "<style scoped>\n",
       "    .dataframe tbody tr th:only-of-type {\n",
       "        vertical-align: middle;\n",
       "    }\n",
       "\n",
       "    .dataframe tbody tr th {\n",
       "        vertical-align: top;\n",
       "    }\n",
       "\n",
       "    .dataframe thead th {\n",
       "        text-align: right;\n",
       "    }\n",
       "</style>\n",
       "<table border=\"1\" class=\"dataframe\">\n",
       "  <thead>\n",
       "    <tr style=\"text-align: right;\">\n",
       "      <th></th>\n",
       "      <th>code</th>\n",
       "      <th>prediction</th>\n",
       "    </tr>\n",
       "  </thead>\n",
       "  <tbody>\n",
       "    <tr>\n",
       "      <th>0</th>\n",
       "      <td>208370</td>\n",
       "      <td>[[0.0]]</td>\n",
       "    </tr>\n",
       "    <tr>\n",
       "      <th>1</th>\n",
       "      <td>042040</td>\n",
       "      <td>[[1.0]]</td>\n",
       "    </tr>\n",
       "    <tr>\n",
       "      <th>2</th>\n",
       "      <td>016380</td>\n",
       "      <td>[[1.0]]</td>\n",
       "    </tr>\n",
       "    <tr>\n",
       "      <th>3</th>\n",
       "      <td>208340</td>\n",
       "      <td>[[0.0]]</td>\n",
       "    </tr>\n",
       "    <tr>\n",
       "      <th>4</th>\n",
       "      <td>089530</td>\n",
       "      <td>[[1.0]]</td>\n",
       "    </tr>\n",
       "  </tbody>\n",
       "</table>\n",
       "</div>"
      ],
      "text/plain": [
       "     code prediction\n",
       "0  208370    [[0.0]]\n",
       "1  042040    [[1.0]]\n",
       "2  016380    [[1.0]]\n",
       "3  208340    [[0.0]]\n",
       "4  089530    [[1.0]]"
      ]
     },
     "execution_count": 49,
     "metadata": {},
     "output_type": "execute_result"
    }
   ],
   "source": [
    "df_nextupdown.head()"
   ]
  },
  {
   "cell_type": "code",
   "execution_count": 50,
   "id": "5d955b57",
   "metadata": {},
   "outputs": [
    {
     "data": {
      "text/html": [
       "<div>\n",
       "<style scoped>\n",
       "    .dataframe tbody tr th:only-of-type {\n",
       "        vertical-align: middle;\n",
       "    }\n",
       "\n",
       "    .dataframe tbody tr th {\n",
       "        vertical-align: top;\n",
       "    }\n",
       "\n",
       "    .dataframe thead th {\n",
       "        text-align: right;\n",
       "    }\n",
       "</style>\n",
       "<table border=\"1\" class=\"dataframe\">\n",
       "  <thead>\n",
       "    <tr style=\"text-align: right;\">\n",
       "      <th></th>\n",
       "      <th>code</th>\n",
       "      <th>prediction</th>\n",
       "    </tr>\n",
       "  </thead>\n",
       "  <tbody>\n",
       "    <tr>\n",
       "      <th>1</th>\n",
       "      <td>042040</td>\n",
       "      <td>[[1.0]]</td>\n",
       "    </tr>\n",
       "    <tr>\n",
       "      <th>2</th>\n",
       "      <td>016380</td>\n",
       "      <td>[[1.0]]</td>\n",
       "    </tr>\n",
       "    <tr>\n",
       "      <th>4</th>\n",
       "      <td>089530</td>\n",
       "      <td>[[1.0]]</td>\n",
       "    </tr>\n",
       "    <tr>\n",
       "      <th>5</th>\n",
       "      <td>279600</td>\n",
       "      <td>[[1.0]]</td>\n",
       "    </tr>\n",
       "    <tr>\n",
       "      <th>6</th>\n",
       "      <td>328380</td>\n",
       "      <td>[[1.0]]</td>\n",
       "    </tr>\n",
       "    <tr>\n",
       "      <th>10</th>\n",
       "      <td>069920</td>\n",
       "      <td>[[1.0]]</td>\n",
       "    </tr>\n",
       "    <tr>\n",
       "      <th>13</th>\n",
       "      <td>344860</td>\n",
       "      <td>[[1.0]]</td>\n",
       "    </tr>\n",
       "    <tr>\n",
       "      <th>16</th>\n",
       "      <td>363260</td>\n",
       "      <td>[[1.0]]</td>\n",
       "    </tr>\n",
       "    <tr>\n",
       "      <th>18</th>\n",
       "      <td>014990</td>\n",
       "      <td>[[1.0]]</td>\n",
       "    </tr>\n",
       "    <tr>\n",
       "      <th>19</th>\n",
       "      <td>046140</td>\n",
       "      <td>[[1.0]]</td>\n",
       "    </tr>\n",
       "    <tr>\n",
       "      <th>22</th>\n",
       "      <td>330730</td>\n",
       "      <td>[[1.0]]</td>\n",
       "    </tr>\n",
       "    <tr>\n",
       "      <th>25</th>\n",
       "      <td>071460</td>\n",
       "      <td>[[1.0]]</td>\n",
       "    </tr>\n",
       "    <tr>\n",
       "      <th>27</th>\n",
       "      <td>127980</td>\n",
       "      <td>[[1.0]]</td>\n",
       "    </tr>\n",
       "    <tr>\n",
       "      <th>29</th>\n",
       "      <td>011300</td>\n",
       "      <td>[[1.0]]</td>\n",
       "    </tr>\n",
       "  </tbody>\n",
       "</table>\n",
       "</div>"
      ],
      "text/plain": [
       "      code prediction\n",
       "1   042040    [[1.0]]\n",
       "2   016380    [[1.0]]\n",
       "4   089530    [[1.0]]\n",
       "5   279600    [[1.0]]\n",
       "6   328380    [[1.0]]\n",
       "10  069920    [[1.0]]\n",
       "13  344860    [[1.0]]\n",
       "16  363260    [[1.0]]\n",
       "18  014990    [[1.0]]\n",
       "19  046140    [[1.0]]\n",
       "22  330730    [[1.0]]\n",
       "25  071460    [[1.0]]\n",
       "27  127980    [[1.0]]\n",
       "29  011300    [[1.0]]"
      ]
     },
     "execution_count": 50,
     "metadata": {},
     "output_type": "execute_result"
    }
   ],
   "source": [
    "df_nextupdown[df_nextupdown['prediction'] == 1]"
   ]
  },
  {
   "cell_type": "code",
   "execution_count": 51,
   "id": "1b4d8669",
   "metadata": {},
   "outputs": [
    {
     "data": {
      "text/html": [
       "<div>\n",
       "<style scoped>\n",
       "    .dataframe tbody tr th:only-of-type {\n",
       "        vertical-align: middle;\n",
       "    }\n",
       "\n",
       "    .dataframe tbody tr th {\n",
       "        vertical-align: top;\n",
       "    }\n",
       "\n",
       "    .dataframe thead th {\n",
       "        text-align: right;\n",
       "    }\n",
       "</style>\n",
       "<table border=\"1\" class=\"dataframe\">\n",
       "  <thead>\n",
       "    <tr style=\"text-align: right;\">\n",
       "      <th></th>\n",
       "      <th>회사명</th>\n",
       "      <th>종목코드</th>\n",
       "      <th>업종</th>\n",
       "      <th>주요제품</th>\n",
       "      <th>상장일</th>\n",
       "      <th>결산월</th>\n",
       "      <th>대표자명</th>\n",
       "      <th>홈페이지</th>\n",
       "      <th>지역</th>\n",
       "    </tr>\n",
       "  </thead>\n",
       "  <tbody>\n",
       "    <tr>\n",
       "      <th>0</th>\n",
       "      <td>DL</td>\n",
       "      <td>000210</td>\n",
       "      <td>기타 금융업</td>\n",
       "      <td>지주회사</td>\n",
       "      <td>1976-02-02</td>\n",
       "      <td>12월</td>\n",
       "      <td>전병욱</td>\n",
       "      <td>http://www.dlholdings.co.kr</td>\n",
       "      <td>서울특별시</td>\n",
       "    </tr>\n",
       "  </tbody>\n",
       "</table>\n",
       "</div>"
      ],
      "text/plain": [
       "  회사명    종목코드      업종  주요제품         상장일  결산월 대표자명  \\\n",
       "0  DL  000210  기타 금융업  지주회사  1976-02-02  12월  전병욱   \n",
       "\n",
       "                          홈페이지     지역  \n",
       "0  http://www.dlholdings.co.kr  서울특별시  "
      ]
     },
     "execution_count": 51,
     "metadata": {},
     "output_type": "execute_result"
    }
   ],
   "source": [
    "df_code = pd.read_csv('./database/stock_code.csv', dtype={'종목코드':str})\n",
    "df_code.head(1)"
   ]
  },
  {
   "cell_type": "code",
   "execution_count": 52,
   "id": "68e2720a",
   "metadata": {},
   "outputs": [
    {
     "data": {
      "text/plain": [
       "0      True\n",
       "1      True\n",
       "2      True\n",
       "3      True\n",
       "4      True\n",
       "5      True\n",
       "6      True\n",
       "7      True\n",
       "8      True\n",
       "9      True\n",
       "10     True\n",
       "11     True\n",
       "12     True\n",
       "13     True\n",
       "14     True\n",
       "15     True\n",
       "16     True\n",
       "17     True\n",
       "18     True\n",
       "19     True\n",
       "20     True\n",
       "21    False\n",
       "22     True\n",
       "23     True\n",
       "24     True\n",
       "25     True\n",
       "26     True\n",
       "27    False\n",
       "28     True\n",
       "29     True\n",
       "30     True\n",
       "Name: code, dtype: bool"
      ]
     },
     "execution_count": 52,
     "metadata": {},
     "output_type": "execute_result"
    }
   ],
   "source": [
    "df_nextupdown['code'].isin(df_code['종목코드'])"
   ]
  },
  {
   "cell_type": "code",
   "execution_count": 53,
   "id": "3dfe043a",
   "metadata": {},
   "outputs": [],
   "source": [
    "merged_df = df_nextupdown.merge(df_code, left_on='code', right_on='종목코드', how='left')"
   ]
  },
  {
   "cell_type": "code",
   "execution_count": 54,
   "id": "34b9d363",
   "metadata": {},
   "outputs": [],
   "source": [
    "merged_df = merged_df[['code','회사명','prediction']]"
   ]
  },
  {
   "cell_type": "code",
   "execution_count": 55,
   "id": "6e64719a",
   "metadata": {},
   "outputs": [
    {
     "data": {
      "text/html": [
       "<div>\n",
       "<style scoped>\n",
       "    .dataframe tbody tr th:only-of-type {\n",
       "        vertical-align: middle;\n",
       "    }\n",
       "\n",
       "    .dataframe tbody tr th {\n",
       "        vertical-align: top;\n",
       "    }\n",
       "\n",
       "    .dataframe thead th {\n",
       "        text-align: right;\n",
       "    }\n",
       "</style>\n",
       "<table border=\"1\" class=\"dataframe\">\n",
       "  <thead>\n",
       "    <tr style=\"text-align: right;\">\n",
       "      <th></th>\n",
       "      <th>code</th>\n",
       "      <th>회사명</th>\n",
       "      <th>prediction</th>\n",
       "    </tr>\n",
       "  </thead>\n",
       "  <tbody>\n",
       "    <tr>\n",
       "      <th>1</th>\n",
       "      <td>042040</td>\n",
       "      <td>케이피엠테크</td>\n",
       "      <td>[[1.0]]</td>\n",
       "    </tr>\n",
       "    <tr>\n",
       "      <th>2</th>\n",
       "      <td>016380</td>\n",
       "      <td>KG스틸</td>\n",
       "      <td>[[1.0]]</td>\n",
       "    </tr>\n",
       "    <tr>\n",
       "      <th>4</th>\n",
       "      <td>089530</td>\n",
       "      <td>에이티세미콘</td>\n",
       "      <td>[[1.0]]</td>\n",
       "    </tr>\n",
       "    <tr>\n",
       "      <th>5</th>\n",
       "      <td>279600</td>\n",
       "      <td>미디어젠</td>\n",
       "      <td>[[1.0]]</td>\n",
       "    </tr>\n",
       "    <tr>\n",
       "      <th>6</th>\n",
       "      <td>328380</td>\n",
       "      <td>미래에셋대우스팩3호</td>\n",
       "      <td>[[1.0]]</td>\n",
       "    </tr>\n",
       "    <tr>\n",
       "      <th>10</th>\n",
       "      <td>069920</td>\n",
       "      <td>아이에스이커머스</td>\n",
       "      <td>[[1.0]]</td>\n",
       "    </tr>\n",
       "    <tr>\n",
       "      <th>13</th>\n",
       "      <td>344860</td>\n",
       "      <td>이노진</td>\n",
       "      <td>[[1.0]]</td>\n",
       "    </tr>\n",
       "    <tr>\n",
       "      <th>16</th>\n",
       "      <td>363260</td>\n",
       "      <td>하나금융17호스팩</td>\n",
       "      <td>[[1.0]]</td>\n",
       "    </tr>\n",
       "    <tr>\n",
       "      <th>18</th>\n",
       "      <td>014990</td>\n",
       "      <td>인디에프</td>\n",
       "      <td>[[1.0]]</td>\n",
       "    </tr>\n",
       "    <tr>\n",
       "      <th>19</th>\n",
       "      <td>046140</td>\n",
       "      <td>SBS콘텐츠허브</td>\n",
       "      <td>[[1.0]]</td>\n",
       "    </tr>\n",
       "    <tr>\n",
       "      <th>22</th>\n",
       "      <td>330730</td>\n",
       "      <td>스톤브릿지벤처스</td>\n",
       "      <td>[[1.0]]</td>\n",
       "    </tr>\n",
       "    <tr>\n",
       "      <th>25</th>\n",
       "      <td>071460</td>\n",
       "      <td>위니아</td>\n",
       "      <td>[[1.0]]</td>\n",
       "    </tr>\n",
       "    <tr>\n",
       "      <th>27</th>\n",
       "      <td>127980</td>\n",
       "      <td>NaN</td>\n",
       "      <td>[[1.0]]</td>\n",
       "    </tr>\n",
       "    <tr>\n",
       "      <th>29</th>\n",
       "      <td>011300</td>\n",
       "      <td>성안</td>\n",
       "      <td>[[1.0]]</td>\n",
       "    </tr>\n",
       "  </tbody>\n",
       "</table>\n",
       "</div>"
      ],
      "text/plain": [
       "      code         회사명 prediction\n",
       "1   042040      케이피엠테크    [[1.0]]\n",
       "2   016380        KG스틸    [[1.0]]\n",
       "4   089530      에이티세미콘    [[1.0]]\n",
       "5   279600        미디어젠    [[1.0]]\n",
       "6   328380  미래에셋대우스팩3호    [[1.0]]\n",
       "10  069920    아이에스이커머스    [[1.0]]\n",
       "13  344860         이노진    [[1.0]]\n",
       "16  363260   하나금융17호스팩    [[1.0]]\n",
       "18  014990        인디에프    [[1.0]]\n",
       "19  046140    SBS콘텐츠허브    [[1.0]]\n",
       "22  330730    스톤브릿지벤처스    [[1.0]]\n",
       "25  071460         위니아    [[1.0]]\n",
       "27  127980         NaN    [[1.0]]\n",
       "29  011300          성안    [[1.0]]"
      ]
     },
     "execution_count": 55,
     "metadata": {},
     "output_type": "execute_result"
    }
   ],
   "source": [
    "merged_df[merged_df['prediction'] == 1]"
   ]
  },
  {
   "cell_type": "code",
   "execution_count": 56,
   "id": "8a9b4ba4",
   "metadata": {},
   "outputs": [],
   "source": [
    "merged_df['prediction'] = merged_df['prediction'].replace({1: 'UP', 0: 'DOWN'})"
   ]
  },
  {
   "cell_type": "code",
   "execution_count": 57,
   "id": "b71e5638",
   "metadata": {},
   "outputs": [
    {
     "data": {
      "text/html": [
       "<div>\n",
       "<style scoped>\n",
       "    .dataframe tbody tr th:only-of-type {\n",
       "        vertical-align: middle;\n",
       "    }\n",
       "\n",
       "    .dataframe tbody tr th {\n",
       "        vertical-align: top;\n",
       "    }\n",
       "\n",
       "    .dataframe thead th {\n",
       "        text-align: right;\n",
       "    }\n",
       "</style>\n",
       "<table border=\"1\" class=\"dataframe\">\n",
       "  <thead>\n",
       "    <tr style=\"text-align: right;\">\n",
       "      <th></th>\n",
       "      <th>code</th>\n",
       "      <th>회사명</th>\n",
       "      <th>prediction</th>\n",
       "    </tr>\n",
       "  </thead>\n",
       "  <tbody>\n",
       "    <tr>\n",
       "      <th>1</th>\n",
       "      <td>042040</td>\n",
       "      <td>케이피엠테크</td>\n",
       "      <td>UP</td>\n",
       "    </tr>\n",
       "    <tr>\n",
       "      <th>2</th>\n",
       "      <td>016380</td>\n",
       "      <td>KG스틸</td>\n",
       "      <td>UP</td>\n",
       "    </tr>\n",
       "    <tr>\n",
       "      <th>4</th>\n",
       "      <td>089530</td>\n",
       "      <td>에이티세미콘</td>\n",
       "      <td>UP</td>\n",
       "    </tr>\n",
       "    <tr>\n",
       "      <th>5</th>\n",
       "      <td>279600</td>\n",
       "      <td>미디어젠</td>\n",
       "      <td>UP</td>\n",
       "    </tr>\n",
       "    <tr>\n",
       "      <th>6</th>\n",
       "      <td>328380</td>\n",
       "      <td>미래에셋대우스팩3호</td>\n",
       "      <td>UP</td>\n",
       "    </tr>\n",
       "    <tr>\n",
       "      <th>10</th>\n",
       "      <td>069920</td>\n",
       "      <td>아이에스이커머스</td>\n",
       "      <td>UP</td>\n",
       "    </tr>\n",
       "    <tr>\n",
       "      <th>13</th>\n",
       "      <td>344860</td>\n",
       "      <td>이노진</td>\n",
       "      <td>UP</td>\n",
       "    </tr>\n",
       "    <tr>\n",
       "      <th>16</th>\n",
       "      <td>363260</td>\n",
       "      <td>하나금융17호스팩</td>\n",
       "      <td>UP</td>\n",
       "    </tr>\n",
       "    <tr>\n",
       "      <th>18</th>\n",
       "      <td>014990</td>\n",
       "      <td>인디에프</td>\n",
       "      <td>UP</td>\n",
       "    </tr>\n",
       "    <tr>\n",
       "      <th>19</th>\n",
       "      <td>046140</td>\n",
       "      <td>SBS콘텐츠허브</td>\n",
       "      <td>UP</td>\n",
       "    </tr>\n",
       "    <tr>\n",
       "      <th>22</th>\n",
       "      <td>330730</td>\n",
       "      <td>스톤브릿지벤처스</td>\n",
       "      <td>UP</td>\n",
       "    </tr>\n",
       "    <tr>\n",
       "      <th>25</th>\n",
       "      <td>071460</td>\n",
       "      <td>위니아</td>\n",
       "      <td>UP</td>\n",
       "    </tr>\n",
       "    <tr>\n",
       "      <th>27</th>\n",
       "      <td>127980</td>\n",
       "      <td>NaN</td>\n",
       "      <td>UP</td>\n",
       "    </tr>\n",
       "    <tr>\n",
       "      <th>29</th>\n",
       "      <td>011300</td>\n",
       "      <td>성안</td>\n",
       "      <td>UP</td>\n",
       "    </tr>\n",
       "  </tbody>\n",
       "</table>\n",
       "</div>"
      ],
      "text/plain": [
       "      code         회사명 prediction\n",
       "1   042040      케이피엠테크         UP\n",
       "2   016380        KG스틸         UP\n",
       "4   089530      에이티세미콘         UP\n",
       "5   279600        미디어젠         UP\n",
       "6   328380  미래에셋대우스팩3호         UP\n",
       "10  069920    아이에스이커머스         UP\n",
       "13  344860         이노진         UP\n",
       "16  363260   하나금융17호스팩         UP\n",
       "18  014990        인디에프         UP\n",
       "19  046140    SBS콘텐츠허브         UP\n",
       "22  330730    스톤브릿지벤처스         UP\n",
       "25  071460         위니아         UP\n",
       "27  127980         NaN         UP\n",
       "29  011300          성안         UP"
      ]
     },
     "execution_count": 57,
     "metadata": {},
     "output_type": "execute_result"
    }
   ],
   "source": [
    "merged_df[merged_df['prediction'] == 'UP']"
   ]
  }
 ],
 "metadata": {
  "kernelspec": {
   "display_name": "Python 3 (ipykernel)",
   "language": "python",
   "name": "python3"
  },
  "language_info": {
   "codemirror_mode": {
    "name": "ipython",
    "version": 3
   },
   "file_extension": ".py",
   "mimetype": "text/x-python",
   "name": "python",
   "nbconvert_exporter": "python",
   "pygments_lexer": "ipython3",
   "version": "3.9.13"
  }
 },
 "nbformat": 4,
 "nbformat_minor": 5
}
