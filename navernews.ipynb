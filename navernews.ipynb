{
 "cells": [
  {
   "cell_type": "markdown",
   "id": "cb93a58b",
   "metadata": {},
   "source": [
    "# Naver News"
   ]
  },
  {
   "cell_type": "markdown",
   "id": "bd5afaca",
   "metadata": {},
   "source": [
    "```client_id```와 ```client_secret``` 키를 입력하고 실행하세요."
   ]
  },
  {
   "cell_type": "code",
   "execution_count": 1,
   "id": "f703ff3d",
   "metadata": {},
   "outputs": [],
   "source": [
    "client_id = '<CLIENT_ID>'\n",
    "client_secret = '<CLIENT_SECRET>'"
   ]
  },
  {
   "cell_type": "code",
   "execution_count": 2,
   "id": "616d8e28",
   "metadata": {},
   "outputs": [],
   "source": [
    "keyword = 'hlb'\n",
    "start = 1"
   ]
  },
  {
   "cell_type": "code",
   "execution_count": 3,
   "id": "dade7948",
   "metadata": {},
   "outputs": [],
   "source": [
    "headers = {'X-Naver-Client-Id':client_id, 'X-Naver-Client-Secret':client_secret}\n",
    "params = {'query':keyword, 'display':100, 'start':start}"
   ]
  },
  {
   "cell_type": "code",
   "execution_count": 4,
   "id": "ddd0175a",
   "metadata": {},
   "outputs": [],
   "source": [
    "url = 'https://openapi.naver.com/v1/search/news.json'"
   ]
  },
  {
   "cell_type": "code",
   "execution_count": 5,
   "id": "72e34c76",
   "metadata": {},
   "outputs": [],
   "source": [
    "import requests\n",
    "res = requests.get(url, params=params, headers=headers)"
   ]
  },
  {
   "cell_type": "code",
   "execution_count": 6,
   "id": "25fc5a22",
   "metadata": {},
   "outputs": [
    {
     "name": "stdout",
     "output_type": "stream",
     "text": [
      "200\n"
     ]
    }
   ],
   "source": [
    "print(res.status_code)"
   ]
  },
  {
   "cell_type": "code",
   "execution_count": 7,
   "id": "1112da22",
   "metadata": {},
   "outputs": [],
   "source": [
    "import pandas as pd"
   ]
  },
  {
   "cell_type": "code",
   "execution_count": 8,
   "id": "0a80f73e",
   "metadata": {},
   "outputs": [],
   "source": [
    "df = pd.DataFrame.from_dict(res.json()['items'])"
   ]
  },
  {
   "cell_type": "code",
   "execution_count": 9,
   "id": "873ac233",
   "metadata": {},
   "outputs": [
    {
     "data": {
      "text/html": [
       "<div>\n",
       "<style scoped>\n",
       "    .dataframe tbody tr th:only-of-type {\n",
       "        vertical-align: middle;\n",
       "    }\n",
       "\n",
       "    .dataframe tbody tr th {\n",
       "        vertical-align: top;\n",
       "    }\n",
       "\n",
       "    .dataframe thead th {\n",
       "        text-align: right;\n",
       "    }\n",
       "</style>\n",
       "<table border=\"1\" class=\"dataframe\">\n",
       "  <thead>\n",
       "    <tr style=\"text-align: right;\">\n",
       "      <th></th>\n",
       "      <th>title</th>\n",
       "      <th>originallink</th>\n",
       "      <th>link</th>\n",
       "      <th>description</th>\n",
       "      <th>pubDate</th>\n",
       "    </tr>\n",
       "  </thead>\n",
       "  <tbody>\n",
       "    <tr>\n",
       "      <th>0</th>\n",
       "      <td>[증시] 코스피, 외인 순매수에 2,380대로 마감…외인 순매수 상위 종목은 삼성...</td>\n",
       "      <td>http://www.topstarnews.net/news/articleView.ht...</td>\n",
       "      <td>http://www.topstarnews.net/news/articleView.ht...</td>\n",
       "      <td>14%), &lt;b&gt;HLB&lt;/b&gt;테라퓨틱스 11,600원(▽ 50, -0.4%, 외인 ...</td>\n",
       "      <td>Thu, 19 Jan 2023 17:30:00 +0900</td>\n",
       "    </tr>\n",
       "  </tbody>\n",
       "</table>\n",
       "</div>"
      ],
      "text/plain": [
       "                                              title  \\\n",
       "0  [증시] 코스피, 외인 순매수에 2,380대로 마감…외인 순매수 상위 종목은 삼성...   \n",
       "\n",
       "                                        originallink  \\\n",
       "0  http://www.topstarnews.net/news/articleView.ht...   \n",
       "\n",
       "                                                link  \\\n",
       "0  http://www.topstarnews.net/news/articleView.ht...   \n",
       "\n",
       "                                         description  \\\n",
       "0  14%), <b>HLB</b>테라퓨틱스 11,600원(▽ 50, -0.4%, 외인 ...   \n",
       "\n",
       "                           pubDate  \n",
       "0  Thu, 19 Jan 2023 17:30:00 +0900  "
      ]
     },
     "execution_count": 9,
     "metadata": {},
     "output_type": "execute_result"
    }
   ],
   "source": [
    "df.head(1)"
   ]
  },
  {
   "cell_type": "code",
   "execution_count": 10,
   "id": "98bed800",
   "metadata": {},
   "outputs": [],
   "source": [
    "from urllib.parse import urlparse"
   ]
  },
  {
   "cell_type": "code",
   "execution_count": 11,
   "id": "32f5af8c",
   "metadata": {},
   "outputs": [],
   "source": [
    "df['source'] = df['originallink'].apply(lambda x : urlparse(x).netloc)"
   ]
  },
  {
   "cell_type": "code",
   "execution_count": 12,
   "id": "99b22577",
   "metadata": {},
   "outputs": [
    {
     "data": {
      "text/html": [
       "<div>\n",
       "<style scoped>\n",
       "    .dataframe tbody tr th:only-of-type {\n",
       "        vertical-align: middle;\n",
       "    }\n",
       "\n",
       "    .dataframe tbody tr th {\n",
       "        vertical-align: top;\n",
       "    }\n",
       "\n",
       "    .dataframe thead th {\n",
       "        text-align: right;\n",
       "    }\n",
       "</style>\n",
       "<table border=\"1\" class=\"dataframe\">\n",
       "  <thead>\n",
       "    <tr style=\"text-align: right;\">\n",
       "      <th></th>\n",
       "      <th>title</th>\n",
       "      <th>originallink</th>\n",
       "      <th>link</th>\n",
       "      <th>description</th>\n",
       "      <th>pubDate</th>\n",
       "      <th>source</th>\n",
       "    </tr>\n",
       "  </thead>\n",
       "  <tbody>\n",
       "    <tr>\n",
       "      <th>0</th>\n",
       "      <td>[증시] 코스피, 외인 순매수에 2,380대로 마감…외인 순매수 상위 종목은 삼성...</td>\n",
       "      <td>http://www.topstarnews.net/news/articleView.ht...</td>\n",
       "      <td>http://www.topstarnews.net/news/articleView.ht...</td>\n",
       "      <td>14%), &lt;b&gt;HLB&lt;/b&gt;테라퓨틱스 11,600원(▽ 50, -0.4%, 외인 ...</td>\n",
       "      <td>Thu, 19 Jan 2023 17:30:00 +0900</td>\n",
       "      <td>www.topstarnews.net</td>\n",
       "    </tr>\n",
       "  </tbody>\n",
       "</table>\n",
       "</div>"
      ],
      "text/plain": [
       "                                              title  \\\n",
       "0  [증시] 코스피, 외인 순매수에 2,380대로 마감…외인 순매수 상위 종목은 삼성...   \n",
       "\n",
       "                                        originallink  \\\n",
       "0  http://www.topstarnews.net/news/articleView.ht...   \n",
       "\n",
       "                                                link  \\\n",
       "0  http://www.topstarnews.net/news/articleView.ht...   \n",
       "\n",
       "                                         description  \\\n",
       "0  14%), <b>HLB</b>테라퓨틱스 11,600원(▽ 50, -0.4%, 외인 ...   \n",
       "\n",
       "                           pubDate               source  \n",
       "0  Thu, 19 Jan 2023 17:30:00 +0900  www.topstarnews.net  "
      ]
     },
     "execution_count": 12,
     "metadata": {},
     "output_type": "execute_result"
    }
   ],
   "source": [
    "df.head(1)"
   ]
  },
  {
   "cell_type": "code",
   "execution_count": 13,
   "id": "31bc635c",
   "metadata": {},
   "outputs": [],
   "source": [
    "df.to_csv('navernews.csv', encoding='utf-8-sig', index=False)"
   ]
  },
  {
   "cell_type": "markdown",
   "id": "1b11124d",
   "metadata": {},
   "source": [
    "## 전체코드\n",
    "```client_id```와 ```client_secret``` 키를 입력하고 실행하세요."
   ]
  },
  {
   "cell_type": "code",
   "execution_count": 14,
   "id": "e021dabc",
   "metadata": {},
   "outputs": [],
   "source": [
    "from urllib.parse import urlparse\n",
    "import pandas as pd\n",
    "import requests\n",
    "\n",
    "def naver_news():\n",
    "    client_id = '<CLIENT_ID>'\n",
    "    client_secret = '<CLIENT_SECRET>'\n",
    "\n",
    "    keyword = 'hlb'\n",
    "    starts = [1, 100, 200, 300, 400, 500, 600, 700, 800, 900, 1000]\n",
    "\n",
    "    frame = pd.DataFrame()\n",
    "    for start in starts:\n",
    "\n",
    "        headers = {'X-Naver-Client-Id':client_id, 'X-Naver-Client-Secret':client_secret}\n",
    "        params = {'query':keyword, 'display':100, 'start':start}\n",
    "\n",
    "        url = 'https://openapi.naver.com/v1/search/news.json'\n",
    "        res = requests.get(url, params=params, headers=headers)\n",
    "\n",
    "        df = pd.DataFrame.from_dict(res.json()['items'])\n",
    "        df['source'] = df['originallink'].apply(lambda x : urlparse(x).netloc)\n",
    "\n",
    "        frame = pd.concat([frame,df])\n",
    "\n",
    "    frame.to_csv('navernews.csv', encoding='utf-8-sig', index=False)\n",
    "\n",
    "    return frame"
   ]
  },
  {
   "cell_type": "code",
   "execution_count": 15,
   "id": "f946f043",
   "metadata": {},
   "outputs": [],
   "source": [
    "naver_news = naver_news()"
   ]
  },
  {
   "cell_type": "code",
   "execution_count": 16,
   "id": "6a5aa450",
   "metadata": {},
   "outputs": [
    {
     "data": {
      "text/html": [
       "<div>\n",
       "<style scoped>\n",
       "    .dataframe tbody tr th:only-of-type {\n",
       "        vertical-align: middle;\n",
       "    }\n",
       "\n",
       "    .dataframe tbody tr th {\n",
       "        vertical-align: top;\n",
       "    }\n",
       "\n",
       "    .dataframe thead th {\n",
       "        text-align: right;\n",
       "    }\n",
       "</style>\n",
       "<table border=\"1\" class=\"dataframe\">\n",
       "  <thead>\n",
       "    <tr style=\"text-align: right;\">\n",
       "      <th></th>\n",
       "      <th>title</th>\n",
       "      <th>originallink</th>\n",
       "      <th>link</th>\n",
       "      <th>description</th>\n",
       "      <th>pubDate</th>\n",
       "      <th>source</th>\n",
       "    </tr>\n",
       "  </thead>\n",
       "  <tbody>\n",
       "    <tr>\n",
       "      <th>0</th>\n",
       "      <td>[증시] 코스피, 외인 순매수에 2,380대로 마감…외인 순매수 상위 종목은 삼성...</td>\n",
       "      <td>http://www.topstarnews.net/news/articleView.ht...</td>\n",
       "      <td>http://www.topstarnews.net/news/articleView.ht...</td>\n",
       "      <td>14%), &lt;b&gt;HLB&lt;/b&gt;테라퓨틱스 11,600원(▽ 50, -0.4%, 외인 ...</td>\n",
       "      <td>Thu, 19 Jan 2023 17:30:00 +0900</td>\n",
       "      <td>www.topstarnews.net</td>\n",
       "    </tr>\n",
       "  </tbody>\n",
       "</table>\n",
       "</div>"
      ],
      "text/plain": [
       "                                              title  \\\n",
       "0  [증시] 코스피, 외인 순매수에 2,380대로 마감…외인 순매수 상위 종목은 삼성...   \n",
       "\n",
       "                                        originallink  \\\n",
       "0  http://www.topstarnews.net/news/articleView.ht...   \n",
       "\n",
       "                                                link  \\\n",
       "0  http://www.topstarnews.net/news/articleView.ht...   \n",
       "\n",
       "                                         description  \\\n",
       "0  14%), <b>HLB</b>테라퓨틱스 11,600원(▽ 50, -0.4%, 외인 ...   \n",
       "\n",
       "                           pubDate               source  \n",
       "0  Thu, 19 Jan 2023 17:30:00 +0900  www.topstarnews.net  "
      ]
     },
     "execution_count": 16,
     "metadata": {},
     "output_type": "execute_result"
    }
   ],
   "source": [
    "naver_news.head(1)"
   ]
  },
  {
   "cell_type": "code",
   "execution_count": 17,
   "id": "4001e00c",
   "metadata": {},
   "outputs": [
    {
     "name": "stdout",
     "output_type": "stream",
     "text": [
      "1100\n"
     ]
    }
   ],
   "source": [
    "print(len(naver_news))"
   ]
  }
 ],
 "metadata": {
  "kernelspec": {
   "display_name": "Python 3 (ipykernel)",
   "language": "python",
   "name": "python3"
  },
  "language_info": {
   "codemirror_mode": {
    "name": "ipython",
    "version": 3
   },
   "file_extension": ".py",
   "mimetype": "text/x-python",
   "name": "python",
   "nbconvert_exporter": "python",
   "pygments_lexer": "ipython3",
   "version": "3.9.13"
  }
 },
 "nbformat": 4,
 "nbformat_minor": 5
}
