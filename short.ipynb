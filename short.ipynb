{
 "cells": [
  {
   "cell_type": "markdown",
   "id": "071eebf4",
   "metadata": {},
   "source": [
    "# Short"
   ]
  },
  {
   "cell_type": "code",
   "execution_count": 1,
   "id": "80c13be7",
   "metadata": {},
   "outputs": [],
   "source": [
    "from datetime import timedelta\n",
    "from datetime import datetime"
   ]
  },
  {
   "cell_type": "code",
   "execution_count": 2,
   "id": "8bfb9b84",
   "metadata": {},
   "outputs": [],
   "source": [
    "end = datetime.today()\n",
    "start = end - timedelta(weeks=24)"
   ]
  },
  {
   "cell_type": "code",
   "execution_count": 3,
   "id": "6f58288e",
   "metadata": {},
   "outputs": [],
   "source": [
    "end = end.strftime('%Y%m%d')\n",
    "start = start.strftime('%Y%m%d')"
   ]
  },
  {
   "cell_type": "code",
   "execution_count": 4,
   "id": "0999f7bf",
   "metadata": {},
   "outputs": [
    {
     "name": "stdout",
     "output_type": "stream",
     "text": [
      "20230119\n",
      "20220804\n"
     ]
    }
   ],
   "source": [
    "print(end)\n",
    "print(start)"
   ]
  },
  {
   "cell_type": "markdown",
   "id": "baac19fb",
   "metadata": {},
   "source": [
    "## 종목코드"
   ]
  },
  {
   "cell_type": "code",
   "execution_count": 5,
   "id": "3e64329e",
   "metadata": {},
   "outputs": [],
   "source": [
    "firm_name = 'HLB'"
   ]
  },
  {
   "cell_type": "code",
   "execution_count": 6,
   "id": "b0aa90eb",
   "metadata": {},
   "outputs": [],
   "source": [
    "import pandas as pd\n",
    "df = pd.read_csv('./database/stock_code.csv')"
   ]
  },
  {
   "cell_type": "code",
   "execution_count": 7,
   "id": "ceb3cccf",
   "metadata": {},
   "outputs": [
    {
     "data": {
      "text/html": [
       "<div>\n",
       "<style scoped>\n",
       "    .dataframe tbody tr th:only-of-type {\n",
       "        vertical-align: middle;\n",
       "    }\n",
       "\n",
       "    .dataframe tbody tr th {\n",
       "        vertical-align: top;\n",
       "    }\n",
       "\n",
       "    .dataframe thead th {\n",
       "        text-align: right;\n",
       "    }\n",
       "</style>\n",
       "<table border=\"1\" class=\"dataframe\">\n",
       "  <thead>\n",
       "    <tr style=\"text-align: right;\">\n",
       "      <th></th>\n",
       "      <th>회사명</th>\n",
       "      <th>종목코드</th>\n",
       "      <th>업종</th>\n",
       "      <th>주요제품</th>\n",
       "      <th>상장일</th>\n",
       "      <th>결산월</th>\n",
       "      <th>대표자명</th>\n",
       "      <th>홈페이지</th>\n",
       "      <th>지역</th>\n",
       "    </tr>\n",
       "  </thead>\n",
       "  <tbody>\n",
       "    <tr>\n",
       "      <th>0</th>\n",
       "      <td>DL</td>\n",
       "      <td>210</td>\n",
       "      <td>기타 금융업</td>\n",
       "      <td>지주회사</td>\n",
       "      <td>1976-02-02</td>\n",
       "      <td>12월</td>\n",
       "      <td>전병욱</td>\n",
       "      <td>http://www.dlholdings.co.kr</td>\n",
       "      <td>서울특별시</td>\n",
       "    </tr>\n",
       "  </tbody>\n",
       "</table>\n",
       "</div>"
      ],
      "text/plain": [
       "  회사명  종목코드      업종  주요제품         상장일  결산월 대표자명                         홈페이지  \\\n",
       "0  DL   210  기타 금융업  지주회사  1976-02-02  12월  전병욱  http://www.dlholdings.co.kr   \n",
       "\n",
       "      지역  \n",
       "0  서울특별시  "
      ]
     },
     "execution_count": 7,
     "metadata": {},
     "output_type": "execute_result"
    }
   ],
   "source": [
    "df.head(1)"
   ]
  },
  {
   "cell_type": "code",
   "execution_count": 8,
   "id": "4da61b46",
   "metadata": {},
   "outputs": [
    {
     "name": "stdout",
     "output_type": "stream",
     "text": [
      "28300\n"
     ]
    }
   ],
   "source": [
    "stock_code = df[df['회사명'] == firm_name]['종목코드'].iloc[0]\n",
    "print(stock_code)"
   ]
  },
  {
   "cell_type": "code",
   "execution_count": 9,
   "id": "83e98d5d",
   "metadata": {},
   "outputs": [
    {
     "data": {
      "text/plain": [
       "numpy.int64"
      ]
     },
     "execution_count": 9,
     "metadata": {},
     "output_type": "execute_result"
    }
   ],
   "source": [
    "type(stock_code)"
   ]
  },
  {
   "cell_type": "code",
   "execution_count": 10,
   "id": "21d51d82",
   "metadata": {},
   "outputs": [
    {
     "data": {
      "text/plain": [
       "str"
      ]
     },
     "execution_count": 10,
     "metadata": {},
     "output_type": "execute_result"
    }
   ],
   "source": [
    "stock_code = str(stock_code)\n",
    "type(stock_code)"
   ]
  },
  {
   "cell_type": "code",
   "execution_count": 11,
   "id": "18768039",
   "metadata": {},
   "outputs": [
    {
     "name": "stdout",
     "output_type": "stream",
     "text": [
      "028300\n"
     ]
    }
   ],
   "source": [
    "stock_code = stock_code.zfill(6)\n",
    "print(stock_code)"
   ]
  },
  {
   "cell_type": "markdown",
   "id": "07188dbe",
   "metadata": {},
   "source": [
    "## 공매도잔고"
   ]
  },
  {
   "cell_type": "code",
   "execution_count": 12,
   "id": "21efcf77",
   "metadata": {},
   "outputs": [],
   "source": [
    "from pykrx import stock"
   ]
  },
  {
   "cell_type": "code",
   "execution_count": 13,
   "id": "8bb3a4d1",
   "metadata": {},
   "outputs": [
    {
     "name": "stdout",
     "output_type": "stream",
     "text": [
      "028300\n"
     ]
    }
   ],
   "source": [
    "print(stock_code)"
   ]
  },
  {
   "cell_type": "code",
   "execution_count": 14,
   "id": "af6b6f07",
   "metadata": {},
   "outputs": [],
   "source": [
    "df_pykrx = stock.get_shorting_status_by_date(start, end, stock_code)"
   ]
  },
  {
   "cell_type": "code",
   "execution_count": 15,
   "id": "8b8ee759",
   "metadata": {},
   "outputs": [
    {
     "data": {
      "text/html": [
       "<div>\n",
       "<style scoped>\n",
       "    .dataframe tbody tr th:only-of-type {\n",
       "        vertical-align: middle;\n",
       "    }\n",
       "\n",
       "    .dataframe tbody tr th {\n",
       "        vertical-align: top;\n",
       "    }\n",
       "\n",
       "    .dataframe thead th {\n",
       "        text-align: right;\n",
       "    }\n",
       "</style>\n",
       "<table border=\"1\" class=\"dataframe\">\n",
       "  <thead>\n",
       "    <tr style=\"text-align: right;\">\n",
       "      <th></th>\n",
       "      <th>거래량</th>\n",
       "      <th>잔고수량</th>\n",
       "      <th>거래대금</th>\n",
       "      <th>잔고금액</th>\n",
       "    </tr>\n",
       "    <tr>\n",
       "      <th>날짜</th>\n",
       "      <th></th>\n",
       "      <th></th>\n",
       "      <th></th>\n",
       "      <th></th>\n",
       "    </tr>\n",
       "  </thead>\n",
       "  <tbody>\n",
       "    <tr>\n",
       "      <th>2023-01-13</th>\n",
       "      <td>30600</td>\n",
       "      <td>4711754</td>\n",
       "      <td>970088550</td>\n",
       "      <td>150540540300</td>\n",
       "    </tr>\n",
       "    <tr>\n",
       "      <th>2023-01-16</th>\n",
       "      <td>18360</td>\n",
       "      <td>4706291</td>\n",
       "      <td>587591050</td>\n",
       "      <td>151071941100</td>\n",
       "    </tr>\n",
       "    <tr>\n",
       "      <th>2023-01-17</th>\n",
       "      <td>49697</td>\n",
       "      <td>4727305</td>\n",
       "      <td>1563936100</td>\n",
       "      <td>148201011750</td>\n",
       "    </tr>\n",
       "  </tbody>\n",
       "</table>\n",
       "</div>"
      ],
      "text/plain": [
       "              거래량     잔고수량        거래대금          잔고금액\n",
       "날짜                                                  \n",
       "2023-01-13  30600  4711754   970088550  150540540300\n",
       "2023-01-16  18360  4706291   587591050  151071941100\n",
       "2023-01-17  49697  4727305  1563936100  148201011750"
      ]
     },
     "execution_count": 15,
     "metadata": {},
     "output_type": "execute_result"
    }
   ],
   "source": [
    "df_pykrx.tail(3)"
   ]
  },
  {
   "cell_type": "markdown",
   "id": "f481ecff",
   "metadata": {},
   "source": [
    "## 그래프"
   ]
  },
  {
   "cell_type": "code",
   "execution_count": 16,
   "id": "7bf81c89",
   "metadata": {},
   "outputs": [],
   "source": [
    "from matplotlib import pyplot as plt"
   ]
  },
  {
   "cell_type": "code",
   "execution_count": 17,
   "id": "de18d404",
   "metadata": {},
   "outputs": [],
   "source": [
    "data = df_pykrx.잔고수량"
   ]
  },
  {
   "cell_type": "code",
   "execution_count": 18,
   "id": "0c829a37",
   "metadata": {},
   "outputs": [
    {
     "name": "stdout",
     "output_type": "stream",
     "text": [
      "날짜\n",
      "2022-08-04    4929857\n",
      "2022-08-05    4871230\n",
      "2022-08-08    4815030\n",
      "Name: 잔고수량, dtype: int32\n"
     ]
    }
   ],
   "source": [
    "print(data[:3])"
   ]
  },
  {
   "cell_type": "code",
   "execution_count": 19,
   "id": "01688ab8",
   "metadata": {},
   "outputs": [],
   "source": [
    "import matplotlib\n",
    "matplotlib.rcParams['font.family'] = 'DejaVu Sans'"
   ]
  },
  {
   "cell_type": "code",
   "execution_count": 20,
   "id": "210001d9",
   "metadata": {},
   "outputs": [
    {
     "data": {
      "image/png": "[encoded data removed]",
      "text/plain": [
       "<Figure size 640x480 with 1 Axes>"
      ]
     },
     "metadata": {},
     "output_type": "display_data"
    }
   ],
   "source": [
    "plt.plot(data)\n",
    "plt.show()"
   ]
  },
  {
   "cell_type": "markdown",
   "id": "26c33f14",
   "metadata": {},
   "source": [
    "## 저장하기"
   ]
  },
  {
   "cell_type": "code",
   "execution_count": 21,
   "id": "b5298186",
   "metadata": {},
   "outputs": [],
   "source": [
    "import os"
   ]
  },
  {
   "cell_type": "code",
   "execution_count": 22,
   "id": "902ddefe",
   "metadata": {},
   "outputs": [],
   "source": [
    "base_dir = 'C:\\\\'\n",
    "file_name = firm_name"
   ]
  },
  {
   "cell_type": "code",
   "execution_count": 23,
   "id": "9d2f9618",
   "metadata": {},
   "outputs": [],
   "source": [
    "filepath = os.path.join(base_dir,'Users','user','Desktop') "
   ]
  },
  {
   "cell_type": "code",
   "execution_count": 24,
   "id": "b080f40d",
   "metadata": {},
   "outputs": [
    {
     "name": "stdout",
     "output_type": "stream",
     "text": [
      "C:\\Users\\user\\Desktop\\HLB.png\n"
     ]
    }
   ],
   "source": [
    "if os.path.exists(filepath):\n",
    "    filename = os.path.join(filepath, file_name) + '.png'\n",
    "    print(filename)\n",
    "else:\n",
    "    print(f\"{filepath} directory not exists.\")"
   ]
  },
  {
   "cell_type": "code",
   "execution_count": 25,
   "id": "69d6fd83",
   "metadata": {},
   "outputs": [
    {
     "data": {
      "text/plain": [
       "<Figure size 640x480 with 0 Axes>"
      ]
     },
     "metadata": {},
     "output_type": "display_data"
    }
   ],
   "source": [
    "plt.savefig(filename)"
   ]
  },
  {
   "cell_type": "markdown",
   "id": "eba30e51",
   "metadata": {},
   "source": [
    "## 전체코드\n",
    "```os.path.abspath(__file__)``` 코드가 들어있기 때문에 Anaconda prompt에서 실행시켜야 에러 없이 코드가 돌아갑니다. Jupyter Notebook에서는 ```__file__```을 그대로 실행시키면 NameError가 뜹니다. 따라서 반드시 파이썬 파일에서 실행시켜야 합니다."
   ]
  },
  {
   "cell_type": "code",
   "execution_count": 1,
   "id": "636315b1",
   "metadata": {},
   "outputs": [],
   "source": [
    "from matplotlib import pyplot as plt\n",
    "from datetime import timedelta\n",
    "from datetime import datetime\n",
    "from pykrx import stock\n",
    "import pandas as pd\n",
    "import matplotlib\n",
    "import os\n",
    "\n",
    "def short():\n",
    "    \n",
    "    matplotlib.rcParams['font.family'] = 'DejaVu Sans'\n",
    "    \n",
    "    end = datetime.today()\n",
    "    start = end - timedelta(weeks=24)\n",
    "\n",
    "    end = end.strftime('%Y%m%d')\n",
    "    start = start.strftime('%Y%m%d')\n",
    "        \n",
    "    firm_names = ['에코프로비엠','셀트리온','HMM','엘앤에프','아모레퍼시픽','카카오뱅크','크래프톤','포스코케미칼','두산에너빌리티','SK바이오사이언스','HLB','LG생활건강']\n",
    "    for firm_name in firm_names:\n",
    "        plt.clf()\n",
    "        \n",
    "        df = pd.read_csv('./database/stock_code.csv')\n",
    "        stock_code = df[df['회사명'] == firm_name]['종목코드'].iloc[0]\n",
    "        stock_code = str(stock_code)\n",
    "        stock_code = stock_code.zfill(6)\n",
    "\n",
    "        df_pykrx = stock.get_shorting_status_by_date(start, end, stock_code)\n",
    "        data = df_pykrx.잔고수량\n",
    "\n",
    "        plt.plot(data)\n",
    "\n",
    "        BASE_DIR = os.path.dirname(os.path.abspath(__file__))\n",
    "        file_name = firm_name\n",
    "\n",
    "        filepath = os.path.join(BASE_DIR, 'short') \n",
    "\n",
    "        if os.path.exists(filepath):\n",
    "            filename = os.path.join(filepath, file_name) + '.png'\n",
    "            print(filename)\n",
    "        else:\n",
    "            print(f\"{filepath} directory not exists.\")\n",
    "\n",
    "        plt.savefig(filename)"
   ]
  },
  {
   "cell_type": "code",
   "execution_count": null,
   "id": "933ecaa7",
   "metadata": {},
   "outputs": [],
   "source": [
    "short()"
   ]
  },
  {
   "cell_type": "code",
   "execution_count": null,
   "id": "18fa7a1b",
   "metadata": {},
   "outputs": [],
   "source": []
  }
 ],
 "metadata": {
  "kernelspec": {
   "display_name": "Python 3 (ipykernel)",
   "language": "python",
   "name": "python3"
  },
  "language_info": {
   "codemirror_mode": {
    "name": "ipython",
    "version": 3
   },
   "file_extension": ".py",
   "mimetype": "text/x-python",
   "name": "python",
   "nbconvert_exporter": "python",
   "pygments_lexer": "ipython3",
   "version": "3.9.13"
  }
 },
 "nbformat": 4,
 "nbformat_minor": 5
}
