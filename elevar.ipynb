{
 "cells": [
  {
   "cell_type": "markdown",
   "id": "483c2b06",
   "metadata": {},
   "source": [
    "# Elevar"
   ]
  },
  {
   "cell_type": "markdown",
   "id": "40449ffa",
   "metadata": {},
   "source": [
    "홈페이지에 접속합니다."
   ]
  },
  {
   "cell_type": "code",
   "execution_count": 1,
   "id": "6dd798d9",
   "metadata": {},
   "outputs": [],
   "source": [
    "url = 'https://elevartherapeutics.com/news/'"
   ]
  },
  {
   "cell_type": "code",
   "execution_count": 2,
   "id": "8635ed01",
   "metadata": {},
   "outputs": [],
   "source": [
    "from bs4 import BeautifulSoup\n",
    "import requests"
   ]
  },
  {
   "cell_type": "code",
   "execution_count": 3,
   "id": "921fd372",
   "metadata": {},
   "outputs": [],
   "source": [
    "res = requests.get(url)\n",
    "soup = BeautifulSoup(res.text, 'html')"
   ]
  },
  {
   "cell_type": "code",
   "execution_count": 4,
   "id": "b5b15e46",
   "metadata": {},
   "outputs": [
    {
     "name": "stdout",
     "output_type": "stream",
     "text": [
      "200\n"
     ]
    }
   ],
   "source": [
    "print(res.status_code)"
   ]
  },
  {
   "cell_type": "markdown",
   "id": "3adf51fa",
   "metadata": {},
   "source": [
    "공지사항을 스크래핑합니다."
   ]
  },
  {
   "cell_type": "code",
   "execution_count": 5,
   "id": "ac33b514",
   "metadata": {},
   "outputs": [],
   "source": [
    "items = soup.find_all('div', {'class':'edgtf-post-text'})"
   ]
  },
  {
   "cell_type": "code",
   "execution_count": 6,
   "id": "fdb895ca",
   "metadata": {},
   "outputs": [
    {
     "data": {
      "text/plain": [
       "76"
      ]
     },
     "execution_count": 6,
     "metadata": {},
     "output_type": "execute_result"
    }
   ],
   "source": [
    "len(items)"
   ]
  },
  {
   "cell_type": "markdown",
   "id": "45a7ad7f",
   "metadata": {},
   "source": [
    "```items``` 중에 1개만 본보기로 스크래핑합니다."
   ]
  },
  {
   "cell_type": "code",
   "execution_count": 7,
   "id": "cd279106",
   "metadata": {},
   "outputs": [
    {
     "name": "stdout",
     "output_type": "stream",
     "text": [
      "October 11, 2022\n",
      "Elevar Therapeutics Announces Positive Pre-NDA Meeting for Rivoceranib Combination With Camrelizumab as Hepatocellular Carcinoma Treatment Option\n",
      "https://elevartherapeutics.com/2022/10/11/elevar-therapeutics-announces-positive-pre-nda-meeting-for-rivoceranib-combination-with-camrelizumab-as-hepatocellular-carcinoma-treatment-option/\n"
     ]
    }
   ],
   "source": [
    "for item in items[:1]:\n",
    "    pubdate = item.div.a.text\n",
    "    title = item.a.text\n",
    "    link = item.a['href']\n",
    "    \n",
    "    print(pubdate)\n",
    "    print(title)\n",
    "    print(link)"
   ]
  },
  {
   "cell_type": "markdown",
   "id": "09d8fbd7",
   "metadata": {},
   "source": [
    "날짜를 ```yyyy-mm-dd``` 형식으로 변환합니다. "
   ]
  },
  {
   "cell_type": "code",
   "execution_count": 8,
   "id": "16589c5f",
   "metadata": {},
   "outputs": [],
   "source": [
    "from datetime import datetime"
   ]
  },
  {
   "cell_type": "code",
   "execution_count": 9,
   "id": "2f196f73",
   "metadata": {},
   "outputs": [
    {
     "name": "stdout",
     "output_type": "stream",
     "text": [
      "2022-10-11\n"
     ]
    }
   ],
   "source": [
    "pubdate = datetime.strptime(pubdate, '%B %d, %Y').date()\n",
    "print(pubdate)"
   ]
  },
  {
   "cell_type": "markdown",
   "id": "556a2a21",
   "metadata": {},
   "source": [
    "날짜를 ```str``` 데이터타입으로 변환합니다."
   ]
  },
  {
   "cell_type": "code",
   "execution_count": 10,
   "id": "bb80d95f",
   "metadata": {},
   "outputs": [],
   "source": [
    "pubdate = pubdate.strftime('%Y-%m-%d')"
   ]
  },
  {
   "cell_type": "code",
   "execution_count": 11,
   "id": "01c80d9b",
   "metadata": {},
   "outputs": [
    {
     "name": "stdout",
     "output_type": "stream",
     "text": [
      "2022-10-11\n"
     ]
    }
   ],
   "source": [
    "print(pubdate)"
   ]
  },
  {
   "cell_type": "markdown",
   "id": "8db1cfb0",
   "metadata": {},
   "source": [
    "## 전체코드"
   ]
  },
  {
   "cell_type": "code",
   "execution_count": 12,
   "id": "77b2d6a2",
   "metadata": {},
   "outputs": [],
   "source": [
    "from datetime import datetime\n",
    "from bs4 import BeautifulSoup\n",
    "import requests\n",
    "\n",
    "def elevar():\n",
    "    url = 'https://elevartherapeutics.com/news/'\n",
    "    res = requests.get(url)\n",
    "    soup = BeautifulSoup(res.text, 'html')\n",
    "    items = soup.find_all('div', {'class':'edgtf-post-text'})\n",
    "    elevar_list = []\n",
    "    for item in items[:5]:\n",
    "        pubdate = item.div.a.text\n",
    "        title = item.a.text\n",
    "        link = item.a['href']\n",
    "        pubdate = datetime.strptime(pubdate, '%B %d, %Y').date()\n",
    "        pubdate = pubdate.strftime('%Y-%m-%d')\n",
    "\n",
    "        elevar_list.append([pubdate, title, link])\n",
    "    return elevar_list"
   ]
  },
  {
   "cell_type": "code",
   "execution_count": 13,
   "id": "d7e4ec71",
   "metadata": {},
   "outputs": [],
   "source": [
    "elevar = elevar()"
   ]
  },
  {
   "cell_type": "code",
   "execution_count": 14,
   "id": "fd84f8b1",
   "metadata": {},
   "outputs": [
    {
     "name": "stdout",
     "output_type": "stream",
     "text": [
      "2022-10-11 Elevar Therapeutics Announces Positive Pre-NDA Meeting for Rivoceranib Combination With Camrelizumab as Hepatocellular Carcinoma Treatment Option https://elevartherapeutics.com/2022/10/11/elevar-therapeutics-announces-positive-pre-nda-meeting-for-rivoceranib-combination-with-camrelizumab-as-hepatocellular-carcinoma-treatment-option/\n",
      "2022-09-10 Elevar Therapeutics Announces Camrelizumab Plus Rivoceranib Significantly Prolonged Overall Survival and Progression-Free Survival Versus Sorafenib in Patients With Unresectable Hepatocellular Carcinoma During Phase 3 Trial, a Joint Program With Hengrui Pharma (Study 310 Data Released) https://elevartherapeutics.com/2022/09/10/elevar-therapeutics-announces-camrelizumab-plus-rivoceranib-significantly-prolonged-overall-survival-and-progression-free-survival-versus-sorafenib-in-patients-with-unresectable-hepatocellular-carci-2/\n",
      "2022-09-07 Elevar Therapeutics Announces Camrelizumab Plus Rivoceranib Significantly Prolonged Overall Survival and Progression-Free Survival Versus Sorafenib in Patients With Unresectable Hepatocellular Carcinoma During Phase 3 Trial, a Joint Program With Hengrui Pharma https://elevartherapeutics.com/2022/09/07/elevar-therapeutics-announces-camrelizumab-plus-rivoceranib-significantly-prolonged-overall-survival-and-progression-free-survival-versus-sorafenib-in-patients-with-unresectable-hepatocellular-carcino/\n",
      "2022-08-25 Elevar Therapeutics Announces Data From Phase 3 Study of Rivoceranib in Combination With Camrelizumab Is Accepted for Late-Breaking Proffered Paper Presentation at ESMO Congress 2022 https://elevartherapeutics.com/2022/08/25/elevar-therapeutics-announces-data-from-phase-3-study-of-rivoceranib-in-combination-with-camrelizumab-is-accepted-for-late-breaking-proffered-paper-presentation-at-esmo-congress-2022/\n",
      "2022-08-22 Elevar Therapeutics Names Wade Smith Chief Financial Officer https://elevartherapeutics.com/2022/08/22/elevar-therapeutics-names-wade-smith-chief-financial-officer/\n"
     ]
    }
   ],
   "source": [
    "for pubdate, title, link in elevar:\n",
    "    print(pubdate, title, link)"
   ]
  }
 ],
 "metadata": {
  "kernelspec": {
   "display_name": "Python 3 (ipykernel)",
   "language": "python",
   "name": "python3"
  },
  "language_info": {
   "codemirror_mode": {
    "name": "ipython",
    "version": 3
   },
   "file_extension": ".py",
   "mimetype": "text/x-python",
   "name": "python",
   "nbconvert_exporter": "python",
   "pygments_lexer": "ipython3",
   "version": "3.9.13"
  }
 },
 "nbformat": 4,
 "nbformat_minor": 5
}
