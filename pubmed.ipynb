{
 "cells": [
  {
   "cell_type": "markdown",
   "id": "b5e4c4f3",
   "metadata": {},
   "source": [
    "# PubMed"
   ]
  },
  {
   "cell_type": "markdown",
   "id": "21c6c884",
   "metadata": {},
   "source": [
    "## Most Recent\n",
    "```&sort=date```는 최신 논문 순으로 정렬합니다. "
   ]
  },
  {
   "cell_type": "code",
   "execution_count": 1,
   "id": "7303c17f",
   "metadata": {},
   "outputs": [],
   "source": [
    "import requests\n",
    "from bs4 import BeautifulSoup\n",
    "\n",
    "url = \"https://pubmed.ncbi.nlm.nih.gov/?term=apatinib&sort=date\"\n",
    "\n",
    "response = requests.get(url)\n",
    "soup = BeautifulSoup(response.text, 'html.parser')"
   ]
  },
  {
   "cell_type": "code",
   "execution_count": 2,
   "id": "1762fdf2",
   "metadata": {},
   "outputs": [],
   "source": [
    "items = soup.find_all('article', class_='full-docsum')"
   ]
  },
  {
   "cell_type": "code",
   "execution_count": 3,
   "id": "79b61c29",
   "metadata": {},
   "outputs": [
    {
     "data": {
      "text/plain": [
       "10"
      ]
     },
     "execution_count": 3,
     "metadata": {},
     "output_type": "execute_result"
    }
   ],
   "source": [
    "len(items)"
   ]
  },
  {
   "cell_type": "code",
   "execution_count": 4,
   "id": "d4773f1f",
   "metadata": {
    "scrolled": true
   },
   "outputs": [
    {
     "name": "stdout",
     "output_type": "stream",
     "text": [
      "\n",
      "              \n",
      "                Population Pharmacokinetics and Pharmacogenetics of Apatinib in Adult Cancer Patients.\n",
      "              \n",
      "            \n",
      "https://pubmed.ncbi.nlm.nih.gov/36662574/\n",
      "\n",
      "              \n",
      "                Efficacy of Transarterial Chemoembolization Combined with Tyrosine Kinase Inhibitors for Hepatocellular Carcinoma Patients with Portal Vein Tumor Thrombus: A Systematic Review and Meta-Analysis.\n",
      "              \n",
      "            \n",
      "https://pubmed.ncbi.nlm.nih.gov/36661745/\n",
      "\n",
      "Apatinib in the treatment of gastric cancer in Henan Province: a multicenter prospective real-world observational study (Ahead-HAP01).\n",
      "              \n",
      "            \n",
      "https://pubmed.ncbi.nlm.nih.gov/36660622/\n",
      "\n",
      "Apatinib combined with trastuzumab and albumin-bound paclitaxel for treatment of HER2+ breast cancer with brain metastases resistant to anti-HER2 TKIs: A case report.\n",
      "              \n",
      "            \n",
      "https://pubmed.ncbi.nlm.nih.gov/36644147/\n",
      "\n",
      "              \n",
      "                Low-dose apatinib combined with camrelizumab and the SOX regimen in the neoadjuvant treatment of locally advanced gastric/gastroesophageal junction adenocarcinoma (SPACE-neo): a protocol for an open-label, single-arm, clinical trial.\n",
      "              \n",
      "            \n",
      "https://pubmed.ncbi.nlm.nih.gov/36636043/\n",
      "\n",
      "              \n",
      "                High DCR and Better Survival in Patients with Advanced or Metastatic Gastric Cancer Receiving Anti-Angiogenic TKI plus Chemotherapy: A Real-World Study.\n",
      "              \n",
      "            \n",
      "https://pubmed.ncbi.nlm.nih.gov/36632666/\n",
      "\n",
      "              \n",
      "                Gab1 regulates invadopodia and autocrine VEGF through SHP2/ERK1/2 in hilar cholangiocarcinoma cells.\n",
      "              \n",
      "            \n",
      "https://pubmed.ncbi.nlm.nih.gov/36628230/\n",
      "\n",
      "              \n",
      "                SULT2B1-CS-DOCK2 axis regulates effector T cell exhaustion in hepatocellular carcinoma microenvironment.\n",
      "              \n",
      "            \n",
      "https://pubmed.ncbi.nlm.nih.gov/36626623/\n",
      "\n",
      "Apatinib combined with temozolomide treatment for pseudoprogression in glioblastoma: A case report.\n",
      "              \n",
      "            \n",
      "https://pubmed.ncbi.nlm.nih.gov/36626518/\n",
      "\n",
      "              \n",
      "                Using a zebrafish xenograft tumor model to compare the efficacy and safety of VEGFR-TKIs.\n",
      "              \n",
      "            \n",
      "https://pubmed.ncbi.nlm.nih.gov/36609710/\n"
     ]
    }
   ],
   "source": [
    "for item in items:\n",
    "    \n",
    "    entry = item.find('a', class_='docsum-title')\n",
    "    \n",
    "    title = entry.text\n",
    "    link = entry['href']\n",
    "    link = 'https://pubmed.ncbi.nlm.nih.gov' + link\n",
    "    \n",
    "    print(title)\n",
    "    print(link)"
   ]
  }
 ],
 "metadata": {
  "kernelspec": {
   "display_name": "Python 3 (ipykernel)",
   "language": "python",
   "name": "python3"
  },
  "language_info": {
   "codemirror_mode": {
    "name": "ipython",
    "version": 3
   },
   "file_extension": ".py",
   "mimetype": "text/x-python",
   "name": "python",
   "nbconvert_exporter": "python",
   "pygments_lexer": "ipython3",
   "version": "3.9.13"
  }
 },
 "nbformat": 4,
 "nbformat_minor": 5
}
