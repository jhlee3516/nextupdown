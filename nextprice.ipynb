{
 "cells": [
  {
   "cell_type": "markdown",
   "id": "5e8baec2",
   "metadata": {},
   "source": [
    "# NextPrice"
   ]
  },
  {
   "cell_type": "markdown",
   "id": "ee288f6d",
   "metadata": {},
   "source": [
    "## 종목코드"
   ]
  },
  {
   "cell_type": "code",
   "execution_count": 21,
   "id": "a591bab2",
   "metadata": {},
   "outputs": [
    {
     "name": "stdout",
     "output_type": "stream",
     "text": [
      "['028300']\n"
     ]
    }
   ],
   "source": [
    "import firm_code\n",
    "firm_names = ['HLB']\n",
    "firm_codes = firm_code.firm_codes(firm_names)\n",
    "firm_codes = firm_code.filtering_firm_codes(firm_codes)\n",
    "print(firm_codes)"
   ]
  },
  {
   "cell_type": "markdown",
   "id": "fe86fe0e",
   "metadata": {},
   "source": [
    "## FDR"
   ]
  },
  {
   "cell_type": "code",
   "execution_count": 22,
   "id": "d4d50dcc",
   "metadata": {},
   "outputs": [],
   "source": [
    "import FinanceDataReader as fdr"
   ]
  },
  {
   "cell_type": "code",
   "execution_count": 23,
   "id": "723740f6",
   "metadata": {},
   "outputs": [
    {
     "data": {
      "text/html": [
       "<div>\n",
       "<style scoped>\n",
       "    .dataframe tbody tr th:only-of-type {\n",
       "        vertical-align: middle;\n",
       "    }\n",
       "\n",
       "    .dataframe tbody tr th {\n",
       "        vertical-align: top;\n",
       "    }\n",
       "\n",
       "    .dataframe thead th {\n",
       "        text-align: right;\n",
       "    }\n",
       "</style>\n",
       "<table border=\"1\" class=\"dataframe\">\n",
       "  <thead>\n",
       "    <tr style=\"text-align: right;\">\n",
       "      <th></th>\n",
       "      <th>Open</th>\n",
       "      <th>High</th>\n",
       "      <th>Low</th>\n",
       "      <th>Close</th>\n",
       "      <th>Volume</th>\n",
       "      <th>Change</th>\n",
       "    </tr>\n",
       "    <tr>\n",
       "      <th>Date</th>\n",
       "      <th></th>\n",
       "      <th></th>\n",
       "      <th></th>\n",
       "      <th></th>\n",
       "      <th></th>\n",
       "      <th></th>\n",
       "    </tr>\n",
       "  </thead>\n",
       "  <tbody>\n",
       "    <tr>\n",
       "      <th>2023-01-31</th>\n",
       "      <td>30650</td>\n",
       "      <td>31100</td>\n",
       "      <td>30150</td>\n",
       "      <td>30400</td>\n",
       "      <td>520871</td>\n",
       "      <td>-0.014587</td>\n",
       "    </tr>\n",
       "    <tr>\n",
       "      <th>2023-02-01</th>\n",
       "      <td>31000</td>\n",
       "      <td>33050</td>\n",
       "      <td>30900</td>\n",
       "      <td>31800</td>\n",
       "      <td>1411118</td>\n",
       "      <td>0.046053</td>\n",
       "    </tr>\n",
       "    <tr>\n",
       "      <th>2023-02-02</th>\n",
       "      <td>32250</td>\n",
       "      <td>32550</td>\n",
       "      <td>31600</td>\n",
       "      <td>31900</td>\n",
       "      <td>367329</td>\n",
       "      <td>0.003145</td>\n",
       "    </tr>\n",
       "  </tbody>\n",
       "</table>\n",
       "</div>"
      ],
      "text/plain": [
       "             Open   High    Low  Close   Volume    Change\n",
       "Date                                                     \n",
       "2023-01-31  30650  31100  30150  30400   520871 -0.014587\n",
       "2023-02-01  31000  33050  30900  31800  1411118  0.046053\n",
       "2023-02-02  32250  32550  31600  31900   367329  0.003145"
      ]
     },
     "execution_count": 23,
     "metadata": {},
     "output_type": "execute_result"
    }
   ],
   "source": [
    "df = fdr.DataReader(symbol=firm_codes[0])\n",
    "df.tail(3)"
   ]
  },
  {
   "cell_type": "markdown",
   "id": "38cb063b",
   "metadata": {},
   "source": [
    "## Preprocessing"
   ]
  },
  {
   "cell_type": "code",
   "execution_count": 24,
   "id": "b5762a0f",
   "metadata": {},
   "outputs": [],
   "source": [
    "import nextprice_preprocessing"
   ]
  },
  {
   "cell_type": "code",
   "execution_count": 25,
   "id": "8dc13e4d",
   "metadata": {},
   "outputs": [],
   "source": [
    "df = nextprice_preprocessing.moving_average(df, change=True)\n",
    "df = nextprice_preprocessing.changing_price(df)\n",
    "df = nextprice_preprocessing.create_y_label(df)\n",
    "df = nextprice_preprocessing.slice_year(df,'2015')\n",
    "X, y = split_x_y(df)"
   ]
  },
  {
   "cell_type": "markdown",
   "id": "33d20e87",
   "metadata": {},
   "source": [
    "## Split"
   ]
  },
  {
   "cell_type": "code",
   "execution_count": 26,
   "id": "1c15940d",
   "metadata": {},
   "outputs": [],
   "source": [
    "from sklearn.model_selection import train_test_split\n",
    "X_train, X_test, y_train, y_test = train_test_split(X, y, random_state=42)"
   ]
  },
  {
   "cell_type": "markdown",
   "id": "58ce38f5",
   "metadata": {},
   "source": [
    "## Scaler"
   ]
  },
  {
   "cell_type": "code",
   "execution_count": 27,
   "id": "45081680",
   "metadata": {},
   "outputs": [],
   "source": [
    "from sklearn.preprocessing import StandardScaler\n",
    "scaler = StandardScaler()\n",
    "scaler.fit(X_train)\n",
    "X_train = scaler.transform(X_train)\n",
    "X_test = scaler.transform(X_test)"
   ]
  },
  {
   "cell_type": "markdown",
   "id": "dcd14eee",
   "metadata": {},
   "source": [
    "## PCA"
   ]
  },
  {
   "cell_type": "code",
   "execution_count": 28,
   "id": "3ef94c75",
   "metadata": {},
   "outputs": [],
   "source": [
    "from sklearn.decomposition import PCA\n",
    "pca = PCA(n_components=2)\n",
    "pca.fit(X_train)\n",
    "X_train = pca.transform(X_train)\n",
    "X_test = pca.transform(X_test)"
   ]
  },
  {
   "cell_type": "markdown",
   "id": "b102c777",
   "metadata": {},
   "source": [
    "## Model"
   ]
  },
  {
   "cell_type": "code",
   "execution_count": 29,
   "id": "90143b2d",
   "metadata": {},
   "outputs": [],
   "source": [
    "from keras.optimizers import Adagrad\n",
    "from keras.models import Sequential\n",
    "from keras.layers import Dropout\n",
    "from keras.layers import Dense"
   ]
  },
  {
   "cell_type": "code",
   "execution_count": 30,
   "id": "4d0d3273",
   "metadata": {},
   "outputs": [],
   "source": [
    "model = Sequential()\n",
    "model.add(Dense(12, input_dim=2, activation='relu'))\n",
    "model.add(Dropout(0.1))\n",
    "model.add(Dense(12, activation='relu'))\n",
    "model.add(Dropout(0.1))\n",
    "model.add(Dense(1, activation='sigmoid'))\n",
    "optimizer = Adagrad(learning_rate=0.2)"
   ]
  },
  {
   "cell_type": "code",
   "execution_count": 31,
   "id": "7767c91d",
   "metadata": {},
   "outputs": [
    {
     "name": "stdout",
     "output_type": "stream",
     "text": [
      "Model: \"sequential\"\n",
      "_________________________________________________________________\n",
      " Layer (type)                Output Shape              Param #   \n",
      "=================================================================\n",
      " dense (Dense)               (None, 12)                36        \n",
      "                                                                 \n",
      " dropout (Dropout)           (None, 12)                0         \n",
      "                                                                 \n",
      " dense_1 (Dense)             (None, 12)                156       \n",
      "                                                                 \n",
      " dropout_1 (Dropout)         (None, 12)                0         \n",
      "                                                                 \n",
      " dense_2 (Dense)             (None, 1)                 13        \n",
      "                                                                 \n",
      "=================================================================\n",
      "Total params: 205\n",
      "Trainable params: 205\n",
      "Non-trainable params: 0\n",
      "_________________________________________________________________\n"
     ]
    }
   ],
   "source": [
    "model.compile(loss='binary_crossentropy', optimizer=optimizer, metrics=['accuracy'])\n",
    "model.summary()"
   ]
  },
  {
   "cell_type": "code",
   "execution_count": 32,
   "id": "4a803cde",
   "metadata": {},
   "outputs": [
    {
     "name": "stdout",
     "output_type": "stream",
     "text": [
      "Epoch 1/40\n",
      "75/75 [==============================] - 1s 2ms/step - loss: 0.7001 - accuracy: 0.5369\n",
      "Epoch 2/40\n",
      "75/75 [==============================] - 0s 2ms/step - loss: 0.6843 - accuracy: 0.5503\n",
      "Epoch 3/40\n",
      "75/75 [==============================] - 0s 2ms/step - loss: 0.6864 - accuracy: 0.5576\n",
      "Epoch 4/40\n",
      "75/75 [==============================] - 0s 2ms/step - loss: 0.6844 - accuracy: 0.5603\n",
      "Epoch 5/40\n",
      "75/75 [==============================] - 0s 2ms/step - loss: 0.6815 - accuracy: 0.5670\n",
      "Epoch 6/40\n",
      "75/75 [==============================] - 0s 2ms/step - loss: 0.6846 - accuracy: 0.5529\n",
      "Epoch 7/40\n",
      "75/75 [==============================] - 0s 2ms/step - loss: 0.6851 - accuracy: 0.5536\n",
      "Epoch 8/40\n",
      "75/75 [==============================] - 0s 2ms/step - loss: 0.6844 - accuracy: 0.5617\n",
      "Epoch 9/40\n",
      "75/75 [==============================] - 0s 2ms/step - loss: 0.6837 - accuracy: 0.5583\n",
      "Epoch 10/40\n",
      "75/75 [==============================] - 0s 2ms/step - loss: 0.6828 - accuracy: 0.5610\n",
      "Epoch 11/40\n",
      "75/75 [==============================] - 0s 2ms/step - loss: 0.6834 - accuracy: 0.5603\n",
      "Epoch 12/40\n",
      "75/75 [==============================] - 0s 2ms/step - loss: 0.6831 - accuracy: 0.5637\n",
      "Epoch 13/40\n",
      "75/75 [==============================] - 0s 1ms/step - loss: 0.6809 - accuracy: 0.5697\n",
      "Epoch 14/40\n",
      "75/75 [==============================] - 0s 1ms/step - loss: 0.6827 - accuracy: 0.5690\n",
      "Epoch 15/40\n",
      "75/75 [==============================] - 0s 2ms/step - loss: 0.6825 - accuracy: 0.5643\n",
      "Epoch 16/40\n",
      "75/75 [==============================] - 0s 2ms/step - loss: 0.6810 - accuracy: 0.5704\n",
      "Epoch 17/40\n",
      "75/75 [==============================] - 0s 2ms/step - loss: 0.6812 - accuracy: 0.5664\n",
      "Epoch 18/40\n",
      "75/75 [==============================] - 0s 2ms/step - loss: 0.6825 - accuracy: 0.5670\n",
      "Epoch 19/40\n",
      "75/75 [==============================] - 0s 2ms/step - loss: 0.6829 - accuracy: 0.5576\n",
      "Epoch 20/40\n",
      "75/75 [==============================] - 0s 2ms/step - loss: 0.6817 - accuracy: 0.5657\n",
      "Epoch 21/40\n",
      "75/75 [==============================] - 0s 1ms/step - loss: 0.6801 - accuracy: 0.5684\n",
      "Epoch 22/40\n",
      "75/75 [==============================] - 0s 2ms/step - loss: 0.6813 - accuracy: 0.5637\n",
      "Epoch 23/40\n",
      "75/75 [==============================] - 0s 4ms/step - loss: 0.6798 - accuracy: 0.5744\n",
      "Epoch 24/40\n",
      "75/75 [==============================] - 0s 2ms/step - loss: 0.6819 - accuracy: 0.5637\n",
      "Epoch 25/40\n",
      "75/75 [==============================] - 0s 2ms/step - loss: 0.6808 - accuracy: 0.5670\n",
      "Epoch 26/40\n",
      "75/75 [==============================] - 0s 2ms/step - loss: 0.6821 - accuracy: 0.5697\n",
      "Epoch 27/40\n",
      "75/75 [==============================] - 0s 2ms/step - loss: 0.6818 - accuracy: 0.5677\n",
      "Epoch 28/40\n",
      "75/75 [==============================] - 0s 2ms/step - loss: 0.6812 - accuracy: 0.5670\n",
      "Epoch 29/40\n",
      "75/75 [==============================] - 0s 2ms/step - loss: 0.6813 - accuracy: 0.5697\n",
      "Epoch 30/40\n",
      "75/75 [==============================] - 0s 2ms/step - loss: 0.6790 - accuracy: 0.5744\n",
      "Epoch 31/40\n",
      "75/75 [==============================] - 0s 2ms/step - loss: 0.6800 - accuracy: 0.5697\n",
      "Epoch 32/40\n",
      "75/75 [==============================] - 0s 2ms/step - loss: 0.6803 - accuracy: 0.5657\n",
      "Epoch 33/40\n",
      "75/75 [==============================] - 0s 2ms/step - loss: 0.6789 - accuracy: 0.5657\n",
      "Epoch 34/40\n",
      "75/75 [==============================] - 0s 2ms/step - loss: 0.6812 - accuracy: 0.5623\n",
      "Epoch 35/40\n",
      "75/75 [==============================] - 0s 2ms/step - loss: 0.6808 - accuracy: 0.5724\n",
      "Epoch 36/40\n",
      "75/75 [==============================] - 0s 2ms/step - loss: 0.6808 - accuracy: 0.5684\n",
      "Epoch 37/40\n",
      "75/75 [==============================] - 0s 2ms/step - loss: 0.6794 - accuracy: 0.5737\n",
      "Epoch 38/40\n",
      "75/75 [==============================] - 0s 2ms/step - loss: 0.6784 - accuracy: 0.5677\n",
      "Epoch 39/40\n",
      "75/75 [==============================] - 0s 2ms/step - loss: 0.6785 - accuracy: 0.5710\n",
      "Epoch 40/40\n",
      "75/75 [==============================] - 0s 2ms/step - loss: 0.6799 - accuracy: 0.5657\n"
     ]
    },
    {
     "data": {
      "text/plain": [
       "<keras.callbacks.History at 0x25cd96d7190>"
      ]
     },
     "execution_count": 32,
     "metadata": {},
     "output_type": "execute_result"
    }
   ],
   "source": [
    "model.fit(X_train, y_train, epochs=40, batch_size=20)"
   ]
  },
  {
   "cell_type": "code",
   "execution_count": 33,
   "id": "615535c6",
   "metadata": {},
   "outputs": [
    {
     "name": "stdout",
     "output_type": "stream",
     "text": [
      "16/16 [==============================] - 0s 2ms/step - loss: 0.6950 - accuracy: 0.5301\n",
      "0.5301204919815063\n"
     ]
    }
   ],
   "source": [
    "_, accuracy = model.evaluate(X_test, y_test)\n",
    "print(accuracy)"
   ]
  },
  {
   "cell_type": "code",
   "execution_count": 34,
   "id": "3a3f409e",
   "metadata": {},
   "outputs": [
    {
     "name": "stdout",
     "output_type": "stream",
     "text": [
      "16/16 [==============================] - 0s 1ms/step\n"
     ]
    }
   ],
   "source": [
    "y_pred = model.predict(X_test)"
   ]
  },
  {
   "cell_type": "code",
   "execution_count": 35,
   "id": "52282296",
   "metadata": {},
   "outputs": [],
   "source": [
    "from sklearn import metrics\n",
    "import numpy as np"
   ]
  },
  {
   "cell_type": "code",
   "execution_count": 36,
   "id": "b41652bf",
   "metadata": {},
   "outputs": [
    {
     "data": {
      "text/plain": [
       "array([[218,  34],\n",
       "       [200,  46]], dtype=int64)"
      ]
     },
     "execution_count": 36,
     "metadata": {},
     "output_type": "execute_result"
    }
   ],
   "source": [
    "confusion_matrix = metrics.confusion_matrix(y_test, np.rint(y_pred))\n",
    "confusion_matrix"
   ]
  },
  {
   "cell_type": "markdown",
   "id": "8bce881f",
   "metadata": {},
   "source": [
    "## Save"
   ]
  },
  {
   "cell_type": "code",
   "execution_count": 37,
   "id": "68679c14",
   "metadata": {},
   "outputs": [
    {
     "data": {
      "text/plain": [
       "['./database/nextprice_scaler.pkl']"
      ]
     },
     "execution_count": 37,
     "metadata": {},
     "output_type": "execute_result"
    }
   ],
   "source": [
    "import joblib\n",
    "joblib.dump(scaler, './database/nextprice_scaler.pkl')"
   ]
  },
  {
   "cell_type": "code",
   "execution_count": 38,
   "id": "adf08d46",
   "metadata": {},
   "outputs": [],
   "source": [
    "import pickle\n",
    "pickle.dump(pca, open('./database/nextprice_pca.pkl','wb'))"
   ]
  },
  {
   "cell_type": "code",
   "execution_count": 39,
   "id": "aad26fb0",
   "metadata": {},
   "outputs": [
    {
     "name": "stdout",
     "output_type": "stream",
     "text": [
      "INFO:tensorflow:Assets written to: ./database/nextprice_model\\assets\n"
     ]
    }
   ],
   "source": [
    "from tensorflow import keras\n",
    "model.save('./database/nextprice_model')"
   ]
  },
  {
   "cell_type": "markdown",
   "id": "9aac6f27",
   "metadata": {},
   "source": [
    "## Load"
   ]
  },
  {
   "cell_type": "code",
   "execution_count": 40,
   "id": "4b2fc342",
   "metadata": {},
   "outputs": [],
   "source": [
    "import joblib\n",
    "scaler = joblib.load('./database/nextprice_scaler.pkl')"
   ]
  },
  {
   "cell_type": "code",
   "execution_count": 41,
   "id": "fa9ec0b6",
   "metadata": {},
   "outputs": [],
   "source": [
    "import pickle\n",
    "pca = pickle.load(open('./database/nextprice_pca.pkl','rb'))"
   ]
  },
  {
   "cell_type": "code",
   "execution_count": 42,
   "id": "db793950",
   "metadata": {},
   "outputs": [],
   "source": [
    "from tensorflow import keras\n",
    "model = keras.models.load_model('./database/nextprice_model')"
   ]
  },
  {
   "cell_type": "markdown",
   "id": "0edc6612",
   "metadata": {},
   "source": [
    "## Prediction"
   ]
  },
  {
   "cell_type": "code",
   "execution_count": 44,
   "id": "cfbab58a",
   "metadata": {},
   "outputs": [
    {
     "name": "stdout",
     "output_type": "stream",
     "text": [
      "028300\n"
     ]
    }
   ],
   "source": [
    "print(firm_codes[0])"
   ]
  },
  {
   "cell_type": "code",
   "execution_count": 45,
   "id": "ada04630",
   "metadata": {},
   "outputs": [
    {
     "data": {
      "text/html": [
       "<div>\n",
       "<style scoped>\n",
       "    .dataframe tbody tr th:only-of-type {\n",
       "        vertical-align: middle;\n",
       "    }\n",
       "\n",
       "    .dataframe tbody tr th {\n",
       "        vertical-align: top;\n",
       "    }\n",
       "\n",
       "    .dataframe thead th {\n",
       "        text-align: right;\n",
       "    }\n",
       "</style>\n",
       "<table border=\"1\" class=\"dataframe\">\n",
       "  <thead>\n",
       "    <tr style=\"text-align: right;\">\n",
       "      <th></th>\n",
       "      <th>MA5</th>\n",
       "      <th>MA20</th>\n",
       "      <th>MA60</th>\n",
       "      <th>MA120</th>\n",
       "      <th>Volume</th>\n",
       "      <th>Change</th>\n",
       "      <th>Open</th>\n",
       "      <th>High</th>\n",
       "      <th>Low</th>\n",
       "    </tr>\n",
       "    <tr>\n",
       "      <th>Date</th>\n",
       "      <th></th>\n",
       "      <th></th>\n",
       "      <th></th>\n",
       "      <th></th>\n",
       "      <th></th>\n",
       "      <th></th>\n",
       "      <th></th>\n",
       "      <th></th>\n",
       "      <th></th>\n",
       "    </tr>\n",
       "  </thead>\n",
       "  <tbody>\n",
       "    <tr>\n",
       "      <th>2023-02-02</th>\n",
       "      <td>0.017925</td>\n",
       "      <td>0.025314</td>\n",
       "      <td>-0.001206</td>\n",
       "      <td>-0.14274</td>\n",
       "      <td>368551</td>\n",
       "      <td>0.0</td>\n",
       "      <td>0.014151</td>\n",
       "      <td>0.023585</td>\n",
       "      <td>-0.006289</td>\n",
       "    </tr>\n",
       "  </tbody>\n",
       "</table>\n",
       "</div>"
      ],
      "text/plain": [
       "                 MA5      MA20      MA60    MA120  Volume  Change      Open  \\\n",
       "Date                                                                          \n",
       "2023-02-02  0.017925  0.025314 -0.001206 -0.14274  368551     0.0  0.014151   \n",
       "\n",
       "                High       Low  \n",
       "Date                            \n",
       "2023-02-02  0.023585 -0.006289  "
      ]
     },
     "execution_count": 45,
     "metadata": {},
     "output_type": "execute_result"
    }
   ],
   "source": [
    "df = fdr.DataReader(symbol=firm_codes[0])\n",
    "df = nextprice_preprocessing.moving_average(df, change=True)\n",
    "df = nextprice_preprocessing.changing_price(df)\n",
    "df = df[['MA5', 'MA20', 'MA60', 'MA120', 'Volume', 'Change', 'Open', 'High', 'Low']]\n",
    "df = df[-1:]\n",
    "df"
   ]
  },
  {
   "cell_type": "code",
   "execution_count": 46,
   "id": "19082dc1",
   "metadata": {},
   "outputs": [],
   "source": [
    "df = scaler.transform(df)\n",
    "df = pca.transform(df)"
   ]
  },
  {
   "cell_type": "code",
   "execution_count": 47,
   "id": "1f351003",
   "metadata": {},
   "outputs": [
    {
     "name": "stdout",
     "output_type": "stream",
     "text": [
      "1/1 [==============================] - 0s 73ms/step\n",
      "[[0.40957013]]\n"
     ]
    }
   ],
   "source": [
    "prediction = model.predict(df)\n",
    "print(prediction)"
   ]
  },
  {
   "cell_type": "markdown",
   "id": "397ce08e",
   "metadata": {},
   "source": [
    "## 최종코드"
   ]
  },
  {
   "cell_type": "code",
   "execution_count": null,
   "id": "905615c2",
   "metadata": {},
   "outputs": [],
   "source": []
  },
  {
   "cell_type": "code",
   "execution_count": null,
   "id": "6fdf3cfd",
   "metadata": {},
   "outputs": [],
   "source": []
  },
  {
   "cell_type": "code",
   "execution_count": null,
   "id": "41d5fa47",
   "metadata": {},
   "outputs": [],
   "source": []
  },
  {
   "cell_type": "code",
   "execution_count": null,
   "id": "8c58dceb",
   "metadata": {},
   "outputs": [],
   "source": []
  }
 ],
 "metadata": {
  "kernelspec": {
   "display_name": "Python 3 (ipykernel)",
   "language": "python",
   "name": "python3"
  },
  "language_info": {
   "codemirror_mode": {
    "name": "ipython",
    "version": 3
   },
   "file_extension": ".py",
   "mimetype": "text/x-python",
   "name": "python",
   "nbconvert_exporter": "python",
   "pygments_lexer": "ipython3",
   "version": "3.9.13"
  }
 },
 "nbformat": 4,
 "nbformat_minor": 5
}
