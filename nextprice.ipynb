{
 "cells": [
  {
   "cell_type": "markdown",
   "id": "5e8baec2",
   "metadata": {},
   "source": [
    "# NextPrice"
   ]
  },
  {
   "cell_type": "markdown",
   "id": "ee288f6d",
   "metadata": {},
   "source": [
    "## 종목코드"
   ]
  },
  {
   "cell_type": "code",
   "execution_count": 1,
   "id": "df679e96",
   "metadata": {},
   "outputs": [],
   "source": [
    "import pandas as pd"
   ]
  },
  {
   "cell_type": "code",
   "execution_count": 2,
   "id": "609b73cf",
   "metadata": {},
   "outputs": [],
   "source": [
    "df = pd.read_csv('./database/stock_code.csv', dtype={'종목코드':str})"
   ]
  },
  {
   "cell_type": "code",
   "execution_count": 3,
   "id": "53bf5c80",
   "metadata": {},
   "outputs": [
    {
     "data": {
      "text/html": [
       "<div>\n",
       "<style scoped>\n",
       "    .dataframe tbody tr th:only-of-type {\n",
       "        vertical-align: middle;\n",
       "    }\n",
       "\n",
       "    .dataframe tbody tr th {\n",
       "        vertical-align: top;\n",
       "    }\n",
       "\n",
       "    .dataframe thead th {\n",
       "        text-align: right;\n",
       "    }\n",
       "</style>\n",
       "<table border=\"1\" class=\"dataframe\">\n",
       "  <thead>\n",
       "    <tr style=\"text-align: right;\">\n",
       "      <th></th>\n",
       "      <th>회사명</th>\n",
       "      <th>종목코드</th>\n",
       "      <th>업종</th>\n",
       "      <th>주요제품</th>\n",
       "      <th>상장일</th>\n",
       "      <th>결산월</th>\n",
       "      <th>대표자명</th>\n",
       "      <th>홈페이지</th>\n",
       "      <th>지역</th>\n",
       "    </tr>\n",
       "  </thead>\n",
       "  <tbody>\n",
       "    <tr>\n",
       "      <th>0</th>\n",
       "      <td>DL</td>\n",
       "      <td>000210</td>\n",
       "      <td>기타 금융업</td>\n",
       "      <td>지주회사</td>\n",
       "      <td>1976-02-02</td>\n",
       "      <td>12월</td>\n",
       "      <td>전병욱</td>\n",
       "      <td>http://www.dlholdings.co.kr</td>\n",
       "      <td>서울특별시</td>\n",
       "    </tr>\n",
       "  </tbody>\n",
       "</table>\n",
       "</div>"
      ],
      "text/plain": [
       "  회사명    종목코드      업종  주요제품         상장일  결산월 대표자명  \\\n",
       "0  DL  000210  기타 금융업  지주회사  1976-02-02  12월  전병욱   \n",
       "\n",
       "                          홈페이지     지역  \n",
       "0  http://www.dlholdings.co.kr  서울특별시  "
      ]
     },
     "execution_count": 3,
     "metadata": {},
     "output_type": "execute_result"
    }
   ],
   "source": [
    "df.head(1)"
   ]
  },
  {
   "cell_type": "code",
   "execution_count": 4,
   "id": "4f47d593",
   "metadata": {},
   "outputs": [],
   "source": [
    "firm_name = 'HLB'"
   ]
  },
  {
   "cell_type": "code",
   "execution_count": 5,
   "id": "8c5ce592",
   "metadata": {},
   "outputs": [],
   "source": [
    "firm_code = df[df['회사명'] == firm_name]['종목코드'].to_string(index=False)"
   ]
  },
  {
   "cell_type": "code",
   "execution_count": 6,
   "id": "95f67538",
   "metadata": {},
   "outputs": [
    {
     "name": "stdout",
     "output_type": "stream",
     "text": [
      "028300\n"
     ]
    }
   ],
   "source": [
    "print(firm_code)"
   ]
  },
  {
   "cell_type": "code",
   "execution_count": 7,
   "id": "d4d50dcc",
   "metadata": {},
   "outputs": [],
   "source": [
    "import FinanceDataReader as fdr"
   ]
  },
  {
   "cell_type": "code",
   "execution_count": 8,
   "id": "723740f6",
   "metadata": {},
   "outputs": [
    {
     "data": {
      "text/html": [
       "<div>\n",
       "<style scoped>\n",
       "    .dataframe tbody tr th:only-of-type {\n",
       "        vertical-align: middle;\n",
       "    }\n",
       "\n",
       "    .dataframe tbody tr th {\n",
       "        vertical-align: top;\n",
       "    }\n",
       "\n",
       "    .dataframe thead th {\n",
       "        text-align: right;\n",
       "    }\n",
       "</style>\n",
       "<table border=\"1\" class=\"dataframe\">\n",
       "  <thead>\n",
       "    <tr style=\"text-align: right;\">\n",
       "      <th></th>\n",
       "      <th>Open</th>\n",
       "      <th>High</th>\n",
       "      <th>Low</th>\n",
       "      <th>Close</th>\n",
       "      <th>Volume</th>\n",
       "      <th>Change</th>\n",
       "    </tr>\n",
       "    <tr>\n",
       "      <th>Date</th>\n",
       "      <th></th>\n",
       "      <th></th>\n",
       "      <th></th>\n",
       "      <th></th>\n",
       "      <th></th>\n",
       "      <th></th>\n",
       "    </tr>\n",
       "  </thead>\n",
       "  <tbody>\n",
       "    <tr>\n",
       "      <th>2023-01-18</th>\n",
       "      <td>31350</td>\n",
       "      <td>31450</td>\n",
       "      <td>30700</td>\n",
       "      <td>30750</td>\n",
       "      <td>336558</td>\n",
       "      <td>-0.019139</td>\n",
       "    </tr>\n",
       "    <tr>\n",
       "      <th>2023-01-19</th>\n",
       "      <td>30600</td>\n",
       "      <td>31500</td>\n",
       "      <td>30200</td>\n",
       "      <td>31200</td>\n",
       "      <td>326462</td>\n",
       "      <td>0.014634</td>\n",
       "    </tr>\n",
       "    <tr>\n",
       "      <th>2023-01-20</th>\n",
       "      <td>31000</td>\n",
       "      <td>31400</td>\n",
       "      <td>30900</td>\n",
       "      <td>31050</td>\n",
       "      <td>205834</td>\n",
       "      <td>-0.004808</td>\n",
       "    </tr>\n",
       "  </tbody>\n",
       "</table>\n",
       "</div>"
      ],
      "text/plain": [
       "             Open   High    Low  Close  Volume    Change\n",
       "Date                                                    \n",
       "2023-01-18  31350  31450  30700  30750  336558 -0.019139\n",
       "2023-01-19  30600  31500  30200  31200  326462  0.014634\n",
       "2023-01-20  31000  31400  30900  31050  205834 -0.004808"
      ]
     },
     "execution_count": 8,
     "metadata": {},
     "output_type": "execute_result"
    }
   ],
   "source": [
    "df = fdr.DataReader(symbol=firm_code)\n",
    "df.tail(3)"
   ]
  },
  {
   "cell_type": "code",
   "execution_count": 9,
   "id": "19b27650",
   "metadata": {},
   "outputs": [],
   "source": [
    "def moving_average(\n",
    "    df,\n",
    "    windows = [5,20,60,120],\n",
    "    change=False\n",
    "):\n",
    "    \"\"\"\n",
    "    \n",
    "    This is a moving average of price.\n",
    "    \n",
    "    Args:\n",
    "      windows: list. \n",
    "      change: float. True tries changing the MA of price. (Close - MA) / Close.\n",
    "      \n",
    "    \"\"\"\n",
    "    \n",
    "    for window in windows:\n",
    "        MA = 'MA' + str(window)\n",
    "        df[MA] = df['Close'].rolling(window=window, min_periods=1).mean()\n",
    "        if change:\n",
    "            df[MA] = (df['Close'] - df[MA]) / df['Close']\n",
    "        else:\n",
    "            pass\n",
    "        \n",
    "    return df"
   ]
  },
  {
   "cell_type": "code",
   "execution_count": 10,
   "id": "900e20ec",
   "metadata": {},
   "outputs": [
    {
     "data": {
      "text/html": [
       "<div>\n",
       "<style scoped>\n",
       "    .dataframe tbody tr th:only-of-type {\n",
       "        vertical-align: middle;\n",
       "    }\n",
       "\n",
       "    .dataframe tbody tr th {\n",
       "        vertical-align: top;\n",
       "    }\n",
       "\n",
       "    .dataframe thead th {\n",
       "        text-align: right;\n",
       "    }\n",
       "</style>\n",
       "<table border=\"1\" class=\"dataframe\">\n",
       "  <thead>\n",
       "    <tr style=\"text-align: right;\">\n",
       "      <th></th>\n",
       "      <th>Open</th>\n",
       "      <th>High</th>\n",
       "      <th>Low</th>\n",
       "      <th>Close</th>\n",
       "      <th>Volume</th>\n",
       "      <th>Change</th>\n",
       "      <th>MA5</th>\n",
       "      <th>MA20</th>\n",
       "      <th>MA60</th>\n",
       "      <th>MA120</th>\n",
       "    </tr>\n",
       "    <tr>\n",
       "      <th>Date</th>\n",
       "      <th></th>\n",
       "      <th></th>\n",
       "      <th></th>\n",
       "      <th></th>\n",
       "      <th></th>\n",
       "      <th></th>\n",
       "      <th></th>\n",
       "      <th></th>\n",
       "      <th></th>\n",
       "      <th></th>\n",
       "    </tr>\n",
       "  </thead>\n",
       "  <tbody>\n",
       "    <tr>\n",
       "      <th>2023-01-18</th>\n",
       "      <td>31350</td>\n",
       "      <td>31450</td>\n",
       "      <td>30700</td>\n",
       "      <td>30750</td>\n",
       "      <td>336558</td>\n",
       "      <td>-0.019139</td>\n",
       "      <td>-0.026667</td>\n",
       "      <td>0.019954</td>\n",
       "      <td>-0.064953</td>\n",
       "      <td>-0.205934</td>\n",
       "    </tr>\n",
       "    <tr>\n",
       "      <th>2023-01-19</th>\n",
       "      <td>30600</td>\n",
       "      <td>31500</td>\n",
       "      <td>30200</td>\n",
       "      <td>31200</td>\n",
       "      <td>326462</td>\n",
       "      <td>0.014634</td>\n",
       "      <td>-0.008654</td>\n",
       "      <td>0.031721</td>\n",
       "      <td>-0.046228</td>\n",
       "      <td>-0.186588</td>\n",
       "    </tr>\n",
       "    <tr>\n",
       "      <th>2023-01-20</th>\n",
       "      <td>31000</td>\n",
       "      <td>31400</td>\n",
       "      <td>30900</td>\n",
       "      <td>31050</td>\n",
       "      <td>205834</td>\n",
       "      <td>-0.004808</td>\n",
       "      <td>-0.007729</td>\n",
       "      <td>0.026915</td>\n",
       "      <td>-0.047330</td>\n",
       "      <td>-0.190394</td>\n",
       "    </tr>\n",
       "  </tbody>\n",
       "</table>\n",
       "</div>"
      ],
      "text/plain": [
       "             Open   High    Low  Close  Volume    Change       MA5      MA20  \\\n",
       "Date                                                                           \n",
       "2023-01-18  31350  31450  30700  30750  336558 -0.019139 -0.026667  0.019954   \n",
       "2023-01-19  30600  31500  30200  31200  326462  0.014634 -0.008654  0.031721   \n",
       "2023-01-20  31000  31400  30900  31050  205834 -0.004808 -0.007729  0.026915   \n",
       "\n",
       "                MA60     MA120  \n",
       "Date                            \n",
       "2023-01-18 -0.064953 -0.205934  \n",
       "2023-01-19 -0.046228 -0.186588  \n",
       "2023-01-20 -0.047330 -0.190394  "
      ]
     },
     "execution_count": 10,
     "metadata": {},
     "output_type": "execute_result"
    }
   ],
   "source": [
    "df = moving_average(df, change=True)\n",
    "df.tail(3)"
   ]
  },
  {
   "cell_type": "code",
   "execution_count": 11,
   "id": "4ffdc092",
   "metadata": {},
   "outputs": [],
   "source": [
    "def changing_price(\n",
    "    df\n",
    "):\n",
    "    \"\"\"\n",
    "    \n",
    "    (Open - Close) / Close\n",
    "    (High - Close) / Close\n",
    "    (Low - Close) / Close\n",
    "    \n",
    "    (Volume - Volume) / Volume\n",
    "    \n",
    "    \"\"\"\n",
    "    \n",
    "    df['Open'] = (df['Open'] - df['Close']) / df['Close']\n",
    "    df['High'] = (df['High'] - df['Close']) / df['Close']\n",
    "    df['Low'] = (df['Low'] - df['Close']) / df['Close']\n",
    "\n",
    "    return df"
   ]
  },
  {
   "cell_type": "code",
   "execution_count": 12,
   "id": "4c493bfd",
   "metadata": {},
   "outputs": [
    {
     "data": {
      "text/html": [
       "<div>\n",
       "<style scoped>\n",
       "    .dataframe tbody tr th:only-of-type {\n",
       "        vertical-align: middle;\n",
       "    }\n",
       "\n",
       "    .dataframe tbody tr th {\n",
       "        vertical-align: top;\n",
       "    }\n",
       "\n",
       "    .dataframe thead th {\n",
       "        text-align: right;\n",
       "    }\n",
       "</style>\n",
       "<table border=\"1\" class=\"dataframe\">\n",
       "  <thead>\n",
       "    <tr style=\"text-align: right;\">\n",
       "      <th></th>\n",
       "      <th>Open</th>\n",
       "      <th>High</th>\n",
       "      <th>Low</th>\n",
       "      <th>Close</th>\n",
       "      <th>Volume</th>\n",
       "      <th>Change</th>\n",
       "      <th>MA5</th>\n",
       "      <th>MA20</th>\n",
       "      <th>MA60</th>\n",
       "      <th>MA120</th>\n",
       "    </tr>\n",
       "    <tr>\n",
       "      <th>Date</th>\n",
       "      <th></th>\n",
       "      <th></th>\n",
       "      <th></th>\n",
       "      <th></th>\n",
       "      <th></th>\n",
       "      <th></th>\n",
       "      <th></th>\n",
       "      <th></th>\n",
       "      <th></th>\n",
       "      <th></th>\n",
       "    </tr>\n",
       "  </thead>\n",
       "  <tbody>\n",
       "    <tr>\n",
       "      <th>2023-01-18</th>\n",
       "      <td>0.019512</td>\n",
       "      <td>0.022764</td>\n",
       "      <td>-0.001626</td>\n",
       "      <td>30750</td>\n",
       "      <td>336558</td>\n",
       "      <td>-0.019139</td>\n",
       "      <td>-0.026667</td>\n",
       "      <td>0.019954</td>\n",
       "      <td>-0.064953</td>\n",
       "      <td>-0.205934</td>\n",
       "    </tr>\n",
       "    <tr>\n",
       "      <th>2023-01-19</th>\n",
       "      <td>-0.019231</td>\n",
       "      <td>0.009615</td>\n",
       "      <td>-0.032051</td>\n",
       "      <td>31200</td>\n",
       "      <td>326462</td>\n",
       "      <td>0.014634</td>\n",
       "      <td>-0.008654</td>\n",
       "      <td>0.031721</td>\n",
       "      <td>-0.046228</td>\n",
       "      <td>-0.186588</td>\n",
       "    </tr>\n",
       "    <tr>\n",
       "      <th>2023-01-20</th>\n",
       "      <td>-0.001610</td>\n",
       "      <td>0.011272</td>\n",
       "      <td>-0.004831</td>\n",
       "      <td>31050</td>\n",
       "      <td>205834</td>\n",
       "      <td>-0.004808</td>\n",
       "      <td>-0.007729</td>\n",
       "      <td>0.026915</td>\n",
       "      <td>-0.047330</td>\n",
       "      <td>-0.190394</td>\n",
       "    </tr>\n",
       "  </tbody>\n",
       "</table>\n",
       "</div>"
      ],
      "text/plain": [
       "                Open      High       Low  Close  Volume    Change       MA5  \\\n",
       "Date                                                                          \n",
       "2023-01-18  0.019512  0.022764 -0.001626  30750  336558 -0.019139 -0.026667   \n",
       "2023-01-19 -0.019231  0.009615 -0.032051  31200  326462  0.014634 -0.008654   \n",
       "2023-01-20 -0.001610  0.011272 -0.004831  31050  205834 -0.004808 -0.007729   \n",
       "\n",
       "                MA20      MA60     MA120  \n",
       "Date                                      \n",
       "2023-01-18  0.019954 -0.064953 -0.205934  \n",
       "2023-01-19  0.031721 -0.046228 -0.186588  \n",
       "2023-01-20  0.026915 -0.047330 -0.190394  "
      ]
     },
     "execution_count": 12,
     "metadata": {},
     "output_type": "execute_result"
    }
   ],
   "source": [
    "df = changing_price(df)\n",
    "df.tail(3)"
   ]
  },
  {
   "cell_type": "code",
   "execution_count": 13,
   "id": "06a0196a",
   "metadata": {},
   "outputs": [],
   "source": [
    "def y_label(df):\n",
    "    \n",
    "    \"\"\"\n",
    "    \n",
    "    y = 1 or 0\n",
    "    \n",
    "    \"\"\"\n",
    "    \n",
    "    df['y'] = df['Change'] > 0\n",
    "    df['y'] = df['y'].astype(int) \n",
    "    \n",
    "    return df"
   ]
  },
  {
   "cell_type": "code",
   "execution_count": 14,
   "id": "f70041fa",
   "metadata": {},
   "outputs": [
    {
     "data": {
      "text/html": [
       "<div>\n",
       "<style scoped>\n",
       "    .dataframe tbody tr th:only-of-type {\n",
       "        vertical-align: middle;\n",
       "    }\n",
       "\n",
       "    .dataframe tbody tr th {\n",
       "        vertical-align: top;\n",
       "    }\n",
       "\n",
       "    .dataframe thead th {\n",
       "        text-align: right;\n",
       "    }\n",
       "</style>\n",
       "<table border=\"1\" class=\"dataframe\">\n",
       "  <thead>\n",
       "    <tr style=\"text-align: right;\">\n",
       "      <th></th>\n",
       "      <th>Open</th>\n",
       "      <th>High</th>\n",
       "      <th>Low</th>\n",
       "      <th>Close</th>\n",
       "      <th>Volume</th>\n",
       "      <th>Change</th>\n",
       "      <th>MA5</th>\n",
       "      <th>MA20</th>\n",
       "      <th>MA60</th>\n",
       "      <th>MA120</th>\n",
       "      <th>y</th>\n",
       "    </tr>\n",
       "    <tr>\n",
       "      <th>Date</th>\n",
       "      <th></th>\n",
       "      <th></th>\n",
       "      <th></th>\n",
       "      <th></th>\n",
       "      <th></th>\n",
       "      <th></th>\n",
       "      <th></th>\n",
       "      <th></th>\n",
       "      <th></th>\n",
       "      <th></th>\n",
       "      <th></th>\n",
       "    </tr>\n",
       "  </thead>\n",
       "  <tbody>\n",
       "    <tr>\n",
       "      <th>2023-01-18</th>\n",
       "      <td>0.019512</td>\n",
       "      <td>0.022764</td>\n",
       "      <td>-0.001626</td>\n",
       "      <td>30750</td>\n",
       "      <td>336558</td>\n",
       "      <td>-0.019139</td>\n",
       "      <td>-0.026667</td>\n",
       "      <td>0.019954</td>\n",
       "      <td>-0.064953</td>\n",
       "      <td>-0.205934</td>\n",
       "      <td>0</td>\n",
       "    </tr>\n",
       "    <tr>\n",
       "      <th>2023-01-19</th>\n",
       "      <td>-0.019231</td>\n",
       "      <td>0.009615</td>\n",
       "      <td>-0.032051</td>\n",
       "      <td>31200</td>\n",
       "      <td>326462</td>\n",
       "      <td>0.014634</td>\n",
       "      <td>-0.008654</td>\n",
       "      <td>0.031721</td>\n",
       "      <td>-0.046228</td>\n",
       "      <td>-0.186588</td>\n",
       "      <td>1</td>\n",
       "    </tr>\n",
       "    <tr>\n",
       "      <th>2023-01-20</th>\n",
       "      <td>-0.001610</td>\n",
       "      <td>0.011272</td>\n",
       "      <td>-0.004831</td>\n",
       "      <td>31050</td>\n",
       "      <td>205834</td>\n",
       "      <td>-0.004808</td>\n",
       "      <td>-0.007729</td>\n",
       "      <td>0.026915</td>\n",
       "      <td>-0.047330</td>\n",
       "      <td>-0.190394</td>\n",
       "      <td>0</td>\n",
       "    </tr>\n",
       "  </tbody>\n",
       "</table>\n",
       "</div>"
      ],
      "text/plain": [
       "                Open      High       Low  Close  Volume    Change       MA5  \\\n",
       "Date                                                                          \n",
       "2023-01-18  0.019512  0.022764 -0.001626  30750  336558 -0.019139 -0.026667   \n",
       "2023-01-19 -0.019231  0.009615 -0.032051  31200  326462  0.014634 -0.008654   \n",
       "2023-01-20 -0.001610  0.011272 -0.004831  31050  205834 -0.004808 -0.007729   \n",
       "\n",
       "                MA20      MA60     MA120  y  \n",
       "Date                                         \n",
       "2023-01-18  0.019954 -0.064953 -0.205934  0  \n",
       "2023-01-19  0.031721 -0.046228 -0.186588  1  \n",
       "2023-01-20  0.026915 -0.047330 -0.190394  0  "
      ]
     },
     "execution_count": 14,
     "metadata": {},
     "output_type": "execute_result"
    }
   ],
   "source": [
    "df = y_label(df)\n",
    "df.tail(3)"
   ]
  },
  {
   "cell_type": "code",
   "execution_count": 15,
   "id": "c78563d0",
   "metadata": {},
   "outputs": [],
   "source": [
    "def slice_year(df,year):\n",
    "    \n",
    "    \"\"\"\n",
    "    \n",
    "    after year\n",
    "    \n",
    "    \"\"\"\n",
    "    \n",
    "    year = str(year)\n",
    "    \n",
    "    df = df[year:]\n",
    "    \n",
    "    return df"
   ]
  },
  {
   "cell_type": "code",
   "execution_count": 16,
   "id": "994463fe",
   "metadata": {},
   "outputs": [
    {
     "data": {
      "text/html": [
       "<div>\n",
       "<style scoped>\n",
       "    .dataframe tbody tr th:only-of-type {\n",
       "        vertical-align: middle;\n",
       "    }\n",
       "\n",
       "    .dataframe tbody tr th {\n",
       "        vertical-align: top;\n",
       "    }\n",
       "\n",
       "    .dataframe thead th {\n",
       "        text-align: right;\n",
       "    }\n",
       "</style>\n",
       "<table border=\"1\" class=\"dataframe\">\n",
       "  <thead>\n",
       "    <tr style=\"text-align: right;\">\n",
       "      <th></th>\n",
       "      <th>Open</th>\n",
       "      <th>High</th>\n",
       "      <th>Low</th>\n",
       "      <th>Close</th>\n",
       "      <th>Volume</th>\n",
       "      <th>Change</th>\n",
       "      <th>MA5</th>\n",
       "      <th>MA20</th>\n",
       "      <th>MA60</th>\n",
       "      <th>MA120</th>\n",
       "      <th>y</th>\n",
       "    </tr>\n",
       "    <tr>\n",
       "      <th>Date</th>\n",
       "      <th></th>\n",
       "      <th></th>\n",
       "      <th></th>\n",
       "      <th></th>\n",
       "      <th></th>\n",
       "      <th></th>\n",
       "      <th></th>\n",
       "      <th></th>\n",
       "      <th></th>\n",
       "      <th></th>\n",
       "      <th></th>\n",
       "    </tr>\n",
       "  </thead>\n",
       "  <tbody>\n",
       "    <tr>\n",
       "      <th>2023-01-16</th>\n",
       "      <td>0.003115</td>\n",
       "      <td>0.007788</td>\n",
       "      <td>-0.014019</td>\n",
       "      <td>32100</td>\n",
       "      <td>330219</td>\n",
       "      <td>0.004695</td>\n",
       "      <td>0.016199</td>\n",
       "      <td>0.063439</td>\n",
       "      <td>-0.027088</td>\n",
       "      <td>-0.158859</td>\n",
       "      <td>1</td>\n",
       "    </tr>\n",
       "    <tr>\n",
       "      <th>2023-01-17</th>\n",
       "      <td>0.025518</td>\n",
       "      <td>0.036683</td>\n",
       "      <td>-0.007974</td>\n",
       "      <td>31350</td>\n",
       "      <td>466629</td>\n",
       "      <td>-0.023364</td>\n",
       "      <td>-0.011164</td>\n",
       "      <td>0.039738</td>\n",
       "      <td>-0.048339</td>\n",
       "      <td>-0.184804</td>\n",
       "      <td>0</td>\n",
       "    </tr>\n",
       "    <tr>\n",
       "      <th>2023-01-18</th>\n",
       "      <td>0.019512</td>\n",
       "      <td>0.022764</td>\n",
       "      <td>-0.001626</td>\n",
       "      <td>30750</td>\n",
       "      <td>336558</td>\n",
       "      <td>-0.019139</td>\n",
       "      <td>-0.026667</td>\n",
       "      <td>0.019954</td>\n",
       "      <td>-0.064953</td>\n",
       "      <td>-0.205934</td>\n",
       "      <td>0</td>\n",
       "    </tr>\n",
       "    <tr>\n",
       "      <th>2023-01-19</th>\n",
       "      <td>-0.019231</td>\n",
       "      <td>0.009615</td>\n",
       "      <td>-0.032051</td>\n",
       "      <td>31200</td>\n",
       "      <td>326462</td>\n",
       "      <td>0.014634</td>\n",
       "      <td>-0.008654</td>\n",
       "      <td>0.031721</td>\n",
       "      <td>-0.046228</td>\n",
       "      <td>-0.186588</td>\n",
       "      <td>1</td>\n",
       "    </tr>\n",
       "    <tr>\n",
       "      <th>2023-01-20</th>\n",
       "      <td>-0.001610</td>\n",
       "      <td>0.011272</td>\n",
       "      <td>-0.004831</td>\n",
       "      <td>31050</td>\n",
       "      <td>205834</td>\n",
       "      <td>-0.004808</td>\n",
       "      <td>-0.007729</td>\n",
       "      <td>0.026915</td>\n",
       "      <td>-0.047330</td>\n",
       "      <td>-0.190394</td>\n",
       "      <td>0</td>\n",
       "    </tr>\n",
       "  </tbody>\n",
       "</table>\n",
       "</div>"
      ],
      "text/plain": [
       "                Open      High       Low  Close  Volume    Change       MA5  \\\n",
       "Date                                                                          \n",
       "2023-01-16  0.003115  0.007788 -0.014019  32100  330219  0.004695  0.016199   \n",
       "2023-01-17  0.025518  0.036683 -0.007974  31350  466629 -0.023364 -0.011164   \n",
       "2023-01-18  0.019512  0.022764 -0.001626  30750  336558 -0.019139 -0.026667   \n",
       "2023-01-19 -0.019231  0.009615 -0.032051  31200  326462  0.014634 -0.008654   \n",
       "2023-01-20 -0.001610  0.011272 -0.004831  31050  205834 -0.004808 -0.007729   \n",
       "\n",
       "                MA20      MA60     MA120  y  \n",
       "Date                                         \n",
       "2023-01-16  0.063439 -0.027088 -0.158859  1  \n",
       "2023-01-17  0.039738 -0.048339 -0.184804  0  \n",
       "2023-01-18  0.019954 -0.064953 -0.205934  0  \n",
       "2023-01-19  0.031721 -0.046228 -0.186588  1  \n",
       "2023-01-20  0.026915 -0.047330 -0.190394  0  "
      ]
     },
     "execution_count": 16,
     "metadata": {},
     "output_type": "execute_result"
    }
   ],
   "source": [
    "df = slice_year(df,'2015')\n",
    "df.tail()"
   ]
  },
  {
   "cell_type": "code",
   "execution_count": 17,
   "id": "518ce1c2",
   "metadata": {},
   "outputs": [],
   "source": [
    "def split_x_y(df):\n",
    "    \n",
    "    \"\"\"\n",
    "    \n",
    "    Prepare X and y\n",
    "    \n",
    "    \"\"\"\n",
    "    \n",
    "    X = df[['MA5', 'MA20', 'MA60', 'MA120', 'Volume', 'Change', 'Open', 'High', 'Low']]\n",
    "    y = df['y']\n",
    "    \n",
    "    X = X[:-1]\n",
    "    y = y[1:]\n",
    "    \n",
    "    return X, y"
   ]
  },
  {
   "cell_type": "code",
   "execution_count": 18,
   "id": "aef2b0a4",
   "metadata": {},
   "outputs": [],
   "source": [
    "X, y = split_x_y(df)"
   ]
  },
  {
   "cell_type": "code",
   "execution_count": 19,
   "id": "8f6ab68e",
   "metadata": {},
   "outputs": [
    {
     "data": {
      "text/html": [
       "<div>\n",
       "<style scoped>\n",
       "    .dataframe tbody tr th:only-of-type {\n",
       "        vertical-align: middle;\n",
       "    }\n",
       "\n",
       "    .dataframe tbody tr th {\n",
       "        vertical-align: top;\n",
       "    }\n",
       "\n",
       "    .dataframe thead th {\n",
       "        text-align: right;\n",
       "    }\n",
       "</style>\n",
       "<table border=\"1\" class=\"dataframe\">\n",
       "  <thead>\n",
       "    <tr style=\"text-align: right;\">\n",
       "      <th></th>\n",
       "      <th>MA5</th>\n",
       "      <th>MA20</th>\n",
       "      <th>MA60</th>\n",
       "      <th>MA120</th>\n",
       "      <th>Volume</th>\n",
       "      <th>Change</th>\n",
       "      <th>Open</th>\n",
       "      <th>High</th>\n",
       "      <th>Low</th>\n",
       "    </tr>\n",
       "    <tr>\n",
       "      <th>Date</th>\n",
       "      <th></th>\n",
       "      <th></th>\n",
       "      <th></th>\n",
       "      <th></th>\n",
       "      <th></th>\n",
       "      <th></th>\n",
       "      <th></th>\n",
       "      <th></th>\n",
       "      <th></th>\n",
       "    </tr>\n",
       "  </thead>\n",
       "  <tbody>\n",
       "    <tr>\n",
       "      <th>2023-01-17</th>\n",
       "      <td>-0.011164</td>\n",
       "      <td>0.039738</td>\n",
       "      <td>-0.048339</td>\n",
       "      <td>-0.184804</td>\n",
       "      <td>466629</td>\n",
       "      <td>-0.023364</td>\n",
       "      <td>0.025518</td>\n",
       "      <td>0.036683</td>\n",
       "      <td>-0.007974</td>\n",
       "    </tr>\n",
       "    <tr>\n",
       "      <th>2023-01-18</th>\n",
       "      <td>-0.026667</td>\n",
       "      <td>0.019954</td>\n",
       "      <td>-0.064953</td>\n",
       "      <td>-0.205934</td>\n",
       "      <td>336558</td>\n",
       "      <td>-0.019139</td>\n",
       "      <td>0.019512</td>\n",
       "      <td>0.022764</td>\n",
       "      <td>-0.001626</td>\n",
       "    </tr>\n",
       "    <tr>\n",
       "      <th>2023-01-19</th>\n",
       "      <td>-0.008654</td>\n",
       "      <td>0.031721</td>\n",
       "      <td>-0.046228</td>\n",
       "      <td>-0.186588</td>\n",
       "      <td>326462</td>\n",
       "      <td>0.014634</td>\n",
       "      <td>-0.019231</td>\n",
       "      <td>0.009615</td>\n",
       "      <td>-0.032051</td>\n",
       "    </tr>\n",
       "  </tbody>\n",
       "</table>\n",
       "</div>"
      ],
      "text/plain": [
       "                 MA5      MA20      MA60     MA120  Volume    Change  \\\n",
       "Date                                                                   \n",
       "2023-01-17 -0.011164  0.039738 -0.048339 -0.184804  466629 -0.023364   \n",
       "2023-01-18 -0.026667  0.019954 -0.064953 -0.205934  336558 -0.019139   \n",
       "2023-01-19 -0.008654  0.031721 -0.046228 -0.186588  326462  0.014634   \n",
       "\n",
       "                Open      High       Low  \n",
       "Date                                      \n",
       "2023-01-17  0.025518  0.036683 -0.007974  \n",
       "2023-01-18  0.019512  0.022764 -0.001626  \n",
       "2023-01-19 -0.019231  0.009615 -0.032051  "
      ]
     },
     "execution_count": 19,
     "metadata": {},
     "output_type": "execute_result"
    }
   ],
   "source": [
    "X.tail(3)"
   ]
  },
  {
   "cell_type": "code",
   "execution_count": 20,
   "id": "34f26f02",
   "metadata": {},
   "outputs": [
    {
     "data": {
      "text/plain": [
       "Date\n",
       "2023-01-18    0\n",
       "2023-01-19    1\n",
       "2023-01-20    0\n",
       "Name: y, dtype: int32"
      ]
     },
     "execution_count": 20,
     "metadata": {},
     "output_type": "execute_result"
    }
   ],
   "source": [
    "y.tail(3)"
   ]
  },
  {
   "cell_type": "code",
   "execution_count": 21,
   "id": "1c15940d",
   "metadata": {},
   "outputs": [],
   "source": [
    "from sklearn.model_selection import train_test_split\n",
    "X_train, X_test, y_train, y_test = train_test_split(X, y, random_state=42)"
   ]
  },
  {
   "cell_type": "markdown",
   "id": "58ce38f5",
   "metadata": {},
   "source": [
    "## Scaler"
   ]
  },
  {
   "cell_type": "code",
   "execution_count": 22,
   "id": "45081680",
   "metadata": {},
   "outputs": [],
   "source": [
    "from sklearn.preprocessing import StandardScaler\n",
    "scaler = StandardScaler()\n",
    "scaler.fit(X_train)\n",
    "X_train = scaler.transform(X_train)\n",
    "X_test = scaler.transform(X_test)"
   ]
  },
  {
   "cell_type": "markdown",
   "id": "dcd14eee",
   "metadata": {},
   "source": [
    "## PCA"
   ]
  },
  {
   "cell_type": "code",
   "execution_count": 23,
   "id": "3ef94c75",
   "metadata": {},
   "outputs": [],
   "source": [
    "from sklearn.decomposition import PCA\n",
    "pca = PCA(n_components=2)\n",
    "pca.fit(X_train)\n",
    "X_train = pca.transform(X_train)\n",
    "X_test = pca.transform(X_test)"
   ]
  },
  {
   "cell_type": "markdown",
   "id": "b102c777",
   "metadata": {},
   "source": [
    "## Model"
   ]
  },
  {
   "cell_type": "code",
   "execution_count": 24,
   "id": "90143b2d",
   "metadata": {},
   "outputs": [],
   "source": [
    "from keras.optimizers import Adagrad\n",
    "from keras.models import Sequential\n",
    "from keras.layers import Dropout\n",
    "from keras.layers import Dense"
   ]
  },
  {
   "cell_type": "code",
   "execution_count": 25,
   "id": "4d0d3273",
   "metadata": {},
   "outputs": [],
   "source": [
    "model = Sequential()\n",
    "model.add(Dense(12, input_dim=2, activation='relu'))\n",
    "model.add(Dropout(0.1))\n",
    "model.add(Dense(12, activation='relu'))\n",
    "model.add(Dropout(0.1))\n",
    "model.add(Dense(1, activation='sigmoid'))\n",
    "optimizer = Adagrad(learning_rate=0.2)"
   ]
  },
  {
   "cell_type": "code",
   "execution_count": 26,
   "id": "7767c91d",
   "metadata": {},
   "outputs": [
    {
     "name": "stdout",
     "output_type": "stream",
     "text": [
      "Model: \"sequential\"\n",
      "_________________________________________________________________\n",
      " Layer (type)                Output Shape              Param #   \n",
      "=================================================================\n",
      " dense (Dense)               (None, 12)                36        \n",
      "                                                                 \n",
      " dropout (Dropout)           (None, 12)                0         \n",
      "                                                                 \n",
      " dense_1 (Dense)             (None, 12)                156       \n",
      "                                                                 \n",
      " dropout_1 (Dropout)         (None, 12)                0         \n",
      "                                                                 \n",
      " dense_2 (Dense)             (None, 1)                 13        \n",
      "                                                                 \n",
      "=================================================================\n",
      "Total params: 205\n",
      "Trainable params: 205\n",
      "Non-trainable params: 0\n",
      "_________________________________________________________________\n"
     ]
    }
   ],
   "source": [
    "model.compile(loss='binary_crossentropy', optimizer=optimizer, metrics=['accuracy'])\n",
    "model.summary()"
   ]
  },
  {
   "cell_type": "code",
   "execution_count": 27,
   "id": "4a803cde",
   "metadata": {},
   "outputs": [
    {
     "name": "stdout",
     "output_type": "stream",
     "text": [
      "Epoch 1/40\n",
      "75/75 [==============================] - 1s 2ms/step - loss: 0.7001 - accuracy: 0.5494\n",
      "Epoch 2/40\n",
      "75/75 [==============================] - 0s 2ms/step - loss: 0.6908 - accuracy: 0.5474\n",
      "Epoch 3/40\n",
      "75/75 [==============================] - 0s 2ms/step - loss: 0.6846 - accuracy: 0.5716\n",
      "Epoch 4/40\n",
      "75/75 [==============================] - 0s 2ms/step - loss: 0.6854 - accuracy: 0.5669\n",
      "Epoch 5/40\n",
      "75/75 [==============================] - 0s 2ms/step - loss: 0.6876 - accuracy: 0.5555\n",
      "Epoch 6/40\n",
      "75/75 [==============================] - 0s 2ms/step - loss: 0.6838 - accuracy: 0.5602\n",
      "Epoch 7/40\n",
      "75/75 [==============================] - 0s 2ms/step - loss: 0.6858 - accuracy: 0.5602\n",
      "Epoch 8/40\n",
      "75/75 [==============================] - 0s 2ms/step - loss: 0.6869 - accuracy: 0.5501\n",
      "Epoch 9/40\n",
      "75/75 [==============================] - 0s 2ms/step - loss: 0.6841 - accuracy: 0.5636\n",
      "Epoch 10/40\n",
      "75/75 [==============================] - 0s 2ms/step - loss: 0.6849 - accuracy: 0.5609\n",
      "Epoch 11/40\n",
      "75/75 [==============================] - 0s 2ms/step - loss: 0.6835 - accuracy: 0.5555\n",
      "Epoch 12/40\n",
      "75/75 [==============================] - 0s 2ms/step - loss: 0.6834 - accuracy: 0.5636\n",
      "Epoch 13/40\n",
      "75/75 [==============================] - 0s 2ms/step - loss: 0.6858 - accuracy: 0.5615\n",
      "Epoch 14/40\n",
      "75/75 [==============================] - 0s 2ms/step - loss: 0.6845 - accuracy: 0.5481\n",
      "Epoch 15/40\n",
      "75/75 [==============================] - 0s 2ms/step - loss: 0.6840 - accuracy: 0.5662\n",
      "Epoch 16/40\n",
      "75/75 [==============================] - 0s 2ms/step - loss: 0.6855 - accuracy: 0.5602\n",
      "Epoch 17/40\n",
      "75/75 [==============================] - 0s 2ms/step - loss: 0.6820 - accuracy: 0.5683\n",
      "Epoch 18/40\n",
      "75/75 [==============================] - 0s 2ms/step - loss: 0.6838 - accuracy: 0.5609\n",
      "Epoch 19/40\n",
      "75/75 [==============================] - 0s 2ms/step - loss: 0.6819 - accuracy: 0.5595\n",
      "Epoch 20/40\n",
      "75/75 [==============================] - 0s 2ms/step - loss: 0.6829 - accuracy: 0.5588\n",
      "Epoch 21/40\n",
      "75/75 [==============================] - 0s 2ms/step - loss: 0.6849 - accuracy: 0.5595\n",
      "Epoch 22/40\n",
      "75/75 [==============================] - 0s 2ms/step - loss: 0.6826 - accuracy: 0.5615\n",
      "Epoch 23/40\n",
      "75/75 [==============================] - 0s 2ms/step - loss: 0.6822 - accuracy: 0.5662\n",
      "Epoch 24/40\n",
      "75/75 [==============================] - 0s 2ms/step - loss: 0.6822 - accuracy: 0.5622\n",
      "Epoch 25/40\n",
      "75/75 [==============================] - 0s 2ms/step - loss: 0.6843 - accuracy: 0.5669\n",
      "Epoch 26/40\n",
      "75/75 [==============================] - 0s 2ms/step - loss: 0.6830 - accuracy: 0.5629\n",
      "Epoch 27/40\n",
      "75/75 [==============================] - 0s 2ms/step - loss: 0.6834 - accuracy: 0.5622\n",
      "Epoch 28/40\n",
      "75/75 [==============================] - 0s 2ms/step - loss: 0.6810 - accuracy: 0.5730\n",
      "Epoch 29/40\n",
      "75/75 [==============================] - 0s 2ms/step - loss: 0.6834 - accuracy: 0.5703\n",
      "Epoch 30/40\n",
      "75/75 [==============================] - 0s 2ms/step - loss: 0.6850 - accuracy: 0.5582\n",
      "Epoch 31/40\n",
      "75/75 [==============================] - 0s 2ms/step - loss: 0.6817 - accuracy: 0.5662\n",
      "Epoch 32/40\n",
      "75/75 [==============================] - 0s 2ms/step - loss: 0.6831 - accuracy: 0.5649\n",
      "Epoch 33/40\n",
      "75/75 [==============================] - 0s 2ms/step - loss: 0.6798 - accuracy: 0.5770\n",
      "Epoch 34/40\n",
      "75/75 [==============================] - 0s 2ms/step - loss: 0.6824 - accuracy: 0.5689\n",
      "Epoch 35/40\n",
      "75/75 [==============================] - 0s 2ms/step - loss: 0.6816 - accuracy: 0.5696\n",
      "Epoch 36/40\n",
      "75/75 [==============================] - 0s 2ms/step - loss: 0.6805 - accuracy: 0.5703\n",
      "Epoch 37/40\n",
      "75/75 [==============================] - 0s 2ms/step - loss: 0.6817 - accuracy: 0.5689\n",
      "Epoch 38/40\n",
      "75/75 [==============================] - 0s 2ms/step - loss: 0.6808 - accuracy: 0.5629\n",
      "Epoch 39/40\n",
      "75/75 [==============================] - 0s 2ms/step - loss: 0.6831 - accuracy: 0.5703\n",
      "Epoch 40/40\n",
      "75/75 [==============================] - 0s 2ms/step - loss: 0.6826 - accuracy: 0.5683\n"
     ]
    },
    {
     "data": {
      "text/plain": [
       "<keras.callbacks.History at 0x2a83748e100>"
      ]
     },
     "execution_count": 27,
     "metadata": {},
     "output_type": "execute_result"
    }
   ],
   "source": [
    "model.fit(X_train, y_train, epochs=40, batch_size=20)"
   ]
  },
  {
   "cell_type": "code",
   "execution_count": 28,
   "id": "615535c6",
   "metadata": {},
   "outputs": [
    {
     "name": "stdout",
     "output_type": "stream",
     "text": [
      "16/16 [==============================] - 0s 2ms/step - loss: 0.6880 - accuracy: 0.5565\n",
      "0.5564516186714172\n"
     ]
    }
   ],
   "source": [
    "_, accuracy = model.evaluate(X_test, y_test)\n",
    "print(accuracy)"
   ]
  },
  {
   "cell_type": "code",
   "execution_count": 29,
   "id": "3a3f409e",
   "metadata": {},
   "outputs": [
    {
     "name": "stdout",
     "output_type": "stream",
     "text": [
      "16/16 [==============================] - 0s 1ms/step\n"
     ]
    }
   ],
   "source": [
    "y_pred = model.predict(X_test)"
   ]
  },
  {
   "cell_type": "code",
   "execution_count": 30,
   "id": "52282296",
   "metadata": {},
   "outputs": [],
   "source": [
    "from sklearn import metrics\n",
    "import numpy as np"
   ]
  },
  {
   "cell_type": "code",
   "execution_count": 31,
   "id": "b41652bf",
   "metadata": {},
   "outputs": [
    {
     "data": {
      "text/plain": [
       "array([[216,  54],\n",
       "       [166,  60]], dtype=int64)"
      ]
     },
     "execution_count": 31,
     "metadata": {},
     "output_type": "execute_result"
    }
   ],
   "source": [
    "confusion_matrix = metrics.confusion_matrix(y_test, np.rint(y_pred))\n",
    "confusion_matrix"
   ]
  },
  {
   "cell_type": "markdown",
   "id": "8bce881f",
   "metadata": {},
   "source": [
    "## Save"
   ]
  },
  {
   "cell_type": "code",
   "execution_count": 32,
   "id": "68679c14",
   "metadata": {},
   "outputs": [
    {
     "data": {
      "text/plain": [
       "['./database/nextprice_scaler.pkl']"
      ]
     },
     "execution_count": 32,
     "metadata": {},
     "output_type": "execute_result"
    }
   ],
   "source": [
    "import joblib\n",
    "joblib.dump(scaler, './database/nextprice_scaler.pkl')"
   ]
  },
  {
   "cell_type": "code",
   "execution_count": 33,
   "id": "adf08d46",
   "metadata": {},
   "outputs": [],
   "source": [
    "import pickle\n",
    "pickle.dump(pca, open('./database/nextprice_pca.pkl','wb'))"
   ]
  },
  {
   "cell_type": "code",
   "execution_count": 34,
   "id": "aad26fb0",
   "metadata": {},
   "outputs": [],
   "source": [
    "from tensorflow import keras\n",
    "model.save('./database/nextprice_model.h5')"
   ]
  },
  {
   "cell_type": "markdown",
   "id": "9aac6f27",
   "metadata": {},
   "source": [
    "## Load"
   ]
  },
  {
   "cell_type": "code",
   "execution_count": 35,
   "id": "4b2fc342",
   "metadata": {},
   "outputs": [],
   "source": [
    "import joblib\n",
    "scaler = joblib.load('./database/nextprice_scaler.pkl')"
   ]
  },
  {
   "cell_type": "code",
   "execution_count": 36,
   "id": "fa9ec0b6",
   "metadata": {},
   "outputs": [],
   "source": [
    "import pickle\n",
    "pca = pickle.load(open('./database/nextprice_pca.pkl','rb'))"
   ]
  },
  {
   "cell_type": "code",
   "execution_count": 37,
   "id": "db793950",
   "metadata": {},
   "outputs": [],
   "source": [
    "from tensorflow import keras\n",
    "model = keras.models.load_model('./database/nextprice_model.h5')"
   ]
  },
  {
   "cell_type": "markdown",
   "id": "0edc6612",
   "metadata": {},
   "source": [
    "## Prediction"
   ]
  },
  {
   "cell_type": "code",
   "execution_count": 38,
   "id": "cfbab58a",
   "metadata": {},
   "outputs": [
    {
     "name": "stdout",
     "output_type": "stream",
     "text": [
      "028300\n"
     ]
    }
   ],
   "source": [
    "print(firm_code)"
   ]
  },
  {
   "cell_type": "code",
   "execution_count": 39,
   "id": "ada04630",
   "metadata": {},
   "outputs": [
    {
     "data": {
      "text/html": [
       "<div>\n",
       "<style scoped>\n",
       "    .dataframe tbody tr th:only-of-type {\n",
       "        vertical-align: middle;\n",
       "    }\n",
       "\n",
       "    .dataframe tbody tr th {\n",
       "        vertical-align: top;\n",
       "    }\n",
       "\n",
       "    .dataframe thead th {\n",
       "        text-align: right;\n",
       "    }\n",
       "</style>\n",
       "<table border=\"1\" class=\"dataframe\">\n",
       "  <thead>\n",
       "    <tr style=\"text-align: right;\">\n",
       "      <th></th>\n",
       "      <th>Open</th>\n",
       "      <th>High</th>\n",
       "      <th>Low</th>\n",
       "      <th>Close</th>\n",
       "      <th>Volume</th>\n",
       "      <th>Change</th>\n",
       "    </tr>\n",
       "    <tr>\n",
       "      <th>Date</th>\n",
       "      <th></th>\n",
       "      <th></th>\n",
       "      <th></th>\n",
       "      <th></th>\n",
       "      <th></th>\n",
       "      <th></th>\n",
       "    </tr>\n",
       "  </thead>\n",
       "  <tbody>\n",
       "    <tr>\n",
       "      <th>2023-01-20</th>\n",
       "      <td>31000</td>\n",
       "      <td>31400</td>\n",
       "      <td>30900</td>\n",
       "      <td>31050</td>\n",
       "      <td>205834</td>\n",
       "      <td>-0.004808</td>\n",
       "    </tr>\n",
       "  </tbody>\n",
       "</table>\n",
       "</div>"
      ],
      "text/plain": [
       "             Open   High    Low  Close  Volume    Change\n",
       "Date                                                    \n",
       "2023-01-20  31000  31400  30900  31050  205834 -0.004808"
      ]
     },
     "execution_count": 39,
     "metadata": {},
     "output_type": "execute_result"
    }
   ],
   "source": [
    "df = fdr.DataReader(symbol=firm_code)\n",
    "df.tail(1)"
   ]
  },
  {
   "cell_type": "code",
   "execution_count": 40,
   "id": "19a21557",
   "metadata": {},
   "outputs": [
    {
     "data": {
      "text/html": [
       "<div>\n",
       "<style scoped>\n",
       "    .dataframe tbody tr th:only-of-type {\n",
       "        vertical-align: middle;\n",
       "    }\n",
       "\n",
       "    .dataframe tbody tr th {\n",
       "        vertical-align: top;\n",
       "    }\n",
       "\n",
       "    .dataframe thead th {\n",
       "        text-align: right;\n",
       "    }\n",
       "</style>\n",
       "<table border=\"1\" class=\"dataframe\">\n",
       "  <thead>\n",
       "    <tr style=\"text-align: right;\">\n",
       "      <th></th>\n",
       "      <th>Open</th>\n",
       "      <th>High</th>\n",
       "      <th>Low</th>\n",
       "      <th>Close</th>\n",
       "      <th>Volume</th>\n",
       "      <th>Change</th>\n",
       "      <th>MA5</th>\n",
       "      <th>MA20</th>\n",
       "      <th>MA60</th>\n",
       "      <th>MA120</th>\n",
       "    </tr>\n",
       "    <tr>\n",
       "      <th>Date</th>\n",
       "      <th></th>\n",
       "      <th></th>\n",
       "      <th></th>\n",
       "      <th></th>\n",
       "      <th></th>\n",
       "      <th></th>\n",
       "      <th></th>\n",
       "      <th></th>\n",
       "      <th></th>\n",
       "      <th></th>\n",
       "    </tr>\n",
       "  </thead>\n",
       "  <tbody>\n",
       "    <tr>\n",
       "      <th>2023-01-20</th>\n",
       "      <td>31000</td>\n",
       "      <td>31400</td>\n",
       "      <td>30900</td>\n",
       "      <td>31050</td>\n",
       "      <td>205834</td>\n",
       "      <td>-0.004808</td>\n",
       "      <td>-0.007729</td>\n",
       "      <td>0.026915</td>\n",
       "      <td>-0.04733</td>\n",
       "      <td>-0.190394</td>\n",
       "    </tr>\n",
       "  </tbody>\n",
       "</table>\n",
       "</div>"
      ],
      "text/plain": [
       "             Open   High    Low  Close  Volume    Change       MA5      MA20  \\\n",
       "Date                                                                           \n",
       "2023-01-20  31000  31400  30900  31050  205834 -0.004808 -0.007729  0.026915   \n",
       "\n",
       "               MA60     MA120  \n",
       "Date                           \n",
       "2023-01-20 -0.04733 -0.190394  "
      ]
     },
     "execution_count": 40,
     "metadata": {},
     "output_type": "execute_result"
    }
   ],
   "source": [
    "df = moving_average(df, change=True)\n",
    "df.tail(1)"
   ]
  },
  {
   "cell_type": "code",
   "execution_count": 41,
   "id": "777b71b2",
   "metadata": {},
   "outputs": [
    {
     "data": {
      "text/html": [
       "<div>\n",
       "<style scoped>\n",
       "    .dataframe tbody tr th:only-of-type {\n",
       "        vertical-align: middle;\n",
       "    }\n",
       "\n",
       "    .dataframe tbody tr th {\n",
       "        vertical-align: top;\n",
       "    }\n",
       "\n",
       "    .dataframe thead th {\n",
       "        text-align: right;\n",
       "    }\n",
       "</style>\n",
       "<table border=\"1\" class=\"dataframe\">\n",
       "  <thead>\n",
       "    <tr style=\"text-align: right;\">\n",
       "      <th></th>\n",
       "      <th>Open</th>\n",
       "      <th>High</th>\n",
       "      <th>Low</th>\n",
       "      <th>Close</th>\n",
       "      <th>Volume</th>\n",
       "      <th>Change</th>\n",
       "      <th>MA5</th>\n",
       "      <th>MA20</th>\n",
       "      <th>MA60</th>\n",
       "      <th>MA120</th>\n",
       "    </tr>\n",
       "    <tr>\n",
       "      <th>Date</th>\n",
       "      <th></th>\n",
       "      <th></th>\n",
       "      <th></th>\n",
       "      <th></th>\n",
       "      <th></th>\n",
       "      <th></th>\n",
       "      <th></th>\n",
       "      <th></th>\n",
       "      <th></th>\n",
       "      <th></th>\n",
       "    </tr>\n",
       "  </thead>\n",
       "  <tbody>\n",
       "    <tr>\n",
       "      <th>2023-01-20</th>\n",
       "      <td>-0.00161</td>\n",
       "      <td>0.011272</td>\n",
       "      <td>-0.004831</td>\n",
       "      <td>31050</td>\n",
       "      <td>205834</td>\n",
       "      <td>-0.004808</td>\n",
       "      <td>-0.007729</td>\n",
       "      <td>0.026915</td>\n",
       "      <td>-0.04733</td>\n",
       "      <td>-0.190394</td>\n",
       "    </tr>\n",
       "  </tbody>\n",
       "</table>\n",
       "</div>"
      ],
      "text/plain": [
       "               Open      High       Low  Close  Volume    Change       MA5  \\\n",
       "Date                                                                         \n",
       "2023-01-20 -0.00161  0.011272 -0.004831  31050  205834 -0.004808 -0.007729   \n",
       "\n",
       "                MA20     MA60     MA120  \n",
       "Date                                     \n",
       "2023-01-20  0.026915 -0.04733 -0.190394  "
      ]
     },
     "execution_count": 41,
     "metadata": {},
     "output_type": "execute_result"
    }
   ],
   "source": [
    "df = changing_price(df)\n",
    "df.tail(1)"
   ]
  },
  {
   "cell_type": "code",
   "execution_count": 42,
   "id": "48703807",
   "metadata": {},
   "outputs": [
    {
     "data": {
      "text/html": [
       "<div>\n",
       "<style scoped>\n",
       "    .dataframe tbody tr th:only-of-type {\n",
       "        vertical-align: middle;\n",
       "    }\n",
       "\n",
       "    .dataframe tbody tr th {\n",
       "        vertical-align: top;\n",
       "    }\n",
       "\n",
       "    .dataframe thead th {\n",
       "        text-align: right;\n",
       "    }\n",
       "</style>\n",
       "<table border=\"1\" class=\"dataframe\">\n",
       "  <thead>\n",
       "    <tr style=\"text-align: right;\">\n",
       "      <th></th>\n",
       "      <th>MA5</th>\n",
       "      <th>MA20</th>\n",
       "      <th>MA60</th>\n",
       "      <th>MA120</th>\n",
       "      <th>Volume</th>\n",
       "      <th>Change</th>\n",
       "      <th>Open</th>\n",
       "      <th>High</th>\n",
       "      <th>Low</th>\n",
       "    </tr>\n",
       "    <tr>\n",
       "      <th>Date</th>\n",
       "      <th></th>\n",
       "      <th></th>\n",
       "      <th></th>\n",
       "      <th></th>\n",
       "      <th></th>\n",
       "      <th></th>\n",
       "      <th></th>\n",
       "      <th></th>\n",
       "      <th></th>\n",
       "    </tr>\n",
       "  </thead>\n",
       "  <tbody>\n",
       "    <tr>\n",
       "      <th>2023-01-20</th>\n",
       "      <td>-0.007729</td>\n",
       "      <td>0.026915</td>\n",
       "      <td>-0.04733</td>\n",
       "      <td>-0.190394</td>\n",
       "      <td>205834</td>\n",
       "      <td>-0.004808</td>\n",
       "      <td>-0.00161</td>\n",
       "      <td>0.011272</td>\n",
       "      <td>-0.004831</td>\n",
       "    </tr>\n",
       "  </tbody>\n",
       "</table>\n",
       "</div>"
      ],
      "text/plain": [
       "                 MA5      MA20     MA60     MA120  Volume    Change     Open  \\\n",
       "Date                                                                           \n",
       "2023-01-20 -0.007729  0.026915 -0.04733 -0.190394  205834 -0.004808 -0.00161   \n",
       "\n",
       "                High       Low  \n",
       "Date                            \n",
       "2023-01-20  0.011272 -0.004831  "
      ]
     },
     "execution_count": 42,
     "metadata": {},
     "output_type": "execute_result"
    }
   ],
   "source": [
    "df = df[['MA5', 'MA20', 'MA60', 'MA120', 'Volume', 'Change', 'Open', 'High', 'Low']]\n",
    "df.tail(1)"
   ]
  },
  {
   "cell_type": "code",
   "execution_count": 43,
   "id": "e4ab7f56",
   "metadata": {},
   "outputs": [
    {
     "data": {
      "text/html": [
       "<div>\n",
       "<style scoped>\n",
       "    .dataframe tbody tr th:only-of-type {\n",
       "        vertical-align: middle;\n",
       "    }\n",
       "\n",
       "    .dataframe tbody tr th {\n",
       "        vertical-align: top;\n",
       "    }\n",
       "\n",
       "    .dataframe thead th {\n",
       "        text-align: right;\n",
       "    }\n",
       "</style>\n",
       "<table border=\"1\" class=\"dataframe\">\n",
       "  <thead>\n",
       "    <tr style=\"text-align: right;\">\n",
       "      <th></th>\n",
       "      <th>MA5</th>\n",
       "      <th>MA20</th>\n",
       "      <th>MA60</th>\n",
       "      <th>MA120</th>\n",
       "      <th>Volume</th>\n",
       "      <th>Change</th>\n",
       "      <th>Open</th>\n",
       "      <th>High</th>\n",
       "      <th>Low</th>\n",
       "    </tr>\n",
       "    <tr>\n",
       "      <th>Date</th>\n",
       "      <th></th>\n",
       "      <th></th>\n",
       "      <th></th>\n",
       "      <th></th>\n",
       "      <th></th>\n",
       "      <th></th>\n",
       "      <th></th>\n",
       "      <th></th>\n",
       "      <th></th>\n",
       "    </tr>\n",
       "  </thead>\n",
       "  <tbody>\n",
       "    <tr>\n",
       "      <th>2023-01-20</th>\n",
       "      <td>-0.007729</td>\n",
       "      <td>0.026915</td>\n",
       "      <td>-0.04733</td>\n",
       "      <td>-0.190394</td>\n",
       "      <td>205834</td>\n",
       "      <td>-0.004808</td>\n",
       "      <td>-0.00161</td>\n",
       "      <td>0.011272</td>\n",
       "      <td>-0.004831</td>\n",
       "    </tr>\n",
       "  </tbody>\n",
       "</table>\n",
       "</div>"
      ],
      "text/plain": [
       "                 MA5      MA20     MA60     MA120  Volume    Change     Open  \\\n",
       "Date                                                                           \n",
       "2023-01-20 -0.007729  0.026915 -0.04733 -0.190394  205834 -0.004808 -0.00161   \n",
       "\n",
       "                High       Low  \n",
       "Date                            \n",
       "2023-01-20  0.011272 -0.004831  "
      ]
     },
     "execution_count": 43,
     "metadata": {},
     "output_type": "execute_result"
    }
   ],
   "source": [
    "df = df[-1:]\n",
    "df"
   ]
  },
  {
   "cell_type": "code",
   "execution_count": 44,
   "id": "72f9bbfb",
   "metadata": {},
   "outputs": [
    {
     "data": {
      "text/plain": [
       "array([[-0.11464688,  0.22414763, -0.15675853, -0.58138851, -0.56000853,\n",
       "        -0.13355813, -0.08123701, -0.66088849,  0.76185223]])"
      ]
     },
     "execution_count": 44,
     "metadata": {},
     "output_type": "execute_result"
    }
   ],
   "source": [
    "df = scaler.transform(df)\n",
    "df"
   ]
  },
  {
   "cell_type": "code",
   "execution_count": 45,
   "id": "3082c228",
   "metadata": {},
   "outputs": [
    {
     "data": {
      "text/plain": [
       "array([[ 0.29338278, -0.48374446]])"
      ]
     },
     "execution_count": 45,
     "metadata": {},
     "output_type": "execute_result"
    }
   ],
   "source": [
    "df = pca.transform(df)\n",
    "df"
   ]
  },
  {
   "cell_type": "code",
   "execution_count": 46,
   "id": "05616708",
   "metadata": {},
   "outputs": [
    {
     "name": "stdout",
     "output_type": "stream",
     "text": [
      "1/1 [==============================] - 0s 62ms/step\n",
      "[[0.4353919]]\n"
     ]
    }
   ],
   "source": [
    "prediction = model.predict(df)\n",
    "print(prediction)"
   ]
  }
 ],
 "metadata": {
  "kernelspec": {
   "display_name": "Python 3 (ipykernel)",
   "language": "python",
   "name": "python3"
  },
  "language_info": {
   "codemirror_mode": {
    "name": "ipython",
    "version": 3
   },
   "file_extension": ".py",
   "mimetype": "text/x-python",
   "name": "python",
   "nbconvert_exporter": "python",
   "pygments_lexer": "ipython3",
   "version": "3.9.13"
  }
 },
 "nbformat": 4,
 "nbformat_minor": 5
}
